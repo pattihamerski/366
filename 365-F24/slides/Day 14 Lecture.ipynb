{
 "cells": [
  {
   "cell_type": "code",
   "execution_count": 1,
   "id": "535dda42-860c-4a01-a3ae-d73754b1343d",
   "metadata": {},
   "outputs": [
    {
     "name": "stdout",
     "output_type": "stream",
     "text": [
      "-5.0 5.0\n"
     ]
    }
   ],
   "source": [
    "import numpy as np\n",
    "\n",
    "a1 = 1\n",
    "b1 = 0\n",
    "c1 = -25\n",
    "\n",
    "qf1_plus = (-b1 + np.sqrt(b1 ** 2 - 4 * a1 * c1)) / (2 * a1)  \n",
    "qf1_minus = (-b1 - np.sqrt(b1 ** 2 - 4 * a1 * c1)) / (2 * a1)  \n",
    "\n",
    "print(qf1_minus, qf1_plus)"
   ]
  },
  {
   "cell_type": "code",
   "execution_count": null,
   "id": "083d6f45-cd7f-42d9-b87c-fa9f7deffedf",
   "metadata": {},
   "outputs": [],
   "source": []
  },
  {
   "cell_type": "code",
   "execution_count": null,
   "id": "68714100-fb10-4a08-b0ac-47fd51759946",
   "metadata": {},
   "outputs": [],
   "source": []
  },
  {
   "cell_type": "code",
   "execution_count": null,
   "id": "9007ef9b-9e7e-491f-a22e-4e41e00263bb",
   "metadata": {},
   "outputs": [],
   "source": []
  },
  {
   "cell_type": "code",
   "execution_count": null,
   "id": "b98a39bd-e86b-4183-b5f3-67f5bd4c1c20",
   "metadata": {},
   "outputs": [],
   "source": []
  },
  {
   "cell_type": "code",
   "execution_count": 2,
   "id": "c4375af0-65eb-48b2-a1b4-9e75f71e1d65",
   "metadata": {},
   "outputs": [
    {
     "ename": "NameError",
     "evalue": "name 'b' is not defined",
     "output_type": "error",
     "traceback": [
      "\u001b[0;31m---------------------------------------------------------------------------\u001b[0m",
      "\u001b[0;31mNameError\u001b[0m                                 Traceback (most recent call last)",
      "Cell \u001b[0;32mIn[2], line 6\u001b[0m\n\u001b[1;32m      3\u001b[0m     qf_minus \u001b[38;5;241m=\u001b[39m (\u001b[38;5;241m-\u001b[39mb \u001b[38;5;241m-\u001b[39m np\u001b[38;5;241m.\u001b[39msqrt(b \u001b[38;5;241m*\u001b[39m\u001b[38;5;241m*\u001b[39m \u001b[38;5;241m2\u001b[39m \u001b[38;5;241m-\u001b[39m \u001b[38;5;241m4\u001b[39m \u001b[38;5;241m*\u001b[39m a \u001b[38;5;241m*\u001b[39m c)) \u001b[38;5;241m/\u001b[39m (\u001b[38;5;241m2\u001b[39m \u001b[38;5;241m*\u001b[39m a)  \n\u001b[1;32m      4\u001b[0m     \u001b[38;5;28mprint\u001b[39m(qf1_minus, qf1_plus)\n\u001b[0;32m----> 6\u001b[0m quadratic(\u001b[38;5;241m1\u001b[39m, \u001b[38;5;241m0\u001b[39m, \u001b[38;5;241m-\u001b[39m\u001b[38;5;241m25\u001b[39m)\n",
      "Cell \u001b[0;32mIn[2], line 2\u001b[0m, in \u001b[0;36mquadratic\u001b[0;34m(a1, b1, c1)\u001b[0m\n\u001b[1;32m      1\u001b[0m \u001b[38;5;28;01mdef\u001b[39;00m \u001b[38;5;21mquadratic\u001b[39m(a1, b1, c1): \n\u001b[0;32m----> 2\u001b[0m     qf_plus \u001b[38;5;241m=\u001b[39m (\u001b[38;5;241m-\u001b[39mb \u001b[38;5;241m+\u001b[39m np\u001b[38;5;241m.\u001b[39msqrt(b \u001b[38;5;241m*\u001b[39m\u001b[38;5;241m*\u001b[39m \u001b[38;5;241m2\u001b[39m \u001b[38;5;241m-\u001b[39m \u001b[38;5;241m4\u001b[39m \u001b[38;5;241m*\u001b[39m a \u001b[38;5;241m*\u001b[39m c)) \u001b[38;5;241m/\u001b[39m (\u001b[38;5;241m2\u001b[39m \u001b[38;5;241m*\u001b[39m a)  \n\u001b[1;32m      3\u001b[0m     qf_minus \u001b[38;5;241m=\u001b[39m (\u001b[38;5;241m-\u001b[39mb \u001b[38;5;241m-\u001b[39m np\u001b[38;5;241m.\u001b[39msqrt(b \u001b[38;5;241m*\u001b[39m\u001b[38;5;241m*\u001b[39m \u001b[38;5;241m2\u001b[39m \u001b[38;5;241m-\u001b[39m \u001b[38;5;241m4\u001b[39m \u001b[38;5;241m*\u001b[39m a \u001b[38;5;241m*\u001b[39m c)) \u001b[38;5;241m/\u001b[39m (\u001b[38;5;241m2\u001b[39m \u001b[38;5;241m*\u001b[39m a)  \n\u001b[1;32m      4\u001b[0m     \u001b[38;5;28mprint\u001b[39m(qf1_minus, qf1_plus)\n",
      "\u001b[0;31mNameError\u001b[0m: name 'b' is not defined"
     ]
    }
   ],
   "source": [
    "def quadratic(a1, b1, c1): \n",
    "    qf_plus = (-b + np.sqrt(b ** 2 - 4 * a * c)) / (2 * a)  \n",
    "    qf_minus = (-b - np.sqrt(b ** 2 - 4 * a * c)) / (2 * a)  \n",
    "    print(qf1_minus, qf1_plus)\n",
    "\n",
    "quadratic(1, 0, -25)"
   ]
  },
  {
   "cell_type": "code",
   "execution_count": null,
   "id": "799c87ec-18c8-4d62-ab8a-69272b3c6171",
   "metadata": {},
   "outputs": [],
   "source": []
  },
  {
   "cell_type": "code",
   "execution_count": null,
   "id": "8da17b3e-2f15-46aa-9b61-0f4c09503d8f",
   "metadata": {},
   "outputs": [],
   "source": []
  },
  {
   "cell_type": "code",
   "execution_count": null,
   "id": "94de79fa-0feb-4055-85bb-4fa082dc1dee",
   "metadata": {},
   "outputs": [],
   "source": []
  },
  {
   "cell_type": "code",
   "execution_count": 3,
   "id": "e4048503-3362-4587-8433-5aa1fc6e5081",
   "metadata": {},
   "outputs": [
    {
     "name": "stdout",
     "output_type": "stream",
     "text": [
      "-5.0 5.0\n"
     ]
    }
   ],
   "source": [
    "def quadratic(a, b, c): \n",
    "    qf_plus = (-b + np.sqrt(b ** 2 - 4 * a * c)) / (2 * a)  \n",
    "    qf_minus = (-b - np.sqrt(b ** 2 - 4 * a * c)) / (2 * a)  \n",
    "    print(qf_minus, qf_plus)\n",
    "\n",
    "quadratic(1, 0, -25)"
   ]
  },
  {
   "cell_type": "code",
   "execution_count": null,
   "id": "51b3dafc-6bb7-4b56-bf5f-ecbe619604a9",
   "metadata": {},
   "outputs": [],
   "source": []
  },
  {
   "cell_type": "code",
   "execution_count": null,
   "id": "77f842b0-4b4b-4487-80f1-a87c91c2f7a4",
   "metadata": {},
   "outputs": [],
   "source": []
  },
  {
   "cell_type": "code",
   "execution_count": null,
   "id": "5ef68301-221e-4ca1-8bb6-67b3ac46f66a",
   "metadata": {},
   "outputs": [],
   "source": []
  },
  {
   "cell_type": "code",
   "execution_count": 7,
   "id": "bc7e95bc-9851-499c-bad8-f2f00eb49739",
   "metadata": {},
   "outputs": [
    {
     "ename": "NameError",
     "evalue": "name 'a' is not defined",
     "output_type": "error",
     "traceback": [
      "\u001b[0;31m---------------------------------------------------------------------------\u001b[0m",
      "\u001b[0;31mNameError\u001b[0m                                 Traceback (most recent call last)",
      "Cell \u001b[0;32mIn[7], line 6\u001b[0m\n\u001b[1;32m      3\u001b[0m     qf_minus \u001b[38;5;241m=\u001b[39m (\u001b[38;5;241m-\u001b[39mb \u001b[38;5;241m-\u001b[39m np\u001b[38;5;241m.\u001b[39msqrt(b \u001b[38;5;241m*\u001b[39m\u001b[38;5;241m*\u001b[39m \u001b[38;5;241m2\u001b[39m \u001b[38;5;241m-\u001b[39m \u001b[38;5;241m4\u001b[39m \u001b[38;5;241m*\u001b[39m a \u001b[38;5;241m*\u001b[39m c)) \u001b[38;5;241m/\u001b[39m (\u001b[38;5;241m2\u001b[39m \u001b[38;5;241m*\u001b[39m a)  \n\u001b[1;32m      4\u001b[0m     \u001b[38;5;28mprint\u001b[39m(qf_minus, qf_plus)\n\u001b[0;32m----> 6\u001b[0m \u001b[38;5;28mprint\u001b[39m(a)\n",
      "\u001b[0;31mNameError\u001b[0m: name 'a' is not defined"
     ]
    }
   ],
   "source": [
    "def quadratic(a, b, c): \n",
    "    qf_plus = (-b + np.sqrt(b ** 2 - 4 * a * c)) / (2 * a)  \n",
    "    qf_minus = (-b - np.sqrt(b ** 2 - 4 * a * c)) / (2 * a)  \n",
    "    print(qf_minus, qf_plus)\n",
    "\n",
    "print(a)"
   ]
  },
  {
   "cell_type": "code",
   "execution_count": null,
   "id": "add3180e-419e-458e-bd0f-792b157e44b5",
   "metadata": {},
   "outputs": [],
   "source": []
  },
  {
   "cell_type": "code",
   "execution_count": 6,
   "id": "fc606eab-0dc5-45ae-a8f9-e29d1800bc02",
   "metadata": {},
   "outputs": [
    {
     "ename": "SyntaxError",
     "evalue": "invalid syntax (3358875272.py, line 2)",
     "output_type": "error",
     "traceback": [
      "\u001b[0;36m  Cell \u001b[0;32mIn[6], line 2\u001b[0;36m\u001b[0m\n\u001b[0;31m    import = 8\u001b[0m\n\u001b[0m           ^\u001b[0m\n\u001b[0;31mSyntaxError\u001b[0m\u001b[0;31m:\u001b[0m invalid syntax\n"
     ]
    }
   ],
   "source": [
    "g = 6\n",
    "import = 8"
   ]
  },
  {
   "cell_type": "code",
   "execution_count": null,
   "id": "d52fe9c0-0015-45d7-85a1-359b1c4b0251",
   "metadata": {},
   "outputs": [],
   "source": []
  },
  {
   "cell_type": "markdown",
   "id": "b0cf923e-fda7-4cc8-98d4-628d1e6830fb",
   "metadata": {},
   "source": [
    "<img src=\"https://raw.githubusercontent.com/pattihamerski/PH-36X-Public/01e2a7c919212ee28ea6b13619bbdfc2ebad74a6/image/variable-scope.png\" alt=\"\" width=\"600\"/>"
   ]
  },
  {
   "cell_type": "code",
   "execution_count": null,
   "id": "b8009d53-3c4f-4fb3-a469-9e3f0ae3886d",
   "metadata": {},
   "outputs": [],
   "source": [
    "def quadratic(a, b, c): \n",
    "    qf_plus = (-b + np.sqrt(b ** 2 - 4 * a * c)) / (2 * a)  \n",
    "    qf_minus = (-b - np.sqrt(b ** 2 - 4 * a * c)) / (2 * a)  \n",
    "    print(\"The intercepts of\", a, \"x^2 +\", b, \"x +\", c, \"= 0 are\", qf_minus, \"and\", qf_plus)\n",
    "\n",
    "a_test = 1\n",
    "b_test = 5\n",
    "c_test = 6\n",
    "\n",
    "print(qf_minus, qf_plus)"
   ]
  },
  {
   "cell_type": "code",
   "execution_count": null,
   "id": "85eb03b5-44bd-4d40-9de8-d53e7351746e",
   "metadata": {},
   "outputs": [],
   "source": []
  },
  {
   "cell_type": "code",
   "execution_count": null,
   "id": "5a75df11-ac09-4b67-bcbf-bf061e30cf01",
   "metadata": {},
   "outputs": [],
   "source": []
  },
  {
   "cell_type": "code",
   "execution_count": null,
   "id": "422f9722-b2fa-4d9a-bf5d-1fba204c4ed9",
   "metadata": {},
   "outputs": [],
   "source": []
  }
 ],
 "metadata": {
  "kernelspec": {
   "display_name": "Python 3 (ipykernel)",
   "language": "python",
   "name": "python3"
  },
  "language_info": {
   "codemirror_mode": {
    "name": "ipython",
    "version": 3
   },
   "file_extension": ".py",
   "mimetype": "text/x-python",
   "name": "python",
   "nbconvert_exporter": "python",
   "pygments_lexer": "ipython3",
   "version": "3.12.4"
  }
 },
 "nbformat": 4,
 "nbformat_minor": 5
}
