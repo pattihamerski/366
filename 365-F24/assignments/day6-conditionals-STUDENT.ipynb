{
 "cells": [
  {
   "cell_type": "markdown",
   "id": "5fc34461-de29-462f-99b7-3a4c586919a4",
   "metadata": {},
   "source": [
    "# Day 6: Conditional Statements"
   ]
  },
  {
   "cell_type": "markdown",
   "id": "25d939c6-44cd-4686-b23a-d02b23f0d4f9",
   "metadata": {
    "tags": []
   },
   "source": [
    "### &#9989; Write your name here"
   ]
  },
  {
   "cell_type": "markdown",
   "id": "8363b26a-19d3-45f3-b776-b2372f02359f",
   "metadata": {},
   "source": [
    "You might be familiar with flowcharts like the one below. They can help us organize decision-making into a logical structure with steps. In the case below, we can decide how to make a lamp work by performing actions sequentially, and using new information to make each sub-decision along the way."
   ]
  },
  {
   "cell_type": "markdown",
   "id": "de3915d4-2e65-48f4-86ff-12dc567da6f0",
   "metadata": {},
   "source": [
    "<img src=\"https://images.edrawmax.com/images/knowledge/flowchart-1-what.png\" alt=\"Flowchart diagram titled 'Lamp doesn't work'. At the top of the flowchart, an arrow leads into 'Lamp plugged in?' No leads to 'Plus in lamp.' Yes leads to 'Bulb burned out?' Yes leads to 'Replace bulb.' No leads to 'Repair lamp.'\" width=\"200\"/>"
   ]
  },
  {
   "cell_type": "markdown",
   "id": "290055c7-81fe-40a4-baec-ac49d15651df",
   "metadata": {},
   "source": [
    "Computers can also use a type of flowchart structure when executing code. In Python, we call these structures **conditional statements**, or `if`/`elif`/`else` statements. The diamond-shaped \"test expressions\" in the diagram below would correspond to the yellow diamonds with yes/no questions in our lamp example.\n",
    "\n",
    "The main difference between these structures is that instead of asking the computer a yes/no question, we need to pose it a True/False expression (a \"Boolean\"). For example instead of asking, \"is the lamp plugged in?\", we would say \"True or False, the lamp is plugged in.\" Then the computer would evaluate whether the statement is True or False, and proceed from there."
   ]
  },
  {
   "cell_type": "markdown",
   "id": "2a3ab5f4-9f8f-43db-9932-1bcf9634ed96",
   "metadata": {},
   "source": [
    "<img src=\"https://www.gkindex.com/python-tutorial/images/if-elif-else.jpg?ezimgfmt=rs:506x500/rscb1/ng:webp/ngcb1\" alt=\"if-elif-else flowchart diagram. At the top of the flowchart, an arrow leads into 'test expression for if'. True leads to 'body of if'. False leads to 'test expression for elif'. From there, True leads to 'body of elif'. False leads to 'body of else'. All three 'bodies' lead to the end of the flowchart.\" width=\"300\"/>"
   ]
  },
  {
   "cell_type": "markdown",
   "id": "6e8df559-2589-4a1a-9f1e-7f5da85b1253",
   "metadata": {},
   "source": [
    "To translate this flowchart into pseudocode format, it would look like this:\n",
    "\n",
    "```\n",
    "if expression1:\n",
    "    body of if\n",
    "elif expression2:\n",
    "    body of elif\n",
    "else:\n",
    "    body of else\n",
    "```\n",
    "\n",
    "When a computer reads this code from top to bottom, it takes the exact steps of following the arrows in the flowchart above. For example, if `expression1` is `True`, then the computer will execute whatever is in \"Body of if,\" and then jump to the very end."
   ]
  },
  {
   "cell_type": "markdown",
   "id": "e13af2c8-513b-48c5-94a3-266830ff94a0",
   "metadata": {},
   "source": [
    "&#9989; **Task 0.1:** The code below is designed to bring this `if`/`elif`/`else` structure to life. Change the value of `scale` and re-run the code to test how this structure works."
   ]
  },
  {
   "cell_type": "code",
   "execution_count": 3,
   "id": "85ea74b5-4230-4cd0-b723-e8b8d5fc21a1",
   "metadata": {
    "tags": []
   },
   "outputs": [
    {
     "name": "stdout",
     "output_type": "stream",
     "text": [
      "Not a valid input. Use numbers 1-10 to rate your comfort with conditional statements.\n"
     ]
    }
   ],
   "source": [
    "# change scale to a different value, and re-run this cell\n",
    "scale = 0\n",
    "\n",
    "if scale == 10:\n",
    "    print(\"All of this is easy-peasy to me.\")\n",
    "elif scale == 8 or scale == 9:\n",
    "    print(\"This code is a little unfamiliar, but I'll figure it out no problem.\")\n",
    "elif scale >= 5 and scale <= 7:\n",
    "    print(\"I feel pretty good about True/False expressions, but what is up with this if/elif/else structure?\")\n",
    "elif scale in [2, 3, 4]:\n",
    "    print(\"I feel okay about flowcharts, but not so sure about the rest of it.\")\n",
    "elif scale == 1:\n",
    "    print(\"Oh no, what am I getting myself into?\")\n",
    "else:\n",
    "    print(\"Not a valid input. Use numbers 1-10 to rate your comfort with conditional statements.\")"
   ]
  },
  {
   "cell_type": "markdown",
   "id": "eb2f1337-9cc4-43e3-8efb-12396c05da9a",
   "metadata": {},
   "source": [
    "One more thing -- you can use \"logical operators\" to construct expressions for `if`/`elif`/`else` statements. These operators are `and`, `or`, `not`, `in`, `==`, `<`, `>`, `<=`, `>=`, `!=`, and more. You can find more information by searching for \"python logical operators.\" Here is one helpful resource on this: https://www.geeksforgeeks.org/python-logical-operators/"
   ]
  },
  {
   "cell_type": "markdown",
   "id": "31bc9872-e534-46fd-aeb0-982a26336921",
   "metadata": {},
   "source": [
    "---\n",
    "\n",
    "### Part 1: Making flowcharts"
   ]
  },
  {
   "cell_type": "markdown",
   "id": "bd255a69-742b-46a6-9b7d-242041553ae5",
   "metadata": {},
   "source": [
    "**&#9989; Task 1.1**: In groups of 3-5, use a whiteboard to create a flowchart with yes/no or true/false statements to help you make a decision you can all relate to. For example, deciding a Halloween costume, deciding what type of coffee or tea to order, deciding whether to go out or stay in, etc. Write your flowchart on a whiteboard."
   ]
  },
  {
   "cell_type": "markdown",
   "id": "856afef2-adba-4208-b736-91396b6b310c",
   "metadata": {},
   "source": [
    "**&#9989; Task 1.2**: Translate your flowchart into pseudocode, like in the text written after the flowchart diagram several cells up."
   ]
  },
  {
   "cell_type": "markdown",
   "id": "479db353-8449-4ce0-b139-00136aceefc5",
   "metadata": {
    "tags": []
   },
   "source": [
    "**/write your psuedocode below/**\n",
    "\n",
    "```\n",
    "here\n",
    "```"
   ]
  },
  {
   "cell_type": "markdown",
   "id": "ae09b993-7bd9-4181-b6cd-8da518459467",
   "metadata": {},
   "source": [
    "#### &#128721; **Check in with an instructor before or after Task 1.3 (to help you setup the task and/or debrief afterwards)**"
   ]
  },
  {
   "cell_type": "markdown",
   "id": "fdb3e1a8-646f-4769-87f8-b12259d8eae1",
   "metadata": {},
   "source": [
    "**&#9989; Task 1.3**: Pair up with another group to discuss what you came up with. Share:\n",
    "- How does the flowchart work to help you make your decision?\n",
    "- What is the *information* you need to answer each question? (for example, the info needed for the broken lamp is whether the plug works, and whether the bulb is burned out)\n",
    "- Provide examples where you walk through the pseudocode and arrive at a \"decision\" (for example, deciding to wear a vampire costume)\n",
    "    - Be explicit about what information you need in order to fully navigate the flowchart/pseudocode (or, what info do you need to answer all the yes/no or True/False questions?)"
   ]
  },
  {
   "cell_type": "markdown",
   "id": "8508c56a-2bc1-47fa-8b7c-95c7077ba6dd",
   "metadata": {},
   "source": [
    "---\n",
    "\n",
    "### Part 2: Writing conditional statements\n",
    "\n",
    "Before translating your flowchart fully into code, get some practice using `if`/`elif`/`else` structures for other problems."
   ]
  },
  {
   "cell_type": "markdown",
   "id": "94764e7e-4325-4b15-9bba-adb09ab4f938",
   "metadata": {},
   "source": [
    "**&#9989; Task 2.1**: In the cell below, **write a conditional structure** that prints `\"heads\"` if `coin` is `1`, `\"tails\"` if `coin` is `0`, and an error message of your choosing if `coin` is something else. Run the cell a few times while altering the value of `coin` to make sure your conditional structure works like you would expect."
   ]
  },
  {
   "cell_type": "code",
   "execution_count": 4,
   "id": "e5fdc944-6420-4e77-bf47-9136cf6c99db",
   "metadata": {
    "tags": []
   },
   "outputs": [],
   "source": [
    "# your answer here\n",
    "coin = 0\n",
    "\n"
   ]
  },
  {
   "cell_type": "markdown",
   "id": "12adad24-9a74-423d-98de-fa00573c7d9d",
   "metadata": {},
   "source": [
    "**&#9989; Task 2.2**: In the cell below, write a conditional structure that prints a statement about whether Player A wins, Player B wins, or they tie."
   ]
  },
  {
   "cell_type": "code",
   "execution_count": 7,
   "id": "cc05c693-01d2-4d0f-b2e7-42cb4c3dbc43",
   "metadata": {},
   "outputs": [],
   "source": [
    "# your answer here\n",
    "a = 17\n",
    "b = 13\n",
    "\n",
    "    "
   ]
  },
  {
   "cell_type": "markdown",
   "id": "c96e4d11-7df6-4642-a175-488669cd7efb",
   "metadata": {},
   "source": [
    "**&#9989; Task 2.3**: Change the values of `a` and `b` in your solution above to test your code. Below, write the different combinations you tested, the resulting print statement (at least 5 combinations). Based on the results, describe whether you think your code is working."
   ]
  },
  {
   "cell_type": "markdown",
   "id": "54911fcc-0afd-48f8-860a-fa29f9152a50",
   "metadata": {},
   "source": [
    "**/your answer here/**"
   ]
  },
  {
   "cell_type": "markdown",
   "id": "10b7f864-01e4-4bef-bc44-047c720266fc",
   "metadata": {},
   "source": [
    "**&#9989; Task 2.4**: In the cell below, write a conditional structure *inside the loop* that prints a statement about whether each item is a fruit, vegetable, nut, etc (you can decide what to call the categories -- a couple have already been created for you!).\n",
    "\n",
    "The printed statements should indicate the item **and** the category that the item is in."
   ]
  },
  {
   "cell_type": "code",
   "execution_count": 10,
   "id": "0612362e-7174-4345-9c11-52aa3ef3008f",
   "metadata": {},
   "outputs": [
    {
     "ename": "SyntaxError",
     "evalue": "incomplete input (2239358571.py, line 8)",
     "output_type": "error",
     "traceback": [
      "\u001b[0;36m  Cell \u001b[0;32mIn[10], line 8\u001b[0;36m\u001b[0m\n\u001b[0;31m    \u001b[0m\n\u001b[0m    ^\u001b[0m\n\u001b[0;31mSyntaxError\u001b[0m\u001b[0;31m:\u001b[0m incomplete input\n"
     ]
    }
   ],
   "source": [
    "# add more code in this cell\n",
    "\n",
    "item_list = [\"apple\", \"banana\", \"carrot\", \"strawberry\", \"walnut\", \"chickpea\",\n",
    "             \"mango\", \"spinach\", \"lime\", \"pinto bean\", \"cherry\", \"acorn\",\n",
    "             \"orange\", \"beet\", \"lentil\", \"papaya\", \"watermelon\", \"asparagus\"]\n",
    "\n",
    "fruits = [\"apple\", \"banana\", \"strawberry\", \"mango\", \"lime\", \"cherry\",\n",
    "          \"orange\", \"papaya\", \"watermelon\"]\n",
    "veggies = [\"carrot\", \"spinach\", \"beet\", \"asparagus\"]\n",
    "\n",
    "for item in item_list:\n",
    "    "
   ]
  },
  {
   "cell_type": "markdown",
   "id": "707d4429-3f15-4ba9-9aa3-56c110ee6d56",
   "metadata": {
    "tags": []
   },
   "source": [
    "---\n",
    "\n",
    "### &#9989; Task 3: Translating your flowchart into code\n",
    "\n",
    "With your group, using your flowchart from Part 1, create your own conditional structure to reflect your flowchart! When you are done, you should have:\n",
    "* Variables that contain the relevant information needed to make a decision\n",
    "* A conditional structure that enacts the decision-making process using the variable values\n",
    "* Print statements throughout your if-structure to demonstrate the decision made\n",
    "* A description of different outcomes that can be reached by changing the values of the initial variables."
   ]
  },
  {
   "cell_type": "code",
   "execution_count": null,
   "id": "6391daeb-3e1c-4fd7-8031-753cbdc62005",
   "metadata": {},
   "outputs": [],
   "source": [
    "# your answer here\n",
    "# Make sure to include initial variables, conditional structure, and print statements\n"
   ]
  },
  {
   "cell_type": "markdown",
   "id": "7aca7ae8-6d84-490b-a72b-7bf922a95a38",
   "metadata": {},
   "source": [
    "**/Describe different outcomes here/**\n"
   ]
  },
  {
   "cell_type": "markdown",
   "id": "a2711757-e462-4927-8ded-69b51baa63ab",
   "metadata": {
    "jp-MarkdownHeadingCollapsed": true,
    "tags": []
   },
   "source": [
    "#### &#128721; **Stop here and check your progress with an instructor**"
   ]
  }
 ],
 "metadata": {
  "kernelspec": {
   "display_name": "Python 3 (ipykernel)",
   "language": "python",
   "name": "python3"
  },
  "language_info": {
   "codemirror_mode": {
    "name": "ipython",
    "version": 3
   },
   "file_extension": ".py",
   "mimetype": "text/x-python",
   "name": "python",
   "nbconvert_exporter": "python",
   "pygments_lexer": "ipython3",
   "version": "3.12.4"
  }
 },
 "nbformat": 4,
 "nbformat_minor": 5
}
