{
 "cells": [
  {
   "cell_type": "markdown",
   "id": "6c840208-7e35-4d0a-a961-e03b4c170e0b",
   "metadata": {
    "tags": []
   },
   "source": [
    "# Day 14: Variable Scope in Functions"
   ]
  },
  {
   "cell_type": "markdown",
   "id": "4962c7e4-68c3-4e53-850c-66bff7829692",
   "metadata": {
    "tags": []
   },
   "source": [
    "### &#9989; Write your name here"
   ]
  },
  {
   "cell_type": "markdown",
   "id": "1364c275-510d-46f8-91c8-ecba0715a8c2",
   "metadata": {},
   "source": [
    "You've used variables in Jupyter notebooks. These variables, once you define them, can be used anywhere in your file. This ability to use and alter these variables universally throughout your file is called **global** variable scope. \n",
    "\n",
    "There are a few different types of scope, meaning some variables cana only be used in a limited area of the code, or cannot be used at all. Here are the different types of scope you need to consider:\n",
    "- **Built-in scope:** These variables are built into Python and cannot be altered at all. They are automatically usable in any Python notebook. When you type them in a code cell, they turn green and bold. Some examples are: `for`, `if`, and `True`.\n",
    "- **Global scope:** These variables must be defined somewhere in the notebook. Once a global variable is defined, it is usable anywhere in the notebook (*except* if it was defined inside of a function). An example of a global variable is `x` after executing `x = 10`, or `np` after executing `import numpy as np`.\n",
    "- **Local scope:** These variables are defined inside of a function, and they cannot be accessed outside of that function. For example, the variable `marker` has meaning inside the `plt.scatter` function, as you can see in the documentation: https://matplotlib.org/stable/api/_as_gen/matplotlib.pyplot.scatter.html\n",
    "\n",
    "To see how **local variable scope** works, see the code below, which demonstrates where `marker` can and can't be used. In the function call itself (inside of `plt.scatter`), `marker` has a well-defined meaning -- it is used to designate what data points look like on the plot. On the outside though (in the **global** environment), `marker` is undefined."
   ]
  },
  {
   "cell_type": "code",
   "execution_count": 1,
   "id": "81792946-b574-4280-b5e3-747a04b7df5e",
   "metadata": {},
   "outputs": [
    {
     "data": {
      "image/png": "[encoded data removed]",
      "text/plain": [
       "<Figure size 640x480 with 1 Axes>"
      ]
     },
     "metadata": {},
     "output_type": "display_data"
    },
    {
     "ename": "NameError",
     "evalue": "name 'marker' is not defined",
     "output_type": "error",
     "traceback": [
      "\u001b[0;31m---------------------------------------------------------------------------\u001b[0m",
      "\u001b[0;31mNameError\u001b[0m                                 Traceback (most recent call last)",
      "Cell \u001b[0;32mIn[1], line 6\u001b[0m\n\u001b[1;32m      3\u001b[0m plt\u001b[38;5;241m.\u001b[39mscatter([\u001b[38;5;241m7\u001b[39m, \u001b[38;5;241m5\u001b[39m, \u001b[38;5;241m8\u001b[39m], [\u001b[38;5;241m-\u001b[39m\u001b[38;5;241m1.5\u001b[39m, \u001b[38;5;241m0\u001b[39m, \u001b[38;5;241m-\u001b[39m\u001b[38;5;241m1\u001b[39m], marker\u001b[38;5;241m=\u001b[39m\u001b[38;5;124m\"\u001b[39m\u001b[38;5;124m+\u001b[39m\u001b[38;5;124m\"\u001b[39m)\n\u001b[1;32m      4\u001b[0m plt\u001b[38;5;241m.\u001b[39mshow()\n\u001b[0;32m----> 6\u001b[0m \u001b[38;5;28mprint\u001b[39m(marker)\n",
      "\u001b[0;31mNameError\u001b[0m: name 'marker' is not defined"
     ]
    }
   ],
   "source": [
    "import matplotlib.pyplot as plt\n",
    "\n",
    "plt.scatter([7, 5, 8], [-1.5, 0, -1], marker=\"+\")\n",
    "plt.show()\n",
    "\n",
    "print(marker)"
   ]
  },
  {
   "cell_type": "markdown",
   "id": "4142727f-d4e3-4604-bed9-3a268ef69699",
   "metadata": {},
   "source": [
    "In the code above, `marker` could not be accessed outside its usage in `plt.scatter`. In this sense, `marker` is **local** to the `plt.scatter` function. Some rules to consider when working with variables in and out of functions:\n",
    "- When the computer reads a variable, it looks for the meaning of variable in the **same scope** where the variable is used.\n",
    "- If the variable is not defined in the same scope, the computer then looks in **broader scopes**.\n",
    "\n",
    "In the print statement that produced the error, the computer could not find a definition for `marker` in the same scope (the global scope). The only time `marker` was defined was in the local scope of the `plt.scatter` function, which was off limits to the rest of the code. \n",
    "\n",
    "In the visual below, each scope can access variables within itself and within the outer scopes. However, code in the global environment cannot access variables defined in local environments. The dashed line indicates the possibility for multiple layers of local environments, for example if a function is defined inside of another function.\n",
    "\n",
    "<img src=\"https://raw.githubusercontent.com/pattihamerski/PH-36X-Public/01e2a7c919212ee28ea6b13619bbdfc2ebad74a6/image/variable-scope.png\" alt=\"\" width=\"600\"/>"
   ]
  },
  {
   "cell_type": "markdown",
   "id": "9809fc7f-aa36-4a0e-b134-84035abe315e",
   "metadata": {},
   "source": [
    "---\n",
    "\n",
    "### Part 1: Reviewing functions that do repetitive tasks\n",
    "\n",
    "Functions, at their core, are useful because they can store a frequently used chunk of code in one place. This reduces code clutter, saves space, and it's useful for a variety of situations where that chunk of code is needed. Consider the repetetive code below."
   ]
  },
  {
   "cell_type": "code",
   "execution_count": 2,
   "id": "06fa76a3-d850-40c4-ac27-a9e36d137c34",
   "metadata": {},
   "outputs": [
    {
     "name": "stdout",
     "output_type": "stream",
     "text": [
      "The intercepts of 1 x^2 + 0 x + -25 = 0 are -5.0 and 5.0\n",
      "The intercepts of 1 x^2 + -4 x + 0 = 0 are 0.0 and 4.0\n",
      "The intercepts of 1 x^2 + 5 x + 6 = 0 are -3.0 and -2.0\n",
      "The intercepts of 1 x^2 + -6 x + -7 = 0 are -1.0 and 7.0\n"
     ]
    }
   ],
   "source": [
    "import numpy as np\n",
    "\n",
    "a1 = 1\n",
    "b1 = 0\n",
    "c1 = -25\n",
    "\n",
    "qf1_plus = (-b1 + np.sqrt(b1 ** 2 - 4 * a1 * c1)) / (2 * a1)  \n",
    "qf1_minus = (-b1 - np.sqrt(b1 ** 2 - 4 * a1 * c1)) / (2 * a1)  \n",
    "\n",
    "print(\"The intercepts of\", a1, \"x^2 +\", b1, \"x +\", c1, \"= 0 are\", qf1_minus, \"and\", qf1_plus)\n",
    "\n",
    "a2 = 1\n",
    "b2 = -4\n",
    "c2 = 0\n",
    "\n",
    "qf2_plus = (-b2 + np.sqrt(b2 ** 2 - 4 * a2 * c2)) / (2 * a2)  \n",
    "qf2_minus = (-b2 - np.sqrt(b2 ** 2 - 4 * a2 * c2)) / (2 * a2)  \n",
    "\n",
    "print(\"The intercepts of\", a2, \"x^2 +\", b2, \"x +\", c2, \"= 0 are\", qf2_minus, \"and\", qf2_plus)\n",
    "\n",
    "a3 = 1\n",
    "b3 = 5\n",
    "c3 = 6\n",
    "\n",
    "qf3_plus = (-b3 + np.sqrt(b3 ** 2 - 4 * a3 * c3)) / (2 * a3)  \n",
    "qf3_minus = (-b3 - np.sqrt(b3 ** 2 - 4 * a3 * c3)) / (2 * a3)  \n",
    "\n",
    "print(\"The intercepts of\", a3, \"x^2 +\", b3, \"x +\", c3, \"= 0 are\", qf3_minus, \"and\", qf3_plus)\n",
    "\n",
    "a4 = 1\n",
    "b4 = -6\n",
    "c4 = -7\n",
    "\n",
    "qf4_plus = (-b4 + np.sqrt(b4 ** 2 - 4 * a4 * c4)) / (2 * a4)  \n",
    "qf4_minus = (-b4 - np.sqrt(b4 ** 2 - 4 * a4 * c4)) / (2 * a4)  \n",
    "\n",
    "print(\"The intercepts of\", a4, \"x^2 +\", b4, \"x +\", c4, \"= 0 are\", qf4_minus, \"and\", qf4_plus)"
   ]
  },
  {
   "cell_type": "markdown",
   "id": "edd80bb4-3659-4be2-9b50-7c05b1ec27e2",
   "metadata": {},
   "source": [
    "The code chunk themselves compute solutions to the quadratic equation. It can be cleaned up significantly by storing the repetitive pieces in a function.\n",
    "- The setup of variables can be translated into function inputs.\n",
    "- The computation and the print statement can be translated into the body of the function definition.\n",
    "- Each repetition can be translated into a function call."
   ]
  },
  {
   "cell_type": "code",
   "execution_count": 3,
   "id": "1920c9e6-715a-4520-8be8-6c4a0ad31aa5",
   "metadata": {},
   "outputs": [
    {
     "name": "stdout",
     "output_type": "stream",
     "text": [
      "The intercepts of 1 x^2 + 0 x + -25 = 0 are -5.0 and 5.0\n",
      "The intercepts of 1 x^2 + -4 x + 0 = 0 are 0.0 and 4.0\n",
      "The intercepts of 1 x^2 + 5 x + 6 = 0 are -3.0 and -2.0\n",
      "The intercepts of 1 x^2 + -6 x + -7 = 0 are -1.0 and 7.0\n"
     ]
    }
   ],
   "source": [
    "# add comments to this cell\n",
    "\n",
    "def quadratic(a, b, c): \n",
    "    qf_plus = (-b + np.sqrt(b ** 2 - 4 * a * c)) / (2 * a)  \n",
    "    qf_minus = (-b - np.sqrt(b ** 2 - 4 * a * c)) / (2 * a)  \n",
    "    print(\"The intercepts of\", a, \"x^2 +\", b, \"x +\", c, \"= 0 are\", qf_minus, \"and\", qf_plus)\n",
    "\n",
    "quadratic(1, 0, -25)\n",
    "quadratic(1, -4, 0)\n",
    "quadratic(1, 5, 6)\n",
    "quadratic(1, -6, -7)"
   ]
  },
  {
   "cell_type": "markdown",
   "id": "997f1041-9341-49e5-afef-1c44577eae20",
   "metadata": {},
   "source": [
    "**&#9989; Task 1.1:** Add comments to the code cell above to describe how the function definition and the function calls work."
   ]
  },
  {
   "cell_type": "markdown",
   "id": "2e8c5dab-53bb-4857-b249-58ab18d4fe00",
   "metadata": {},
   "source": [
    "**&#9989; Task 1.2:** Describe the scope of different variables used in the code.\n",
    "- List all variables in the code cell.\n",
    "- For each variable, state whether it is local, global, or built-in. *Hint: there is at least one of each in the code cell.*\n",
    "\n"
   ]
  },
  {
   "cell_type": "markdown",
   "id": "0d41f153-472c-43d9-865f-643cc184e0ea",
   "metadata": {},
   "source": [
    "**/your answer here/**"
   ]
  },
  {
   "cell_type": "markdown",
   "id": "d592652a-e927-4b0d-ae41-00cb5ee7b7c8",
   "metadata": {},
   "source": [
    "#### &#128721; **Stop here and check your progress with an instructor**"
   ]
  },
  {
   "cell_type": "markdown",
   "id": "68415495-66f6-4b03-8b6b-76ee5bc06592",
   "metadata": {},
   "source": [
    "---\n",
    "\n",
    "### Part 2: Predicting behavior of functions and variables\n",
    "\n",
    "To practice evaluating the scope of variables and the usage of functions, do the exercises below, all based on the given function `funky_func`."
   ]
  },
  {
   "cell_type": "code",
   "execution_count": null,
   "id": "953283da-acd1-4637-8683-6eddbaf76ac5",
   "metadata": {},
   "outputs": [],
   "source": [
    "def funky_func(s, n, L, multiplier=1, color=\"tomato\"):\n",
    "    s_len = len(s)\n",
    "    L_len = len(L)\n",
    "    total = (s_len + n + L_len) * multiplier\n",
    "\n",
    "    plt.bar([\"String\", \"Number\", \"List\"], [s_len, n, L_len], color=color)\n",
    "    plt.ylabel(\"Size\")\n",
    "    plt.title(\"Funky Chart\")\n",
    "    plt.show()\n",
    "\n",
    "    return total"
   ]
  },
  {
   "cell_type": "markdown",
   "id": "97d4e4b3-b9d8-4811-9a80-37c3e9411ab0",
   "metadata": {},
   "source": [
    "**&#9989; Task 2.1:** Make a prediction -- what will the output of the following code chunk be? **Write your prediction**, and then run the code. If you get surprised, figure out what happened, and **add your thoughts** to your prediction (but don't erase your original prediction)."
   ]
  },
  {
   "cell_type": "markdown",
   "id": "204b9cfe-25ba-442c-b546-ddf52fad4bf0",
   "metadata": {},
   "source": [
    "**/your answer here/**"
   ]
  },
  {
   "cell_type": "code",
   "execution_count": null,
   "id": "737b9948-3656-4715-8c34-96c4d5f97963",
   "metadata": {},
   "outputs": [],
   "source": [
    "result = funky_func(\"hello\", 14, [-6])\n",
    "print(result)"
   ]
  },
  {
   "cell_type": "markdown",
   "id": "cdf19fc0-d485-4393-86dc-3de485ec1e85",
   "metadata": {},
   "source": [
    "**&#9989; Task 2.2:** Make a prediction -- what will the output of the following code chunk be? **Write your prediction**, and then run the code. If you get surprised, figure out what happened, and **add your thoughts** to your prediction (but don't erase your original prediction)."
   ]
  },
  {
   "cell_type": "markdown",
   "id": "ec0c1612-6238-404e-b88e-aae9e839975d",
   "metadata": {},
   "source": [
    "**/your answer here/**"
   ]
  },
  {
   "cell_type": "code",
   "execution_count": null,
   "id": "222bd7ff-371d-4a8e-a1cb-e5a488869353",
   "metadata": {},
   "outputs": [],
   "source": [
    "result = funky_func(s, n, L, multiplier=2)\n",
    "print(result)"
   ]
  },
  {
   "cell_type": "markdown",
   "id": "7ccd2838-2b35-43f2-88ef-e57b7cf16922",
   "metadata": {},
   "source": [
    "**&#9989; Task 2.3:** Make a prediction -- what will the output of the following code chunk be? **Write your prediction**, and then run the code. If you get surprised, figure out what happened, and **add your thoughts** to your prediction (but don't erase your original prediction)."
   ]
  },
  {
   "cell_type": "markdown",
   "id": "b669dd43-7070-443f-b4d6-a45dfa98f41a",
   "metadata": {},
   "source": [
    "**/your answer here/**"
   ]
  },
  {
   "cell_type": "code",
   "execution_count": null,
   "id": "78d182d4-79d1-4c44-bb34-0cd87c0904b6",
   "metadata": {},
   "outputs": [],
   "source": [
    "result = funky_func(\"one\", 2, [], multiplier=3)\n",
    "print(multiplier)"
   ]
  },
  {
   "cell_type": "markdown",
   "id": "1c474bb4-70ce-4de3-bb1b-b86fd2aa1c03",
   "metadata": {},
   "source": [
    "**&#9989; Task 2.4:** Make a prediction -- what will the output of the following code chunk be? **Write your prediction**, and then run the code. If you get surprised, figure out what happened, and **add your thoughts** to your prediction (but don't erase your original prediction)."
   ]
  },
  {
   "cell_type": "markdown",
   "id": "e9931d58-daf6-49c9-a738-11f2d1e5dc53",
   "metadata": {},
   "source": [
    "**/your answer here/**"
   ]
  },
  {
   "cell_type": "code",
   "execution_count": null,
   "id": "0dbd76fc-ce4e-4c1b-a702-c0456d29a435",
   "metadata": {},
   "outputs": [],
   "source": [
    "six = \"five\"\n",
    "result = funky_func(six, -9, [0] * 3)\n",
    "print(result)"
   ]
  },
  {
   "cell_type": "markdown",
   "id": "880772c7-80f4-4c3f-820b-a34ed9743491",
   "metadata": {},
   "source": [
    "**&#9989; Task 2.5:** Make a prediction -- what will the output of the following code chunk be? **Write your prediction**, and then run the code. If you get surprised, figure out what happened, and **add your thoughts** to your prediction (but don't erase your original prediction)."
   ]
  },
  {
   "cell_type": "markdown",
   "id": "d1063d1a-edba-4110-b192-0c1560a38186",
   "metadata": {},
   "source": [
    "**/your answer here/**"
   ]
  },
  {
   "cell_type": "code",
   "execution_count": null,
   "id": "0a4b96c2-2274-4847-b012-372d200798b1",
   "metadata": {},
   "outputs": [],
   "source": [
    "nine = \"five six seven eight\"\n",
    "num = 103\n",
    "funky_func(nine, num, [[0]] * 30, color=\"burlywood\")\n",
    "print(total)"
   ]
  },
  {
   "cell_type": "markdown",
   "id": "9da91bf2-1184-498a-86d3-381d4c0848b5",
   "metadata": {},
   "source": [
    "**&#9989; Task 2.6:** Make a prediction -- what will the output of the following code chunk be? **Write your prediction**, and then run the code. If you get surprised, figure out what happened, and **add your thoughts** to your prediction (but don't erase your original prediction)."
   ]
  },
  {
   "cell_type": "markdown",
   "id": "cb32a738-0bbe-4586-913a-25dcd1758089",
   "metadata": {},
   "source": [
    "**/your answer here/**"
   ]
  },
  {
   "cell_type": "code",
   "execution_count": null,
   "id": "7000698b-fe79-4452-abf4-d656d6155f45",
   "metadata": {},
   "outputs": [],
   "source": [
    "string = \"str\" * 9\n",
    "num = 2 ** 5\n",
    "List = list(range(0, 80, 3))\n",
    "color = \"white\"\n",
    "multiplier = -1\n",
    "\n",
    "result = funky_func(string, num, List)\n",
    "print(result)"
   ]
  },
  {
   "cell_type": "markdown",
   "id": "03dbf250-f3a5-4dc8-a1fc-7b8d1e346f93",
   "metadata": {},
   "source": [
    "**&#9989; Task 2.7:** Make a prediction -- what will the output of the following code chunk be? **Write your prediction**, and then run the code. If you get surprised, figure out what happened, and **add your thoughts** to your prediction (but don't erase your original prediction)."
   ]
  },
  {
   "cell_type": "markdown",
   "id": "ae30d801-ab76-4907-b9cf-629932706f21",
   "metadata": {},
   "source": [
    "**/your answer here/**"
   ]
  },
  {
   "cell_type": "code",
   "execution_count": null,
   "id": "58a6c73c-cf18-47f4-bfce-3c0def73c8d7",
   "metadata": {},
   "outputs": [],
   "source": [
    "s = \"1\"\n",
    "n = 1\n",
    "L = [1]\n",
    "\n",
    "result = funky_func(s, n, L)\n",
    "print(result)"
   ]
  },
  {
   "cell_type": "markdown",
   "id": "e7bdc9fa-9464-454d-85b5-c63200165143",
   "metadata": {},
   "source": [
    "**&#9989; Task 2.8:** Make a prediction -- what will the output of the following code chunk be? **Write your prediction**, and then run the code. If you get surprised, figure out what happened, and **add your thoughts** to your prediction (but don't erase your original prediction)."
   ]
  },
  {
   "cell_type": "markdown",
   "id": "149b652f-e5ea-4340-84e4-3fc511649cb3",
   "metadata": {},
   "source": [
    "**/your answer here/**"
   ]
  },
  {
   "cell_type": "code",
   "execution_count": null,
   "id": "81ca1310-2a3c-4805-8019-797e144daa51",
   "metadata": {},
   "outputs": [],
   "source": [
    "s = \"1\"\n",
    "n = 1\n",
    "L = [1]\n",
    "color = \"navy\"\n",
    "multiplier = -1\n",
    "\n",
    "result = funky_func(s, n, L)\n",
    "print(result)"
   ]
  },
  {
   "cell_type": "markdown",
   "id": "84ea51b6-e333-4df7-a801-0799a0e495f5",
   "metadata": {},
   "source": [
    "**&#9989; Task 2.9:** Make a prediction -- what will the output of the following code chunk be? **Write your prediction**, and then run the code. If you get surprised, figure out what happened, and **add your thoughts** to your prediction (but don't erase your original prediction)."
   ]
  },
  {
   "cell_type": "markdown",
   "id": "408f4f72-69c7-4837-b57a-3f08d73c35ee",
   "metadata": {},
   "source": [
    "**/your answer here/**"
   ]
  },
  {
   "cell_type": "code",
   "execution_count": null,
   "id": "f88d660e-dc1f-4d14-a04c-8a918c0a1a00",
   "metadata": {},
   "outputs": [],
   "source": [
    "s = \"1\"\n",
    "n = 1\n",
    "L = [1]\n",
    "color = \"navy\"\n",
    "multiplier = -1\n",
    "\n",
    "funky_func = funky_func(s, n, L, multiplier, color)"
   ]
  },
  {
   "cell_type": "markdown",
   "id": "959d16ff-fa0d-46c3-9a43-75752883f2d3",
   "metadata": {},
   "source": [
    "**&#9989; Task 2.10:** Make a prediction -- what will the output of the following code chunk be? **Write your prediction**, and then run the code. If you get surprised, figure out what happened, and **add your thoughts** to your prediction (but don't erase your original prediction)."
   ]
  },
  {
   "cell_type": "markdown",
   "id": "3cdee467-5db1-482a-8ad3-fa66447f6e16",
   "metadata": {},
   "source": [
    "**/your answer here/**"
   ]
  },
  {
   "cell_type": "code",
   "execution_count": null,
   "id": "4f3ceeab-f463-490c-93fb-4c9132b08fc6",
   "metadata": {},
   "outputs": [],
   "source": [
    "s = \"1\"\n",
    "n = 1\n",
    "L = [1]\n",
    "color = \"navy\"\n",
    "multiplier = -1\n",
    "\n",
    "funky_func = funky_func(s, n, L, multiplier, color)"
   ]
  },
  {
   "cell_type": "markdown",
   "id": "d08f1b8b-c7dc-493b-8566-23664b60a107",
   "metadata": {},
   "source": [
    "#### &#128721; **Stop here and check your progress with an instructor**"
   ]
  }
 ],
 "metadata": {
  "kernelspec": {
   "display_name": "Python 3 (ipykernel)",
   "language": "python",
   "name": "python3"
  },
  "language_info": {
   "codemirror_mode": {
    "name": "ipython",
    "version": 3
   },
   "file_extension": ".py",
   "mimetype": "text/x-python",
   "name": "python",
   "nbconvert_exporter": "python",
   "pygments_lexer": "ipython3",
   "version": "3.12.4"
  }
 },
 "nbformat": 4,
 "nbformat_minor": 5
}
