{
 "cells": [
  {
   "cell_type": "markdown",
   "id": "b2b49e79-4fa5-4da4-a932-8739b637a53e",
   "metadata": {
    "tags": []
   },
   "source": [
    "# Day 16: Applying the Euler Method"
   ]
  },
  {
   "cell_type": "markdown",
   "id": "551c8b49-dad0-4fc8-8e24-e9a6a18f6b54",
   "metadata": {
    "tags": []
   },
   "source": [
    "### &#9989; Write your name here"
   ]
  },
  {
   "cell_type": "markdown",
   "id": "35dc2939-8583-4e67-b08f-89754bcccd77",
   "metadata": {},
   "source": [
    "Today, you will apply the Euler method to a physics problem. To review, the Euler method uses a **known derivative** to iteratively approximate values of an **unknown physical quantity**. \n",
    "\n",
    "The steps of the Euler method are:\n",
    "1. Begin with an unknown function $y(x)$, where we **do** know a formula for the derivative $f(x,y) = \\frac{dy}{dx}$ and initial values for $y$ and $x$, which we can call $y_0$ and $x_0$. *Note: the function can use different variables than $y$ and $x$, but they should represent a dependent and independent variable, respectively.*\n",
    "2. Select a range of equally spaced $x$-values to compute over, starting with $x_0$.\n",
    "3. Go to the next $x$-value, $x_1$. The step-size, $x_1 - x_0$, we can call $\\Delta x$.\n",
    "4. Compute $y(x_1)$, or just $y_1$ for short, by using the Euler method: $ y_1 = y_0 + f(x_0, y_0)\\Delta x$.\n",
    "5. Repeat steps 3 and 4, using the same step-size ($\\Delta x$), to get to the next $x$-value.\n",
    "6. Continue repeating until you reach the end of your range of $x$-values.\n",
    "\n",
    "When repeating the steps of the Euler method, we can use a more general formula for computing the next value of $y(x)$:\n",
    "\n",
    "$$ y_{i+1} = y_i + f(x_i, y_i)\\Delta x $$\n",
    "\n",
    "Below, you can visualize this process and see how the formula is derived:\n",
    "\n",
    "<img src=\"https://raw.githubusercontent.com/pattihamerski/PH-36X-Public/3118f62aea9eb3c492b76dc3e7461548d2a20c21/image/euler-diagram-with-triangle.png\" alt=\"\" width=\"600\"/>"
   ]
  },
  {
   "cell_type": "markdown",
   "id": "95cfd1db-ede7-4484-8927-1bf714aa59d5",
   "metadata": {},
   "source": [
    "Back in the Day 5 assignment, you modeled a yarn-ball launcher for a cat's birthday party.\n",
    "\n",
    "The code below shows an **exact** solution using kinematic equations, and it tracks the heights and times that the ball reaches as it travels to its peak."
   ]
  },
  {
   "cell_type": "markdown",
   "id": "ddaa29c8-f75e-4bc7-93f4-4be8cad437bd",
   "metadata": {},
   "source": [
    "<img src=\"https://i.giphy.com/media/v1.Y2lkPTc5MGI3NjExcHZndWpkbnV4cm5yaGE5ZXBiZGM3NXJtNDl0eTZndXp6YTY1djR5MyZlcD12MV9pbnRlcm5hbF9naWZfYnlfaWQmY3Q9Zw/jkAs9C3OoA9Nu/giphy.gif\" alt=\"Kitten playing with a ball of yarn\" width=\"250\"/>\n"
   ]
  },
  {
   "cell_type": "code",
   "execution_count": 3,
   "id": "4addb67f-4e61-40c9-abae-e236f7b88271",
   "metadata": {
    "tags": []
   },
   "outputs": [
    {
     "name": "stdout",
     "output_type": "stream",
     "text": [
      "maximum height is 100.67375\n"
     ]
    }
   ],
   "source": [
    "# Use this code as a reference only\n",
    "# This code does NOT use the Euler method\n",
    "# It is only given to serve as a refresher on using while loops \n",
    "\n",
    "# set gravitational constant\n",
    "g = 9.81\n",
    "\n",
    "# set initial values for height, velocity, time\n",
    "y0 = 2\n",
    "vy0 = 44\n",
    "t0 = 0\n",
    "\n",
    "# set time step\n",
    "dt = 0.1\n",
    "\n",
    "# create arrays for values of t and y to be stored\n",
    "t_exact = []\n",
    "y_exact = []\n",
    "\n",
    "# set up variables for t and y that begin at initial values\n",
    "t = t0\n",
    "y = y0\n",
    "\n",
    "# keep track of most recent y value\n",
    "y_prev = y\n",
    "\n",
    "# run the loop as long as y is increasing\n",
    "while y >= y_prev:\n",
    "    # update the most recent y value to continue keeping track\n",
    "    y_prev = y\n",
    "    \n",
    "    # append the next t and y values to the arrays\n",
    "    t_exact.append(t)\n",
    "    y_exact.append(y)\n",
    "    \n",
    "    # increment t by the time step\n",
    "    t += dt\n",
    "    # calculate an exact value for y using a kinematic equation\n",
    "    y = y0 + vy0 * t - 0.5 * g * t ** 2\n",
    "\n",
    "# when the loop stops, y has reached its peak\n",
    "# we can see what the maximum height was\n",
    "print(\"maximum height is\", y_prev)"
   ]
  },
  {
   "cell_type": "markdown",
   "id": "b9d1afc1-2b2e-4741-b58b-e94d20d3ff26",
   "metadata": {
    "tags": []
   },
   "source": [
    "---\n",
    "\n",
    "### Part 1: Projectile motion with the Euler method"
   ]
  },
  {
   "cell_type": "markdown",
   "id": "eb433022-33be-4c1f-893d-3761f9456fa0",
   "metadata": {},
   "source": [
    "As we know, cats can be sticklers for correct physics (just ask Schrödinger). In this assignment, you must model the yarn-ball's ascent using derivatives. To do so, keep in mind that position, velocity, and acceleration can be defined with respect to derivatives:\n",
    "\n",
    "$$v_y = \\frac{dy}{dt}$$\n",
    "\n",
    "$$a_y = \\frac{dv_y}{dt}$$\n",
    "\n",
    "We know that $a_y = -g$, where $g=9.81\\text{ m/s}^2$. With this in mind, we can solve for $dv_y$:\n",
    "\n",
    "$$dv_y = -g\\cdot dt$$\n",
    "\n",
    "This means that over a small time-step $dt$, the the vertical velocity will change by an amount $-g\\cdot dt$. This information can be used to increment the value for $v_y$. \n",
    "\n",
    "A similar logic can be used to increment $y$."
   ]
  },
  {
   "cell_type": "markdown",
   "id": "77820d0a-15a7-428e-8aa0-f8eab4a69a1e",
   "metadata": {},
   "source": [
    "**&#9989; Task 1.1:** Over each time-step $dt$, how much will the height change? In other words, what is $dy$? Express your answer in terms of $v_y$, $g$, and $dt$."
   ]
  },
  {
   "cell_type": "markdown",
   "id": "0a2e632f-06a4-4df5-a16e-898027450504",
   "metadata": {},
   "source": [
    "**/your answer here/**"
   ]
  },
  {
   "cell_type": "markdown",
   "id": "8ac24b52-a329-4038-9895-3eb8b6f31d67",
   "metadata": {},
   "source": [
    "**&#9989; Task 1.2:** Using the Euler method, compute the values of $v_y$ and $y$ at $t=0.1$ and $t=0.2$. Use the same initial conditions and time-steps as in the provided code.\n",
    "\n",
    "*Note: These are just the first couple values, so you don't need to use a loop. You will be asked to translate your code into a loop in the next task.*"
   ]
  },
  {
   "cell_type": "code",
   "execution_count": 4,
   "id": "e0d799b4-1607-46ae-9e94-a8f29688172f",
   "metadata": {},
   "outputs": [],
   "source": [
    "# your answer here"
   ]
  },
  {
   "cell_type": "markdown",
   "id": "3eacd054-0449-4790-9c2c-4094c0555afc",
   "metadata": {},
   "source": [
    "**&#9989; Task 1.3:** Using the Euler method, approximate the maximum height of the yarn-ball at the top of its trajectory. \n",
    "- Do not use kinematic equations.\n",
    "- Use a time step of $dt = 0.1$.\n",
    "- Store all computed values for $t$ and $y$ in lists or arrays.\n",
    "- Print the maximum height of the ball at the end.\n",
    "\n",
    "*Hint: This task can be done using a similar structure to the example code at the top of the assignment.*"
   ]
  },
  {
   "cell_type": "code",
   "execution_count": 11,
   "id": "3f580ee7-1ba0-446a-9eb8-cc0d15773b36",
   "metadata": {},
   "outputs": [],
   "source": [
    "# your answer here"
   ]
  },
  {
   "cell_type": "markdown",
   "id": "4f77cc89-d1e8-4d80-80dc-f7a44386c233",
   "metadata": {},
   "source": [
    "**&#9989; Task 1.4:** Using the exact solution **and** your lists or arrays for $t$ and $y$ from Task 1.3, **create a visualization** of the yarn-ball's height over time.\n",
    "- Lists of **exact values have already been computed** in the example code at the top of the assignment.\n",
    "- The values represented in your plot should **cut off near the peak** of the trajectory."
   ]
  },
  {
   "cell_type": "code",
   "execution_count": null,
   "id": "79fd03b9-b92d-43b1-9195-2b321a25d163",
   "metadata": {},
   "outputs": [],
   "source": [
    "# your answer here"
   ]
  },
  {
   "cell_type": "markdown",
   "id": "36671679-d8ef-4dd7-9d04-5e4725730201",
   "metadata": {
    "tags": []
   },
   "source": [
    "#### &#128721; **Stop here and check your progress with an instructor**"
   ]
  },
  {
   "cell_type": "markdown",
   "id": "d41b1d11-49b1-499d-a1b1-b0959998d520",
   "metadata": {},
   "source": [
    "---\n",
    "\n",
    "### Part 2: Efficiency and precision of the Euler method\n",
    "\n",
    "The approximation you made in Part 1 is close, but not quite matching the exact solution. An approximation will never be completely exact, but usually it can be made better.\n",
    "\n",
    "When using Euler method, the best way to **increase precision** is to **decrease the time-step** (or the step-size of the whatever the independent variable is).\n",
    "\n",
    "Let's create code we can use to test out different levels of precision."
   ]
  },
  {
   "cell_type": "markdown",
   "id": "093919b9-acf6-4ebe-bd4f-8240437e939c",
   "metadata": {},
   "source": [
    "**&#9989; Task 2.1:** In this task, you will be asked to format your code so it is easier to turn it into a function. Copy and paste your code from Task 1.3 below. Identify where $dt$ is first used or defined in your code.\n",
    "- Move the definition of $dt$ to the very top of the code cell.\n",
    "- Re-run your code to ensure it still works. If not, edit further until it works as intended, with $dt$ defined at the very top.\n",
    "- Change the value of $dt$ and re-run your code. It should still work, though maybe it outputs a slightly different value for the maximum height. If not, edit further until it works for different values of $dt$."
   ]
  },
  {
   "cell_type": "code",
   "execution_count": null,
   "id": "0e2049de-2f17-4b64-ad1b-b32e8904a64f",
   "metadata": {},
   "outputs": [],
   "source": [
    "# copy your code from Task 1.3 here, and then edit if needed\n"
   ]
  },
  {
   "cell_type": "markdown",
   "id": "b25dc71f-3f1f-4cb0-90cb-0ea4f8ab8d9e",
   "metadata": {},
   "source": [
    "**&#9989; Task 2.2:** Use your code from Task 2.1 to **create a function**. This function should do the following.\n",
    "* Take `dt` as an argument.\n",
    "* Use the Euler method with a time-step of `dt` to compute values of `t` and `y` for the ball of yarn as it travels up to its peak.\n",
    "* Print the maximum height reached.\n",
    "* Output (i.e., `return`) the lists or arrays of `t` and `y` values."
   ]
  },
  {
   "cell_type": "code",
   "execution_count": null,
   "id": "85382c7c-2293-4af5-b1f4-bcef196377f7",
   "metadata": {},
   "outputs": [],
   "source": [
    "# your answer here"
   ]
  },
  {
   "cell_type": "markdown",
   "id": "f585e58a-48d4-4300-8bdd-9508492690bb",
   "metadata": {
    "tags": []
   },
   "source": [
    "#### &#128721; **Stop here and check your progress with an instructor**"
   ]
  },
  {
   "cell_type": "markdown",
   "id": "82b9619d-5b7b-46ec-91bd-83a83c0b31f4",
   "metadata": {},
   "source": [
    "**&#9989; Task 2.3:** Use your function to compute arrays of `t` values and `y` values that represent solutions for `dt = 0.1`, `0.25`, `0.5`, and `1`. Store these solutions into variables for later use."
   ]
  },
  {
   "cell_type": "code",
   "execution_count": 27,
   "id": "dbe61512-a9fa-48d3-a301-bc74bbfe1b81",
   "metadata": {
    "tags": []
   },
   "outputs": [],
   "source": [
    "# your answer here"
   ]
  },
  {
   "cell_type": "markdown",
   "id": "6d5ba73a-0bbc-41ed-a280-e55a40cb3845",
   "metadata": {},
   "source": [
    "**&#9989; Task 2.4:** Create a visualization with the exact solution and all four approximations on it, and include a legend that clearly demonstrates what each curve represents. Make sure to include axis labels and a title as well to clarify the meaning of your visualization. The figure should convey the heights ($y$-axis) and times ($x$-axis) computed in previous tasks, to compare each model for the ball's ascent. It should include:\n",
    "* The exact solution given at top of the notebook.\n",
    "* The Euler approximation solutions from Task 2.3.\n",
    "* A vertical line at the **time** the ball reaches maximum height in the exact solution."
   ]
  },
  {
   "cell_type": "code",
   "execution_count": null,
   "id": "dcb4cf7e-289a-434d-acc5-4f4be60a227b",
   "metadata": {},
   "outputs": [],
   "source": [
    "# your answer here"
   ]
  },
  {
   "cell_type": "markdown",
   "id": "d7adc568-8370-425b-b32a-daedaea3b4cc",
   "metadata": {},
   "source": [
    "The time that the ball achieves maximum height in the exact solution can be found using the code snippet below."
   ]
  },
  {
   "cell_type": "code",
   "execution_count": 23,
   "id": "e7853c71-04f6-4438-a5cf-d22d1302090a",
   "metadata": {
    "tags": []
   },
   "outputs": [
    {
     "data": {
      "text/plain": [
       "4.5"
      ]
     },
     "execution_count": 23,
     "metadata": {},
     "output_type": "execute_result"
    }
   ],
   "source": [
    "# time of maximum height\n",
    "t_exact[np.argmax(y_exact)]"
   ]
  },
  {
   "cell_type": "markdown",
   "id": "ed3d434f-17a2-4448-a242-3619a35212ff",
   "metadata": {},
   "source": [
    "It should take 4.5 seconds. With this in mind, the exact solution for maximum height could be computed using an integral like the one below. \n",
    "\n",
    "$$y_\\text{max} = 2 + \\int_0^{4.5}\\frac{dy}{dt}dt$$\n",
    "\n",
    "**&#9989; Task 2.5:** Discuss the following questions with your group, and in your own words, write at least three sentences about your discussion.\n",
    "* In the visualization you made above, how do the values `dt` affect what you see?\n",
    "* How does the integral setup relate to your code in Task 2.2?\n",
    "* What does `dt` represent physically, in the Euler approximation solutions?\n",
    "* What does $dt$ represent physically, in the integral?\n",
    "* A finite sum in an approximation of an integral (which is an infinite sum). How can you rewrite the integral as a finite sum to aid in your explanations to the questions above?"
   ]
  },
  {
   "cell_type": "markdown",
   "id": "b490ab8b-a456-4ce6-9012-8b82b7be079d",
   "metadata": {},
   "source": [
    "**/discussion notes here/**"
   ]
  },
  {
   "cell_type": "markdown",
   "id": "f438afe4-adec-409d-a3c9-eaa53257f984",
   "metadata": {
    "tags": []
   },
   "source": [
    "#### &#128721; **Stop here and check your progress with an instructor**"
   ]
  }
 ],
 "metadata": {
  "kernelspec": {
   "display_name": "Python 3 (ipykernel)",
   "language": "python",
   "name": "python3"
  },
  "language_info": {
   "codemirror_mode": {
    "name": "ipython",
    "version": 3
   },
   "file_extension": ".py",
   "mimetype": "text/x-python",
   "name": "python",
   "nbconvert_exporter": "python",
   "pygments_lexer": "ipython3",
   "version": "3.12.4"
  }
 },
 "nbformat": 4,
 "nbformat_minor": 5
}
