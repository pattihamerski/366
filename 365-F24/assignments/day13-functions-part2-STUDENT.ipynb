{
 "cells": [
  {
   "cell_type": "markdown",
   "id": "6c840208-7e35-4d0a-a961-e03b4c170e0b",
   "metadata": {
    "tags": []
   },
   "source": [
    "# Day 13: Writing Useful Functions"
   ]
  },
  {
   "cell_type": "markdown",
   "id": "4962c7e4-68c3-4e53-850c-66bff7829692",
   "metadata": {
    "tags": []
   },
   "source": [
    "### &#9989; Write your name here"
   ]
  },
  {
   "cell_type": "markdown",
   "id": "bbf1249b-3111-44b9-95b2-2720910e6be0",
   "metadata": {},
   "source": [
    "Functions are used in almost every chunk of code, and even before we learned how to create them, we were already calling functions for many different purposes (for example, `print`, `append`, `range`, `type`, `np.arange`). Being able to create a sequence of numbers is so much easier when we can quickly conjure them up with a command like `range(100)`, instead of needing to create that list or array from scratch and adding numbers in manually.\n",
    "\n",
    "To review, using a function like that is called **calling** a function. This is how we tell the computer to execute function code. Otherwise, the function would exist, but its code would never be executed. In general, the syntax for calling a function goes like `function_name(value1, value2, ...)`, where each input must be an *existing value* that the computer can plug in when executing the code.\n",
    "\n",
    "In contrast, when we **define** a new function, the computer does not immediately execute that code. Furthermore, the inputs (or **\"arguments\"**) in a function definition *do not* need to have pre-existing values. Instead, they can act as placeholder variables which won't be assigned values until the function is **called** with inputs that *do* have values, at which point the function code actually runs for the first time. The table below summarizes this comparison.\n",
    "\n",
    "| | Defining a function | Calling a function |\n",
    "|-|---------------------|--------------------|\n",
    "|**Syntax**|`def function_name(arg1, arg2):    `<br>`    indented code                   `<br>`    can use arguments here          `<br>`    more indented code              `<br>`    ...                             `|`function_name(value1, value2)`|\n",
    "|**Value of inputs**| `arg1` and `arg1` have no value, they are <br>only placeholders. | `value1` and `value2` are variables <br>with existing values, or they themselves <br>are values. |\n",
    "|**Value of function**| `function_name` is an object that can <br>be called. | `function_name(value1, value2)` <br> is the value that is *returned* when the <br>function code is executed after <br>assigning `arg1 = value1` and <br>`arg2 = value2`. |"
   ]
  },
  {
   "cell_type": "markdown",
   "id": "d7359f8b-e490-4684-9d9e-cf1ef96b9467",
   "metadata": {},
   "source": [
    "Getting the hang of defining and using functions efficiently means making mistakes sometimes and learning to overcome errors to build running code.\n",
    "\n",
    "**&#9989; Task 0.1:** As part of your assignment today, catalog at least one error into this document: [**Tracking Errors**](https://docs.google.com/document/d/1M875JQcGT-QEegz6Iavj00Gt4qchflKkqxhChoR1J3Q/edit?usp=sharing). There is an example provided in the document. This will be posted to Canvas for reference later if you want to remember how you solved an error or see how your classmates solved an error."
   ]
  },
  {
   "cell_type": "markdown",
   "id": "c409af32-f2cc-4b18-a59d-22c2c6512fd8",
   "metadata": {},
   "source": [
    "---\n",
    "\n",
    "### Part 1: Reducing repetitive code with functions\n",
    "\n",
    "The primary purpose of functions is to store useful code in one spot, so that you don't need to rewrite the same code over and over again. Instead, you can just call the function that already has the useful code that you need.\n",
    "\n",
    "We have dealt with repetitive code before using **loops**, which are great for running the *exact same* chunk of code repeatedly in sequence. Using functions provides more flexibility: \n",
    "- You can provide *different inputs* each time you call a function, which can change how the code runs.\n",
    "- You can call a function *at any point* after it has been defined, not just in one code chunk like a loop."
   ]
  },
  {
   "cell_type": "markdown",
   "id": "b76dc979-0643-4be7-aab1-19bf70dd5beb",
   "metadata": {},
   "source": [
    "**&#9989; Task 1.1:** Take the provided repetitive code, and clean it up by creating a function to reduce the amount of code needed, while still performing the same operations and achieving the same result."
   ]
  },
  {
   "cell_type": "code",
   "execution_count": 37,
   "id": "7547a14f-526a-4a2d-8298-6679bd4ebda3",
   "metadata": {},
   "outputs": [
    {
     "name": "stdout",
     "output_type": "stream",
     "text": [
      "0 1 1 3 13 55\n"
     ]
    }
   ],
   "source": [
    "# edit the code in this cell\n",
    "\n",
    "n = 0\n",
    "\n",
    "fib_prev = 0\n",
    "fib_curr = 1\n",
    "\n",
    "for i in range(2, n + 1):\n",
    "    fib_next = fib_curr + fib_prev\n",
    "    fib_prev = fib_curr\n",
    "    fib_curr = fib_next\n",
    "\n",
    "if n == 0:\n",
    "    fib_curr = 0\n",
    "\n",
    "zeroth = fib_curr\n",
    "\n",
    "n = 1\n",
    "\n",
    "fib_prev = 0\n",
    "fib_curr = 1\n",
    "\n",
    "for i in range(2, n + 1):\n",
    "    fib_next = fib_curr + fib_prev\n",
    "    fib_prev = fib_curr\n",
    "    fib_curr = fib_next\n",
    "\n",
    "if n == 0:\n",
    "    fib_curr = 0\n",
    "\n",
    "first = fib_curr\n",
    "\n",
    "n = 2\n",
    "\n",
    "fib_prev = 0\n",
    "fib_curr = 1\n",
    "\n",
    "for i in range(2, n + 1):\n",
    "    fib_next = fib_curr + fib_prev\n",
    "    fib_prev = fib_curr\n",
    "    fib_curr = fib_next\n",
    "\n",
    "if n == 0:\n",
    "    fib_curr = 0\n",
    "\n",
    "second = fib_curr\n",
    "\n",
    "n = 4\n",
    "\n",
    "fib_prev = 0\n",
    "fib_curr = 1\n",
    "\n",
    "for i in range(2, n + 1):\n",
    "    fib_next = fib_curr + fib_prev\n",
    "    fib_prev = fib_curr\n",
    "    fib_curr = fib_next\n",
    "\n",
    "if n == 0:\n",
    "    fib_curr = 0\n",
    "\n",
    "fourth = fib_curr\n",
    "\n",
    "n = 7\n",
    "\n",
    "fib_prev = 0\n",
    "fib_curr = 1\n",
    "\n",
    "for i in range(2, n + 1):\n",
    "    fib_next = fib_curr + fib_prev\n",
    "    fib_prev = fib_curr\n",
    "    fib_curr = fib_next\n",
    "\n",
    "if n == 0:\n",
    "    fib_curr = 0\n",
    "\n",
    "seventh = fib_curr\n",
    "\n",
    "n = 10\n",
    "\n",
    "fib_prev = 0\n",
    "fib_curr = 1\n",
    "\n",
    "for i in range(2, n + 1):\n",
    "    fib_next = fib_curr + fib_prev\n",
    "    fib_prev = fib_curr\n",
    "    fib_curr = fib_next\n",
    "\n",
    "if n == 0:\n",
    "    fib_curr = 0\n",
    "\n",
    "tenth = fib_curr\n",
    "\n",
    "print(zeroth, first, second, fourth, seventh, tenth)"
   ]
  },
  {
   "cell_type": "markdown",
   "id": "4327412e-ad5f-4100-98c2-aceacd8bc36a",
   "metadata": {},
   "source": [
    "**&#9989; Task 1.2:** Take the provided repetitive code, and clean it up by creating a function to reduce the amount of code needed, while still performing the same operations and achieving the same result."
   ]
  },
  {
   "cell_type": "code",
   "execution_count": 40,
   "id": "564ee734-71a6-466d-b898-6be73b26f193",
   "metadata": {},
   "outputs": [
    {
     "name": "stdout",
     "output_type": "stream",
     "text": [
      "Kinetic energy of this object is 22.897999999999996 joules\n",
      "Kinetic energy of this object is 9.604000000000003 joules\n",
      "Kinetic energy of this object is 16.428 joules\n",
      "Kinetic energy of this object is 16.81 joules\n",
      "Total kinetic energy is 65.74 joules\n"
     ]
    }
   ],
   "source": [
    "# edit the code in this cell\n",
    "\n",
    "mass = 0.4\n",
    "vel = 10.7\n",
    "\n",
    "KE = 0.5 * mass * vel ** 2\n",
    "print(\"Kinetic energy of this object is\", KE, \"joules\")\n",
    "\n",
    "energy1 = KE\n",
    "\n",
    "mass = 0.8\n",
    "vel = -4.9\n",
    "\n",
    "KE = 0.5 * mass * vel ** 2\n",
    "print(\"Kinetic energy of this object is\", KE, \"joules\")\n",
    "\n",
    "energy2 = KE\n",
    "\n",
    "mass = 0.6\n",
    "vel = -7.4\n",
    "\n",
    "KE = 0.5 * mass * vel ** 2\n",
    "print(\"Kinetic energy of this object is\", KE, \"joules\")\n",
    "\n",
    "energy3 = KE\n",
    "\n",
    "mass = 0.5\n",
    "vel = 8.2\n",
    "\n",
    "KE = 0.5 * mass * vel ** 2\n",
    "print(\"Kinetic energy of this object is\", KE, \"joules\")\n",
    "\n",
    "energy4 = KE\n",
    "\n",
    "print(\"Total kinetic energy is\", energy1 + energy2 + energy3 + energy4, \"joules\")"
   ]
  },
  {
   "cell_type": "markdown",
   "id": "f78291be-cbcb-435d-a8d1-d22678db2cdc",
   "metadata": {},
   "source": [
    "**&#9989; Task 1.3:** Take the provided repetitive code, and clean it up by creating a function to reduce the amount of code needed, while still performing the same operations and achieving the same result."
   ]
  },
  {
   "cell_type": "code",
   "execution_count": 52,
   "id": "34bfb459-06ca-4a04-b202-85dfa08e6923",
   "metadata": {},
   "outputs": [
    {
     "name": "stdout",
     "output_type": "stream",
     "text": [
      "Forces: [0, 7, 83, -9, -70]\n",
      "Net force is to the right.\n",
      "Forces: [4, 5, -9]\n",
      "Net force is zero.\n",
      "Forces: [3, 0, -4]\n",
      "Net force is to the left.\n",
      "Forces: []\n",
      "Net force is zero.\n"
     ]
    }
   ],
   "source": [
    "# edit the code in this cell\n",
    "\n",
    "forces = [0, 7, 83, -9, -70]\n",
    "\n",
    "print(\"Forces:\", forces)\n",
    "if sum(forces) < 0:\n",
    "    print(\"Net force is to the left.\")\n",
    "elif sum(forces) > 0:\n",
    "    print(\"Net force is to the right.\")\n",
    "else:\n",
    "    print(\"Net force is zero.\")\n",
    "\n",
    "forces = [4, 5, -9]\n",
    "\n",
    "print(\"Forces:\", forces)\n",
    "if sum(forces) < 0:\n",
    "    print(\"Net force is to the left.\")\n",
    "elif sum(forces) > 0:\n",
    "    print(\"Net force is to the right.\")\n",
    "else:\n",
    "    print(\"Net force is zero.\")\n",
    "\n",
    "forces = [3, 0, -4]\n",
    "\n",
    "print(\"Forces:\", forces)\n",
    "if sum(forces) < 0:\n",
    "    print(\"Net force is to the left.\")\n",
    "elif sum(forces) > 0:\n",
    "    print(\"Net force is to the right.\")\n",
    "else:\n",
    "    print(\"Net force is zero.\")\n",
    "\n",
    "forces = []\n",
    "\n",
    "print(\"Forces:\", forces)\n",
    "if sum(forces) < 0:\n",
    "    print(\"Net force is to the left.\")\n",
    "elif sum(forces) > 0:\n",
    "    print(\"Net force is to the right.\")\n",
    "else:\n",
    "    print(\"Net force is zero.\")"
   ]
  },
  {
   "cell_type": "markdown",
   "id": "ccb55785-c144-4c61-ab58-46046225decc",
   "metadata": {},
   "source": [
    "**&#9989; Task 1.4:** Take the provided repetitive code, and clean it up by creating a function to reduce the amount of code needed, while still performing the same operations and achieving the same result."
   ]
  },
  {
   "cell_type": "code",
   "execution_count": 87,
   "id": "477774bd-bddd-49c9-a5ba-0475db80d581",
   "metadata": {},
   "outputs": [
    {
     "data": {
      "image/png": "[encoded data removed]",
      "text/plain": [
       "<Figure size 640x480 with 1 Axes>"
      ]
     },
     "metadata": {},
     "output_type": "display_data"
    },
    {
     "name": "stdout",
     "output_type": "stream",
     "text": [
      "Flight times: 2.04 seconds, 3.18 seconds, 2.59 seconds, and 1.74 seconds.\n"
     ]
    }
   ],
   "source": [
    "# edit the code in this cell\n",
    "\n",
    "import matplotlib.pyplot as plt\n",
    "import numpy as np\n",
    "\n",
    "g = 9.81\n",
    "\n",
    "v0 = 20\n",
    "angle = 30\n",
    "\n",
    "angle_rad = np.radians(angle)\n",
    "vx0 = v0 * np.cos(angle_rad)\n",
    "vy0 = v0 * np.sin(angle_rad)\n",
    "\n",
    "tf = 2 * vy0 / g\n",
    "t = np.linspace(0, tf, 500)\n",
    "\n",
    "x = vx0 * t\n",
    "y = vy0 * t - 0.5 * g * t ** 2\n",
    "info = str(v0) + \" m/s, \" + str(angle) + \" deg\"\n",
    "plt.plot(x, y, label=info)\n",
    "\n",
    "flight_time1 = np.round(tf, 2)\n",
    "\n",
    "v0 = 18\n",
    "angle = 60\n",
    "\n",
    "angle_rad = np.radians(angle)\n",
    "vx0 = v0 * np.cos(angle_rad)\n",
    "vy0 = v0 * np.sin(angle_rad)\n",
    "\n",
    "tf = 2 * vy0 / g\n",
    "t = np.linspace(0, tf, 500)\n",
    "\n",
    "x = vx0 * t\n",
    "y = vy0 * t - 0.5 * g * t ** 2\n",
    "info = str(v0) + \" m/s, \" + str(angle) + \" deg\"\n",
    "plt.plot(x, y, label=info)\n",
    "\n",
    "flight_time2 = np.round(tf, 2)\n",
    "\n",
    "v0 = 18\n",
    "angle = 45\n",
    "\n",
    "angle_rad = np.radians(angle)\n",
    "vx0 = v0 * np.cos(angle_rad)\n",
    "vy0 = v0 * np.sin(angle_rad)\n",
    "\n",
    "tf = 2 * vy0 / g\n",
    "t = np.linspace(0, tf, 500)\n",
    "\n",
    "x = vx0 * t\n",
    "y = vy0 * t - 0.5 * g * t ** 2\n",
    "info = str(v0) + \" m/s, \" + str(angle) + \" deg\"\n",
    "plt.plot(x, y, label=info)\n",
    "\n",
    "flight_time3 = np.round(tf, 2)\n",
    "\n",
    "v0 = 25\n",
    "angle = 20\n",
    "\n",
    "angle_rad = np.radians(angle)\n",
    "vx0 = v0 * np.cos(angle_rad)\n",
    "vy0 = v0 * np.sin(angle_rad)\n",
    "\n",
    "tf = 2 * vy0 / g\n",
    "t = np.linspace(0, tf, 500)\n",
    "\n",
    "x = vx0 * t\n",
    "y = vy0 * t - 0.5 * g * t ** 2\n",
    "info = str(v0) + \" m/s, \" + str(angle) + \" deg\"\n",
    "plt.plot(x, y, label=info)\n",
    "\n",
    "flight_time4 = np.round(tf, 2)\n",
    "\n",
    "plt.title(\"Projectile motion of different objects\")\n",
    "plt.xlabel(\"distance (m)\")\n",
    "plt.ylabel(\"height (m)\")\n",
    "plt.legend()\n",
    "plt.grid()\n",
    "plt.show()\n",
    "\n",
    "print(\"Flight times:\", flight_time1, \"seconds,\", flight_time2, \"seconds,\",\n",
    "      flight_time3, \"seconds, and\", flight_time4, \"seconds.\")"
   ]
  },
  {
   "cell_type": "markdown",
   "id": "45e939fd-ffe2-4714-8453-a199aa96c1b6",
   "metadata": {},
   "source": [
    "**&#9989; Task 1.5:** Read back through your code. You reduced a lot of unnecessary repetition! For each function you wrote, **add comments into your code** above or inside each function to explain how your function is meant to be used. In your comments:\n",
    "- Explain what the function does generally.\n",
    "- Explain what inputs the function needs.\n",
    "- Explain what outputs (both printed and returned) the function has.\n",
    "\n",
    "If you don't usually comment your code, functions are the *most important* parts of code to comment, because they are the easiest pieces for someone else to take and use if you are sharing your code. Commenting functions is a way of providing a little guide for someone else to use the tool you created (and for you to remind yourself when you are looking back through your old code)."
   ]
  },
  {
   "cell_type": "markdown",
   "id": "1601b8f8-1d9b-4066-9d22-a0ad644efec4",
   "metadata": {},
   "source": [
    "#### &#128721; **Stop here and check your progress with an instructor.**"
   ]
  },
  {
   "cell_type": "markdown",
   "id": "9448f7bc-c9d0-419d-9346-1add9b17309b",
   "metadata": {},
   "source": [
    "---\n",
    "\n",
    "### Part 2: Functions with default arguments\n",
    "\n",
    "Another way functions can offer flexibility while still saving space in code is with **default arguments**. In one way, default arguments are like normal function arguments because they are written into the function definition and you can specify their value when you call the function. However, default arguments do not *need* to be specified when you call a function, because they have **default values** that they take on if they are not specified in a function call.\n",
    "\n",
    "An example of a function with default arguments is `np.linspace`. Go to the [**documentation here**](https://numpy.org/doc/stable/reference/generated/numpy.linspace.html) to see. The function and its arguments are listed out like: `numpy.linspace(start, stop, num=50, ...)`. The first two arguments are normal, but `num`, the third argument, has a default value of `50`. This means that if you call `np.linspace`, you can provide three arguments -- the start point, the stop point, and the number of steps -- **or** you can choose to only specify two arguments, the start point and stop point. If you only specify two arguments, the number of steps will **default** to 50.\n",
    "\n",
    "The syntax of defining a default argument looks similar to the documentation:\n",
    "\n",
    "```\n",
    "def function_name(arg1, arg2, default_arg3=value3, default_arg4=value4):\n",
    "    indented code\n",
    "    ...\n",
    "```\n",
    "\n",
    "When defining a function with default arguments, those arguments must be listed *after* the normal arguments in your sequence of inputs, like above."
   ]
  },
  {
   "cell_type": "markdown",
   "id": "28f823e5-d6b7-4b2c-9fc5-b0817333c36a",
   "metadata": {},
   "source": [
    "**&#9989; Task 2.1:** Copy your function from Task 1.4, and update it to include a default argument for **gravity**, with a default value of 9.81."
   ]
  },
  {
   "cell_type": "code",
   "execution_count": null,
   "id": "4fc58453-29e2-4079-b26a-0d190dc107c1",
   "metadata": {},
   "outputs": [],
   "source": [
    "# your code here"
   ]
  },
  {
   "cell_type": "markdown",
   "id": "f2cff790-33d2-439b-bd2e-483826b55b1e",
   "metadata": {},
   "source": [
    "**&#9989; Task 2.2:** Using your updated function, create a plot that compares projectiles on different planets. You are free to alter the function further or change your plotting code if you think it will help you convey the comparison more clearly."
   ]
  },
  {
   "cell_type": "code",
   "execution_count": null,
   "id": "8ba90f60-962f-4345-af9b-5817259b64c7",
   "metadata": {},
   "outputs": [],
   "source": [
    "# your code here"
   ]
  },
  {
   "cell_type": "markdown",
   "id": "a270b1b2-be3c-49ac-a865-15d6815d15bd",
   "metadata": {},
   "source": [
    "**&#9989; Task 2.3:** Find the online documentation for a function from a code library that you have used before (*not* `np.linspace` because that is used as an example). Below, include:\n",
    "- The function name.\n",
    "- A link to the documentation page you found.\n",
    "- A breakdown of the different sections of information provided on documentation page (for example, the `np.linspace` documentation page includes a summary explanation, explanations of each argument, the return values, similar functions, and an example of usage).\n",
    "- An explanation why you think the documentation you found is structured like this."
   ]
  },
  {
   "cell_type": "markdown",
   "id": "0e1056a5-8fc0-4e5a-9395-47922e141859",
   "metadata": {},
   "source": [
    "**/your answer here/**"
   ]
  },
  {
   "cell_type": "markdown",
   "id": "79a77272-3f44-4c33-aeea-006d7409163b",
   "metadata": {},
   "source": [
    "**&#9989; Task 2.4:** From the documentation you found, identify at least one **default variable**. Copy and paste the documentation text that explains what that default variable is used for, and do your best to paraphrase what it means in your own words."
   ]
  },
  {
   "cell_type": "markdown",
   "id": "c650d4df-acee-4565-9f17-9bda6c35398f",
   "metadata": {},
   "source": [
    "**/your answer here/**"
   ]
  },
  {
   "cell_type": "markdown",
   "id": "4df4316e-937c-4066-a100-1b76645671af",
   "metadata": {},
   "source": [
    "**&#9989; Task 2.5:** Now that you have had a chance to explore documentation, go back and review how you commented functions in Task 1.5. **Discuss with a peer and decide on reasonable guidelines** for commenting functions in code. You don't need the same level of detail as the online documentation pages, but think about how to provide the most important information needed to describe what a function is designed for, while still making your comments reasonably succinct and readable. Below, **clearly describe your guidelines**."
   ]
  },
  {
   "cell_type": "markdown",
   "id": "730a9592-bd0a-401a-ae27-2d8241329f4b",
   "metadata": {},
   "source": [
    "**/your answer here/**"
   ]
  },
  {
   "cell_type": "markdown",
   "id": "36c9541d-488c-4f85-aa74-69b394d12c16",
   "metadata": {},
   "source": [
    "**&#9989; Task 2.6:** Go back and comment your code in Tasks 2.1 and 2.2 using the guidelines you came up with."
   ]
  },
  {
   "cell_type": "markdown",
   "id": "20fe5c83-8275-4d5c-989d-df4c14fb4e95",
   "metadata": {},
   "source": [
    "#### &#128721; **Stop here and check your progress with an instructor.**"
   ]
  }
 ],
 "metadata": {
  "kernelspec": {
   "display_name": "Python 3 (ipykernel)",
   "language": "python",
   "name": "python3"
  },
  "language_info": {
   "codemirror_mode": {
    "name": "ipython",
    "version": 3
   },
   "file_extension": ".py",
   "mimetype": "text/x-python",
   "name": "python",
   "nbconvert_exporter": "python",
   "pygments_lexer": "ipython3",
   "version": "3.12.4"
  }
 },
 "nbformat": 4,
 "nbformat_minor": 5
}
