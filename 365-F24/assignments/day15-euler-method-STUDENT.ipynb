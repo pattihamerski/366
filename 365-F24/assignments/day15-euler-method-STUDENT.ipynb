{
 "cells": [
  {
   "cell_type": "markdown",
   "id": "6bdb82cf-44a8-485c-aa04-ba9b74d1628e",
   "metadata": {},
   "source": [
    "# Day 15: The Euler Method"
   ]
  },
  {
   "cell_type": "markdown",
   "id": "11303bf7-e91d-47b0-a0cd-026b19a68eda",
   "metadata": {
    "tags": []
   },
   "source": [
    "### &#9989; Write your name here"
   ]
  },
  {
   "cell_type": "markdown",
   "id": "2afc07a8-bc2e-46df-b93a-c1872c914822",
   "metadata": {},
   "source": [
    "Today's assignment is about the Euler Method, a **numerical method** that can be used to solve **differential equations**. Let's zoom out for a second to break that down.\n",
    "\n",
    "**Differential equations** describe how physical quantities change with respect to one another. For example, $v = \\frac{dx}{dt}$ defines velocity as the change in position with respect to time. $\\frac{dx}{dt}$ is also called the **derivative** of $x$ with respect to $t$. \n",
    "\n",
    "Differential equations contain **derivatives**. The notation for derivatives varies -- in a math class, you might see the derivative of $f$ written as $f'$ (like in the gif below). Visually, you can see that **a *derivative* is just a *slope***.\n",
    "\n",
    "<img src=\"https://upload.wikimedia.org/wikipedia/commons/2/2d/Tangent_function_animation.gif\" alt=\"\" width=\"300\"/>\n",
    "\n",
    "In a physics class, you might see the derivative of $y$ written as $\\dot{y}$. Notations like $f'$ and $\\dot{y}$ are formatted concisely, but we want to be consistent and clear as well. For that reason, **we will write derivatives like $\\frac{dx}{dt}$**, where we can clearly identify the dependent variable ($x$) and the independent variable ($t$)."
   ]
  },
  {
   "cell_type": "markdown",
   "id": "592b3558-c0e8-461e-948c-52ac2dfdf9a9",
   "metadata": {},
   "source": [
    "&#9989; **Task 0.1:** Write a differential equation from physics that you have used before (other than $v = \\frac{dx}{dt}$)."
   ]
  },
  {
   "cell_type": "markdown",
   "id": "cacfd7df-3eee-48f7-90f1-1fec4fe8d8c6",
   "metadata": {},
   "source": [
    "**/your answer here/**"
   ]
  },
  {
   "cell_type": "markdown",
   "id": "d0326f9b-3649-4de2-90d2-a6b587e0d557",
   "metadata": {},
   "source": [
    "Again, the Euler Method is a **numerical method** that can be used to solve differential equations. A **numerical method** is a procedure we can use to compute a **numerical approximation of a physical model**. \n",
    "\n",
    "Here are some examples numerical methods we have used: a small-velocity approximation of the Lorentz factor, Taylor series approximations of cosine, and the simulation of radioactive decay of atoms. In each of these examples, we followed these general steps:\n",
    "1. We started with a physical phenomenon.\n",
    "    - *For example, the Lorentz factor*\n",
    "3. We identified a method for using known values to approximate a relevant physical quantity.\n",
    "    - *For example, the small-velocity approximation $\\Gamma \\approx 1 + \\frac{v^2}{2c^2}$*\n",
    "5. We broke down our independent variable into a **limited number** of smaller units that could be directly computed, also called **discretizing** it.\n",
    "    - *For example, using `arange` or `linspace` to compute velocity values*\n",
    "7. We computed the approximation at all of the **limited number** of independent units..\n",
    "    - *For example, using direct NumPy operations to compute our approximation for $\\Gamma$ at every velocity value*"
   ]
  },
  {
   "cell_type": "markdown",
   "id": "3bf1bcee-330a-43d5-b828-772428a00feb",
   "metadata": {},
   "source": [
    "&#9989; **Task 0.2:** Write down the name of a physical quantity you have **approximated** in another physics class (doesn't need to be a computational approximation)."
   ]
  },
  {
   "cell_type": "markdown",
   "id": "76c78712-f8ed-42bb-b633-2e2cb51b7863",
   "metadata": {},
   "source": [
    "**/your answer here/**"
   ]
  },
  {
   "cell_type": "markdown",
   "id": "810ee9dd-0b89-45cd-94ff-1b82fedb8b14",
   "metadata": {},
   "source": [
    "Today, we will use the Euler method, which approximates physical quantities when a **first derivative** is known. For simplicity, we will use $f(x,y)$ to refer to this derivative, where $y$ is the dependent variable, and $x$ is the independent variable."
   ]
  },
  {
   "cell_type": "markdown",
   "id": "d9003478-23f6-4692-ba66-fe23a77c5776",
   "metadata": {},
   "source": [
    "$$f(x,y) = \\frac{dy}{dx}$$"
   ]
  },
  {
   "cell_type": "markdown",
   "id": "6dfc38dc-99b5-401c-901f-53a302108f14",
   "metadata": {},
   "source": [
    "The principle of the Euler method is to use known values of the derivative and of $y$ to find the next value of $y$ at nearby point. This equation represents the method:"
   ]
  },
  {
   "cell_type": "markdown",
   "id": "6b1979ea-8899-4ef9-ba56-fc02a7ca6efc",
   "metadata": {},
   "source": [
    "$$y(x_i + \\Delta x) = y(x_i) + \\left. \\frac{dy}{dx}\\right|_{x=x_i} \\Delta x$$"
   ]
  },
  {
   "cell_type": "markdown",
   "id": "1cd5bde9-59cb-4289-bb76-cbf4185f324a",
   "metadata": {},
   "source": [
    "Using the $f(x,y)$ notation, this is what we get:"
   ]
  },
  {
   "cell_type": "markdown",
   "id": "9b569967-ebb8-4f28-8c60-9669a804e3f5",
   "metadata": {},
   "source": [
    "$$ y_{i+1} = y_i + f(x_i, y_i)\\Delta x $$"
   ]
  },
  {
   "cell_type": "markdown",
   "id": "84487fa7-cf20-4b6b-923b-7ccb88fd531c",
   "metadata": {},
   "source": [
    "Visually, this is what we do every time we compute a value of $y$ using the Euler method:\n",
    "\n",
    "<img src=\"https://raw.githubusercontent.com/pattihamerski/PH-36X-Public/refs/heads/main/image/euler-diagram.png\" alt=\"\" width=\"500\"/>\n",
    "\n",
    "Using known quantities -- the independent $x$ values and the slope and value of $y$ at a given point -- we can compute the value $y$ at the next point along the $x$-axis.\n",
    "\n",
    "From there, as long we know the corresponding values of slope, we can continue computing values of $y$ further and further out, one after the other.\n",
    "\n",
    "In this assignment you will work at translating the Euler method into code."
   ]
  },
  {
   "cell_type": "markdown",
   "id": "4d25bdef-25a5-40ab-83b3-46a7d750f93a",
   "metadata": {},
   "source": [
    "---\n",
    "\n",
    "## Part 1: Coding the Euler method\n",
    "\n",
    "Let's practice the Euler method, starting with this differential equation:\n",
    "\n",
    "$$f(x,y) = \\frac{dy}{dx} = xy$$\n",
    "\n",
    "We also know an initial value of $y$:\n",
    "\n",
    "$$y(0) = 1$$"
   ]
  },
  {
   "cell_type": "markdown",
   "id": "66fe4f56-b54e-4a99-9ce4-30c78121de5b",
   "metadata": {},
   "source": [
    "&#9989; **Task 1.1:** The exact solution to this differential equation is $y(x) = e^{\\frac{x^2}{2}}$. Create a plot that visualizes this exact solution over the interval $x \\in [0, 2]$.\n",
    "\n",
    "*Hint: Use the `np.exp` function to compute values of $y$.*"
   ]
  },
  {
   "cell_type": "code",
   "execution_count": null,
   "id": "52547106-c5a7-407f-946f-b749be8925b1",
   "metadata": {},
   "outputs": [],
   "source": [
    "# your answer here"
   ]
  },
  {
   "cell_type": "markdown",
   "id": "2fbfa6bb-70cd-43e8-a87b-d7ea4cfc6920",
   "metadata": {},
   "source": [
    "You should now have:\n",
    "- An array of $x$ values from the previous task\n",
    "- A formula for the derivative $\\frac{dy}{dx}$\n",
    "- A value for $y_0$ (the initial value of $y$).\n",
    "\n",
    "&#9989; **Task 1.2:** In preparation for using the Euler method, define two variables, `y0` and `dx` that correspond the initial value of $y$ and the step-size between $x$ values."
   ]
  },
  {
   "cell_type": "code",
   "execution_count": 4,
   "id": "23902007-671a-4700-8e12-d8ad83ded6ff",
   "metadata": {},
   "outputs": [],
   "source": [
    "# your answer here"
   ]
  },
  {
   "cell_type": "markdown",
   "id": "d9213964-87bb-404c-b351-3a71a1d86951",
   "metadata": {},
   "source": [
    "&#9989; **Task 1.3:** In preparation for using the Euler method, **define a function** to compute the derivative $\\frac{dy}{dx}$. Your function should take generic $x_i$ and $y_i$ values as arguments (the inputs to the function), and it should output the derivative."
   ]
  },
  {
   "cell_type": "code",
   "execution_count": 6,
   "id": "912ad698-4f40-4e99-b98d-855c5ed8a65e",
   "metadata": {},
   "outputs": [],
   "source": [
    "# your answer here"
   ]
  },
  {
   "cell_type": "markdown",
   "id": "e25874f3-3199-4490-a1e0-061a7d2ccbe4",
   "metadata": {},
   "source": [
    "&#9989; **Task 1.4:** Write code to **calculate $y_1$, using the Euler method.** Print out $y_1$.\n",
    "\n",
    "*$y_1$ is the $y$-value that comes directly after $y_0$. In other words, $y_1$ is the $y$-value corresponding to $x_1$, which comes after $x_0$.*"
   ]
  },
  {
   "cell_type": "code",
   "execution_count": null,
   "id": "735966f6-1814-492d-8aa9-ec250b93ead4",
   "metadata": {},
   "outputs": [],
   "source": [
    "# your answer here"
   ]
  },
  {
   "cell_type": "markdown",
   "id": "19c7545a-2b7d-4826-8126-673f5c1babe6",
   "metadata": {},
   "source": [
    "&#9989; **Task 1.5:** Write code to **calculate the next $y$-value, $y_2$, using the Euler method.** Print out $y_2$."
   ]
  },
  {
   "cell_type": "code",
   "execution_count": null,
   "id": "42a94b94-939d-471c-9320-c08c7c7db275",
   "metadata": {},
   "outputs": [],
   "source": [
    "# your answer here"
   ]
  },
  {
   "cell_type": "markdown",
   "id": "8e550866-b65a-4863-91c4-97e7da6f1f54",
   "metadata": {
    "tags": []
   },
   "source": [
    "#### &#128721; **Stop here and check your progress with an instructor**"
   ]
  },
  {
   "cell_type": "markdown",
   "id": "87d27731-0503-4836-9f40-b977d2bcefa7",
   "metadata": {},
   "source": [
    "&#9989; **Task 1.6:** Write code to **sequentially calculate values of y and store them in an array.** Start from $y_0$. Use the description of the Euler method at the top of this assignment, and your solutions to the previous tasks, to help you plan, design, and write this code."
   ]
  },
  {
   "cell_type": "code",
   "execution_count": null,
   "id": "7d0b4ac0-fa61-4596-9633-a718cbf46721",
   "metadata": {},
   "outputs": [],
   "source": [
    "# your answer here"
   ]
  },
  {
   "cell_type": "markdown",
   "id": "683918aa-60c5-4e9f-8183-a300ae156060",
   "metadata": {},
   "source": [
    "&#9989; **Task 1.7:** Create a plot to visualize your values that you computed using **the Euler method**, compared to **the exact solution**."
   ]
  },
  {
   "cell_type": "code",
   "execution_count": null,
   "id": "705aa073-308e-47e6-b7bc-e5818792272f",
   "metadata": {},
   "outputs": [],
   "source": [
    "# your answer here"
   ]
  },
  {
   "cell_type": "markdown",
   "id": "e3f218ef-ecfc-4c02-a0f3-ff40ecf6829f",
   "metadata": {},
   "source": [
    "---\n",
    "\n",
    "## Part 2: Precision and efficiency of the Euler method\n",
    "\n",
    "As with any numerical method, we can evaluate the precision and efficiency of our approximations to figure out the best way to use it in the future."
   ]
  },
  {
   "cell_type": "markdown",
   "id": "fb8b947c-d89d-4ac3-b984-b0c6d86b4c9b",
   "metadata": {},
   "source": [
    "&#9989; **Task 2.1:** In Task 1.6, you computed the $y$-values in a loop. This is the part of the approximation where the Euler method is applied over and over again. Copy and paste your code here, and use `time.time()` to **time how long the calculation takes**."
   ]
  },
  {
   "cell_type": "code",
   "execution_count": null,
   "id": "8704ce93-b377-4587-8726-9151f599a488",
   "metadata": {},
   "outputs": [],
   "source": [
    "# your answer here"
   ]
  },
  {
   "cell_type": "markdown",
   "id": "86d1db4a-68f2-4da1-949e-281e405cfe19",
   "metadata": {},
   "source": [
    "&#9989; **Task 2.2:** Evaluate the precision as well -- what is **the relative error** between your final value of $y$ using the Euler method, versus the final value of $y$ given by the exact solution?\n",
    "\n",
    "*The final value of $y$ is the value at which $x=2$ (the end of the independent variable span).*"
   ]
  },
  {
   "cell_type": "code",
   "execution_count": null,
   "id": "e656df8b-f913-4da1-b693-1707e47876b4",
   "metadata": {},
   "outputs": [],
   "source": [
    "# your answer here"
   ]
  },
  {
   "cell_type": "markdown",
   "id": "7b722f09-d654-4d4b-900f-eb8e88ad9778",
   "metadata": {},
   "source": [
    "&#9989; **Task 2.3:** In the table below, **fill in the first row** with your value for $dx$, your timing for the Euler method from Task 2.1, and your relative error from Task 2.2.\n",
    "\n",
    "Then, **repeat Tasks 2.1 and 2.2** for several different values of $dx$. You must **test at least 5 values** in total, and they must differ in magnitude by **at least a factor of 10,000** from smallest $dx$ to largest $dx$.\n",
    "\n",
    "Using your results, **fill in the rest of the table.**"
   ]
  },
  {
   "cell_type": "markdown",
   "id": "ab20b0c7-7cbc-4b48-bb00-2f6a43289dd7",
   "metadata": {},
   "source": [
    "**/fill in the table below/**\n",
    "\n",
    "| Value of $dx$ | Time to compute Euler approximation | Relative error at $x=2$ |\n",
    "|---------------|-------------------------------------|-------------------------|\n",
    "|               |                                     |                         |\n",
    "|               |                                     |                         |\n",
    "|               |                                     |                         |\n",
    "|               |                                     |                         |\n",
    "|               |                                     |                         |"
   ]
  },
  {
   "cell_type": "markdown",
   "id": "14d6815a-2115-40c3-890e-ef9889c9d53e",
   "metadata": {},
   "source": [
    "&#9989; **Task 2.4:** In your results, you should see somewhat of a trade-off between time efficiency and precision when using the Euler method. With your peers, discuss strategies you can use for choosing a value for $dx$ when using the Euler method. Write your notes below."
   ]
  },
  {
   "cell_type": "markdown",
   "id": "c1451e43-21b9-42b5-9077-1edc7713532d",
   "metadata": {},
   "source": [
    "**/your answer here/**"
   ]
  },
  {
   "cell_type": "markdown",
   "id": "5f9af457-4938-48e1-bf4b-120b049dadcf",
   "metadata": {
    "tags": []
   },
   "source": [
    "#### &#128721; **Stop here and check your progress with an instructor**"
   ]
  }
 ],
 "metadata": {
  "kernelspec": {
   "display_name": "Python 3 (ipykernel)",
   "language": "python",
   "name": "python3"
  },
  "language_info": {
   "codemirror_mode": {
    "name": "ipython",
    "version": 3
   },
   "file_extension": ".py",
   "mimetype": "text/x-python",
   "name": "python",
   "nbconvert_exporter": "python",
   "pygments_lexer": "ipython3",
   "version": "3.12.4"
  }
 },
 "nbformat": 4,
 "nbformat_minor": 5
}
