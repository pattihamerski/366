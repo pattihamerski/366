{
 "cells": [
  {
   "cell_type": "markdown",
   "id": "5819e74f-8eef-4aa8-aad5-457e01ec1e64",
   "metadata": {
    "tags": []
   },
   "source": [
    "# Days 17+18: Mini-Project 2"
   ]
  },
  {
   "cell_type": "markdown",
   "id": "478a55ad-6798-4e7b-9b5e-e48f9c2aaedd",
   "metadata": {
    "tags": []
   },
   "source": [
    "### &#9989; Write your name here"
   ]
  },
  {
   "cell_type": "markdown",
   "id": "ba62f31b-1e21-40d3-ba41-0b2bf7733019",
   "metadata": {},
   "source": [
    "You will have two class periods to work on this assignment. Collaboration is welcome during the mini-project, but you will be expected to submit your own individual work. This assignment is graded based on the rubric posted on Canvas."
   ]
  },
  {
   "cell_type": "markdown",
   "id": "7ccf6f48-37f2-452f-8508-64a1fc82b7c9",
   "metadata": {},
   "source": [
    "**&#9989; Collaboration Statement (5 points):**\n",
    "\n",
    "Clearly state which peers you collaborated with, and describe the level of collaboration. You can wait until the end of the project to fill this out.\n",
    "- List the peers your collaborated with.\n",
    "- For each peer, describe the level of collaboration:\n",
    "    - Brainstorming ideas together.\n",
    "    - Using an idea that they came up with, but making it own by building your plan and code\n",
    "    - Planning and/or writing code together.\n",
    "    - Referencing code that your peer wrote to help you build your solution.\n",
    "    - Copying code directly from your peer **(not allowed -- don't do this!)**.\n",
    "- Feel free to expand on the above bullets to say more about how you collaborated.\n",
    "- If you worked completely on your own, you can say that here."
   ]
  },
  {
   "cell_type": "markdown",
   "id": "d1de41f8-289e-4514-85f3-2aa559b495ad",
   "metadata": {},
   "source": [
    "**/your answer here/**"
   ]
  },
  {
   "cell_type": "markdown",
   "id": "dfeb8aae-e9de-4c2e-9465-02212f70fdc2",
   "metadata": {},
   "source": [
    "---\n",
    "\n",
    "## &#128311; Mini Project: Launching a Potato Cannon\n",
    "\n",
    "In recovery from your post-Thanksgiving food coma, you come to the stark realization that there are many, many leftover potatos. What to do with them all? Make a potato cannon, of course.\n",
    "\n",
    "This is not just any potato cannon. With your programming skills, you have the ability to make careful calculations for how the potato will launch and what its trajectory will be. You have set up a target to hit **from above** at a very far distance.\n",
    "* The initial speed of the launched potato is $250\\text{ m/s}$.\n",
    "* The potato is launched from a height of $2\\text{ m}$.\n",
    "* The target is placed $275\\text{ m}$ away, $10\\text{ m}$ off the ground, with a width of $2\\text{ m}$.\n",
    "\n",
    "You can begin by making a couple of assumptions:\n",
    "* You have a windless day, and therefore the only forces on the potato, after it leaves the cannon, will be from gravity and air drag.\n",
    "* The equation for air drag at high velocities is given below, with constants $\\rho$ (fluid density of air), $C_d$ (drag coefficient of a launched potato), and $A$ (cross-sectional area of a launched potato).\n",
    "\n",
    "$$F_D = \\frac{1}{2}\\rho v^2 C_d A$$\n",
    "\n",
    "In this mini-project, **your main goal is to model the trajectory of a potato with as much detail as possible.**"
   ]
  },
  {
   "cell_type": "markdown",
   "id": "43d3e5fe-8839-4c81-8e26-c6fae89a64ac",
   "metadata": {},
   "source": [
    "More specific instructions are provided further below. You are given the code below to start with, which doesn't quite work as is, but was designed to compute a 2D trajectory using the Euler method.\n",
    "\n",
    "```\n",
    "g = 9.81\n",
    "v0 = 250\n",
    "x0 = 0\n",
    "y0 = 2\n",
    "\n",
    "phi = 35\n",
    "\n",
    "vx = ???\n",
    "vy = ???\n",
    "x = x0\n",
    "y = y0\n",
    "\n",
    "t = 0\n",
    "dt = 0.01\n",
    "\n",
    "while y > 0:\n",
    "    Fx = 0\n",
    "    Fy = - m * g\n",
    "\n",
    "    x += vx * dt\n",
    "    y += vy * dt\n",
    "\n",
    "    vx += Fx / m * dt\n",
    "    vy += Fy / m * dt\n",
    "\n",
    "    t += dt\n",
    "```"
   ]
  },
  {
   "cell_type": "markdown",
   "id": "3a4dbaad-7e04-43f2-be79-540d5847cba0",
   "metadata": {},
   "source": [
    "**&#9989; Main Tasks**  \n",
    "These tasks are meant to guide you in planning and executing a solution. You must address all the tasks to get full credit for this mini-project. Keep in mind that your overall work must be organized to **clearly address the main goal above** as well.\n",
    "\n",
    "**In your solution, you must:**  \n",
    "&#9989; Outline a detailed plan for your project solution that address the main goal while incorporating all of the tasks below.  \n",
    "&#9989; Determine reasonable values for any constants needed in your solution, and cite all sources used.  \n",
    "&#9989; Create a force diagram for the potato mid-flight, and visually break down each force into $x$ and $y$ components. Include your diagram by embedding an image directly into your notebook, or attaching it as separate file in your Canvas submission and referencing the file in your notebook.  \n",
    "&#9989; Using the Euler method and plotting tools, compute the trajectory of a launched potato.  \n",
    "&#9989; Find a launch angle that will allow the potato cannon can hit the target from above, and create a visualization showing how the trajectory will hit the target.  \n",
    "&#9989; Consider potential limitations using the prompts below, and demonstrate how those limitations could affect your solution.  \n",
    "&#9989; Summarize the findings and limitations of your overall solution clearly.  \n",
    "&#9989; Directly answer the reflection prompts below.  \n",
    "\n",
    "**From here, you can add additional cells below to include your solution.**"
   ]
  },
  {
   "cell_type": "markdown",
   "id": "62c5f939-d8b7-41f6-8faa-4afbef50edf6",
   "metadata": {},
   "source": [
    "---"
   ]
  },
  {
   "cell_type": "markdown",
   "id": "c157d0f7-f0a9-4b08-af08-ead4e45971dd",
   "metadata": {},
   "source": [
    "**&#9989; Considering Limitations** (address this part after computing a trajectory that can hit your target):\n",
    "\n",
    "You just computed a launch angle for your potato cannon that hit your target from a distance of 275 meters. But what if conditions were slightly different? Or what if the real-world scenario doesn't act as nicely as we assumed? How would that affect your solution?\n",
    "\n",
    "There are several potential sources of error, including:\n",
    "- **Calibration error:** What if the actual angle were slightly different than how the potato cannon's angle was calibrated, off by a fraction of a degree?\n",
    "- **Estimation error:** What if the value of the drag coefficient of your potato were slightly different than estimated?\n",
    "- **Assumption error:** What if the windless assumption was wrong, and there was a slight headwind or tailwind in the x-direction?\n",
    "- **Measurement error:** What if the initial speed of the potato were slightly different than measured?\n",
    "\n",
    "In considering limitations, **choose two** of the above potential sources of error, and **demonstrate the effect** it would have on your model. For each of your two chosen sources of error, **answer these questions**:\n",
    "- Quantify the allowable amount of variation in the source of error that would still allow you to hit the target *(for example, show that you can still hit the target if the angle were calibrated wrong by as much as +/- theta -- your job would be to solve for theta)*\n",
    "- Discuss the impact of this source of error on your findings. How reasonable would it be in reality to mitigate the impact of the limitation? How would you suggest setting up the potato cannon? You are encouraged to be creative with your ideas here."
   ]
  },
  {
   "cell_type": "markdown",
   "id": "79afdca4-4322-4c67-929c-5f9ae7b0ee1e",
   "metadata": {},
   "source": [
    "**/your answer here/**"
   ]
  },
  {
   "cell_type": "markdown",
   "id": "73b338db-e7ec-47f5-9739-2c68b451af14",
   "metadata": {},
   "source": [
    "**&#9989; Reflection 1:** Reflect on how you used outside resources during this project. **Write a response** to the following questions:\n",
    "- What coding techniques did you look up and figure out how to implement in your project?\n",
    "- What explanations on computing concepts did you look up to get a better understanding of?\n",
    "- What resources did you consult, and how did you use them?\n",
    "- Where in your project did you use Gen-AI (if at all), and how did you ensure your solution reflected your own interpretation of the Gen-AI outputs?"
   ]
  },
  {
   "cell_type": "markdown",
   "id": "2cfe007c-41d5-4c33-9d4f-337fdc163369",
   "metadata": {},
   "source": [
    "**/your answer here/**"
   ]
  },
  {
   "cell_type": "markdown",
   "id": "af0002f5-db51-4746-a470-a8a5027b2b44",
   "metadata": {},
   "source": [
    "**&#9989; Reflection 2:** Reflect on the challenges you faced when doing this project. Consider the questions below, and identify at least two specific challenges.\n",
    "- What challenges did you face that you weren't expecting?\n",
    "- What errors did you run into that were challenging to resolve?\n",
    "- Which tasks took longer than you thought they would, or what code did you not know how to write at first and ittook you a while to figure out?\n",
    "\n",
    "**Write a response** to the following questions:\n",
    "- Which two challenges did you identify? Describe the challenge in detail, including your approach to overcoming it.\n",
    "- What did you learn from these challenges?\n"
   ]
  },
  {
   "cell_type": "markdown",
   "id": "f5c5c8d2-89a4-4115-9d9c-083e3d9bdb41",
   "metadata": {},
   "source": [
    "**/your answer here/**"
   ]
  }
 ],
 "metadata": {
  "kernelspec": {
   "display_name": "Python 3 (ipykernel)",
   "language": "python",
   "name": "python3"
  },
  "language_info": {
   "codemirror_mode": {
    "name": "ipython",
    "version": 3
   },
   "file_extension": ".py",
   "mimetype": "text/x-python",
   "name": "python",
   "nbconvert_exporter": "python",
   "pygments_lexer": "ipython3",
   "version": "3.12.4"
  }
 },
 "nbformat": 4,
 "nbformat_minor": 5
}
