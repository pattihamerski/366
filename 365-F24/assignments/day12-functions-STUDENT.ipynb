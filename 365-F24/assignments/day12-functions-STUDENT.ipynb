{
 "cells": [
  {
   "cell_type": "markdown",
   "id": "ccf07708-b283-411c-a725-196ed03de443",
   "metadata": {
    "tags": []
   },
   "source": [
    "# Day 12: Defining Functions"
   ]
  },
  {
   "cell_type": "markdown",
   "id": "f2a48b64-00a5-4e97-8590-69977afbe928",
   "metadata": {
    "tags": []
   },
   "source": [
    "### &#9989; Write your name here"
   ]
  },
  {
   "cell_type": "markdown",
   "id": "472b51d3-1dad-4e11-8f78-99a6e689c9de",
   "metadata": {
    "tags": []
   },
   "source": [
    "You are probably familiar with functions from your math classes, and unsurprisingly they are also helpful in programming. A function in math is an operation that has:\n",
    "- one or more inputs,\n",
    "- an output,\n",
    "- and the output is uniquely determined by the inputs. \n",
    "\n",
    "In programming, functions can be created that are like mathematical functions (having an output determined by inputs).\n",
    "\n",
    "To **create** a function in Python (or in our pseudocode), you will write code like:\n",
    "\n",
    "```\n",
    "def function_name(input1, input2): \n",
    "    ... # a block of code that uses the inputs \n",
    "    return some_value\n",
    "```\n",
    "\n",
    "Note that the above is not actually working code. **The first line** defines the name of the function (replace `function_name` with a name that better describes what your function does), and it gives names to the inputs. Those should also have descriptive names to specify their purpose within the function (`input1` and `input2` are just placeholders -- in reality these would be terribly vague names for function inputs). \n",
    "\n",
    "After the first line (which should end with `:`), there is **an indented block of code**, which can contain many lines of code, and should also **\"return\"** a value as the function's output.\n",
    "\n",
    "**Defining** a function is similar to importing a library -- in doing so, you give the computer access to a new operation that it can use. In order to actually use it, you must **call** the function. To **call** a function, you write its name, and provide input values in parentheses. Something like:\n",
    "\n",
    "```\n",
    "new_value = function_name(5, 2.3) \n",
    "```\n",
    "\n",
    "When you **call** a function, the computer executes the code inside the function using values that you input (`5` and `2.3` in this case). The computed output value (or the \"returned\" value) then takes the place of the function call. In the code above, this returned value would be stored in the variable `new_value`."
   ]
  },
  {
   "cell_type": "markdown",
   "id": "d4394a01-1ebe-4a26-9ef0-71016abc74d8",
   "metadata": {},
   "source": [
    "---\n",
    "\n",
    "### Part 1: Defining, calling, returning, and printing\n",
    "\n",
    "The most important concepts to understand when it comes to functions are the difference between defining and calling functions and the difference between returning and printing values. These exercises are designed to give you a chance to explore and specify these differences."
   ]
  },
  {
   "cell_type": "markdown",
   "id": "8d04827b-ca0b-4aaf-a27e-eabe49d34ce7",
   "metadata": {},
   "source": [
    "&#9989; **Task 1.1:** There are four instances of a function being **called** in the code below. For each one, identify the function being called, and briefly describe what the function call does in the code."
   ]
  },
  {
   "cell_type": "code",
   "execution_count": 10,
   "id": "a8ac8556-98cf-472c-a44d-464828a6d9f2",
   "metadata": {},
   "outputs": [
    {
     "name": "stdout",
     "output_type": "stream",
     "text": [
      "[2.60606061 2.66666667 2.72727273 2.78787879 2.84848485 2.90909091\n",
      " 2.96969697 3.03030303 3.09090909 3.15151515]\n"
     ]
    },
    {
     "data": {
      "image/png": "[encoded data removed]",
      "text/plain": [
       "<Figure size 640x480 with 1 Axes>"
      ]
     },
     "metadata": {},
     "output_type": "display_data"
    }
   ],
   "source": [
    "# run, but do not edit -- answer this task in the text box below\n",
    "\n",
    "import numpy as np\n",
    "import matplotlib.pyplot as plt\n",
    "\n",
    "x = np.linspace(2, 8, 100)\n",
    "print(x[10:20])\n",
    "plt.plot(x, 1/x)\n",
    "plt.show()"
   ]
  },
  {
   "cell_type": "markdown",
   "id": "bc049190-3ec3-4b55-8a82-6a58269a14a1",
   "metadata": {},
   "source": [
    "**/your answer here/**"
   ]
  },
  {
   "cell_type": "markdown",
   "id": "cb3a1354-f4a1-4294-9358-51459a967e46",
   "metadata": {},
   "source": [
    "&#9989; **Task 1.2:** In the code below, there is one function **definition** and two function **calls**.\n",
    "- Describe the function **definition** -- which function is being defined, and what is/are its input(s) and output?\n",
    "- Describe each function **call** -- which function is being called and what is it doing?"
   ]
  },
  {
   "cell_type": "code",
   "execution_count": 13,
   "id": "fb1d9ad9-a07f-4082-8113-c0b118c0c37c",
   "metadata": {},
   "outputs": [
    {
     "name": "stdout",
     "output_type": "stream",
     "text": [
      "15.0\n"
     ]
    }
   ],
   "source": [
    "# run, but do not edit -- answer this task in the text box below\n",
    "\n",
    "def half(x):\n",
    "    return x/2\n",
    "\n",
    "val = half(30)\n",
    "print(val)"
   ]
  },
  {
   "cell_type": "markdown",
   "id": "50506653-3fa5-4819-8923-9fb4c277d311",
   "metadata": {},
   "source": [
    "**/your answer here/**"
   ]
  },
  {
   "cell_type": "markdown",
   "id": "c09ec3cf-1713-4aa2-8d0b-1d32b5f0ab52",
   "metadata": {},
   "source": [
    "&#9989; **Task 1.3:** Now run *same* the code as above, but using separate cells. Why does the output show after the second cell, and not the first?"
   ]
  },
  {
   "cell_type": "code",
   "execution_count": 38,
   "id": "5769634d-b26d-461b-a848-a7d4c8d9b9f1",
   "metadata": {},
   "outputs": [],
   "source": [
    "# run, but do not edit -- answer this task in the text box below\n",
    "\n",
    "def half(x):\n",
    "    return x/2"
   ]
  },
  {
   "cell_type": "code",
   "execution_count": 39,
   "id": "a97a3145-25f2-42ec-ae90-8446413ec7b6",
   "metadata": {},
   "outputs": [
    {
     "name": "stdout",
     "output_type": "stream",
     "text": [
      "15.0\n"
     ]
    }
   ],
   "source": [
    "# run, but do not edit -- answer this task in the text box below\n",
    "\n",
    "val = half(30)\n",
    "print(val)"
   ]
  },
  {
   "cell_type": "markdown",
   "id": "21f188b7-82c3-410b-952a-e955c2982c12",
   "metadata": {},
   "source": [
    "**/your answer here/**"
   ]
  },
  {
   "cell_type": "markdown",
   "id": "93fa5614-d0aa-4f10-a630-fba1e093ff3f",
   "metadata": {},
   "source": [
    "&#9989; **Task 1.4:** Now run the same code again, but with `return` replaced with `print` in the function definition.\n",
    "- What has changed about how the defined function works?\n",
    "- What has changed about the output of the defined function?\n",
    "- What is different about the printed result of the cell, and why did this change?"
   ]
  },
  {
   "cell_type": "code",
   "execution_count": 12,
   "id": "b0e5e343-aa4a-44b7-8ea3-d5176c1faf07",
   "metadata": {},
   "outputs": [
    {
     "name": "stdout",
     "output_type": "stream",
     "text": [
      "15.0\n",
      "None\n"
     ]
    }
   ],
   "source": [
    "# run, but do not edit -- answer this task in the text box below\n",
    "\n",
    "def new_half(x):\n",
    "    print(x/2)\n",
    "\n",
    "val = new_half(30)\n",
    "print(val)"
   ]
  },
  {
   "cell_type": "markdown",
   "id": "ef617165-41d4-452f-b81d-0e1e18a163c3",
   "metadata": {},
   "source": [
    "**/your answer here/**"
   ]
  },
  {
   "cell_type": "markdown",
   "id": "f2b8d017-ad4c-47aa-9ca4-cff78b114072",
   "metadata": {},
   "source": [
    "&#9989; **Task 1.5:** Below, you can see some code that was copied directly from the Day 7 assignment. This code was designed for you to manually change the `scale` variable, and see how the printed result of the code changed based on the conditional statements.\n",
    "\n",
    "Alternatively, this code could have been written as a function **definition**, with `scale` as the input. In this task, copy the code and alter it to be newly defined function.\n",
    "\n",
    "```\n",
    "scale = 0\n",
    "\n",
    "if scale == 10:\n",
    "    print(\"All of this is easy-peasy to me.\")\n",
    "elif scale == 8 or scale == 9:\n",
    "    print(\"This code is a little unfamiliar, but I'll figure it out no problem.\")\n",
    "elif scale >= 5 and scale <= 7:\n",
    "    print(\"I feel pretty good about True/False expressions, but what is up with this if/elif/else structure?\")\n",
    "elif scale in [2, 3, 4]:\n",
    "    print(\"I feel okay about flowcharts, but not so sure about the rest of it.\")\n",
    "elif scale == 1:\n",
    "    print(\"Oh no, what am I getting myself into?\")\n",
    "else:\n",
    "    print(\"Not a valid input. Use numbers 1-10 to rate your comfort with conditional statements.\")\n",
    "```"
   ]
  },
  {
   "cell_type": "code",
   "execution_count": null,
   "id": "f7393a18-416e-48b7-9979-c9e358485e57",
   "metadata": {},
   "outputs": [],
   "source": [
    "# your answer here"
   ]
  },
  {
   "cell_type": "markdown",
   "id": "4366c8d6-3f57-4069-88a0-5362f1ecc90f",
   "metadata": {},
   "source": [
    "&#9989; **Task 1.6:** Test out your function from Task 1.5 by **calling** it a few times with different inputs."
   ]
  },
  {
   "cell_type": "code",
   "execution_count": null,
   "id": "41364a96-aa63-4aee-bebd-76398b4dcfe3",
   "metadata": {},
   "outputs": [],
   "source": [
    "# your answer here"
   ]
  },
  {
   "cell_type": "markdown",
   "id": "9a4bf07a-4b00-44af-828d-3c80e48bb1ab",
   "metadata": {},
   "source": [
    "&#9989; **Task 1.7:** Chat with a partner or a few peers around you. Discuss and do your best to describe:\n",
    "- The difference between defining a function and calling a function.\n",
    "- The difference between returning and printing a value.\n",
    "- The parts of these concepts that you're still not sure about."
   ]
  },
  {
   "cell_type": "markdown",
   "id": "ae764fa4-c046-494d-a66a-2621922a30a7",
   "metadata": {},
   "source": [
    "**/your answer here/**"
   ]
  },
  {
   "cell_type": "markdown",
   "id": "847549f8-fa71-4153-a7ed-501bed787448",
   "metadata": {},
   "source": [
    "#### &#128721; **Stop here and check your progress with an instructor.**"
   ]
  },
  {
   "cell_type": "markdown",
   "id": "7d27fee6-a4ef-4aa3-8af3-47471d14db41",
   "metadata": {},
   "source": [
    "---\n",
    "\n",
    "### Part 2: Defining a factorial function\n",
    "\n",
    "The factorial of an integer $n$ is defined as:\n",
    "\n",
    "$$\\text{Factorial of }n = n! = n \\cdot (n-1) \\cdot (n-2) \\cdot \\ldots \\cdot 3 \\cdot 2 \\cdot 1$$\n",
    "\n",
    "This operation can be computed directly using `math.factorial`, a function from the Python math library."
   ]
  },
  {
   "cell_type": "markdown",
   "id": "df1ee82e-3f2a-4d56-8f58-bf890d89e6ff",
   "metadata": {},
   "source": [
    "&#9989; **Task 2.1:** Call the function `math.factorial` and compute the values of $0!$, $1!$, $5!$, and $10!$. You may need to import the `math` library first."
   ]
  },
  {
   "cell_type": "code",
   "execution_count": null,
   "id": "8e5025df-3d0c-4292-819c-5f51b9ea4044",
   "metadata": {},
   "outputs": [],
   "source": [
    "# your answer here"
   ]
  },
  {
   "cell_type": "markdown",
   "id": "795d6bc3-aadc-490a-98c3-67dadd948db1",
   "metadata": {},
   "source": [
    "&#9989; **Task 2.2:** Define your own function to compute factorial. Do not use the `math.factorial` function in your solution -- instead use your knowledge of the meaning of factorial to design your function."
   ]
  },
  {
   "cell_type": "code",
   "execution_count": null,
   "id": "349677f8-fa5b-4a6b-83db-ad7aae34fd1f",
   "metadata": {},
   "outputs": [],
   "source": [
    "# your answer here"
   ]
  },
  {
   "cell_type": "markdown",
   "id": "a1a29077-fe35-4ee1-81c1-69fe6d4c475e",
   "metadata": {},
   "source": [
    "&#9989; **Task 2.3:** Test your function by **calling** it and printing the computed outputs to show the factorials of the integers from 0 to 5. "
   ]
  },
  {
   "cell_type": "code",
   "execution_count": null,
   "id": "285fbc06-f245-4490-976b-e63be0b97b6a",
   "metadata": {},
   "outputs": [],
   "source": [
    "# your answer here"
   ]
  },
  {
   "cell_type": "markdown",
   "id": "b267ecc3-620e-4c59-b7b6-725fb65d18bc",
   "metadata": {},
   "source": [
    "&#9989; **Task 2.4:** Just for fun, compute $52!$, which is the number of ways a deck of cards can be shuffled. "
   ]
  },
  {
   "cell_type": "code",
   "execution_count": null,
   "id": "c0713a9b-81b4-4ce0-a174-e478aa7b2084",
   "metadata": {},
   "outputs": [],
   "source": [
    "# your answer here"
   ]
  },
  {
   "cell_type": "markdown",
   "id": "b6aae141-d84e-4aab-a581-3cb3821b0005",
   "metadata": {
    "tags": []
   },
   "source": [
    "#### &#128721; **Stop here and check your progress with an instructor.**"
   ]
  },
  {
   "cell_type": "markdown",
   "id": "0eae4628-21d3-49f6-bd4c-fb0c22d803be",
   "metadata": {},
   "source": [
    "---\n",
    "\n",
    "### Part 3: Defining a Taylor series function\n",
    "\n",
    "A Taylor series can be used to create an approximation for a physical value based on a mathematical function. For example, the Taylor series for cosine is: \n",
    "\n",
    "$$\\cos(x) \\approx \\sum_{n=0,2,4,6,\\ldots}^N \\frac{(-1)^{\\frac{n}{2}}}{n!}x^n $$\n",
    "\n",
    "The approximation becomes more and more accurate for higher values of $N$. When $N \\rightarrow \\infty$, the approximation is exact."
   ]
  },
  {
   "cell_type": "markdown",
   "id": "e194ece2-16cb-44bc-bbc0-cc8bf41a47b2",
   "metadata": {},
   "source": [
    "&#9989; **Task 3.1:** Define a function with **inputs** $x$ and $N$ and an **output** that approximates $\\cos(x)$. Your function should use the **inputted** values of $x$ and $N$ to compute the Taylor series of $\\cos(x)$ including the terms up to and including $n = N$. The resulting approximation should be the **output** of your function."
   ]
  },
  {
   "cell_type": "code",
   "execution_count": null,
   "id": "6bfaa9aa-e274-4588-9994-0adaafc2ff4e",
   "metadata": {},
   "outputs": [],
   "source": [
    "# your answer here"
   ]
  },
  {
   "cell_type": "markdown",
   "id": "8e264beb-b60f-4047-bab9-4647053053e5",
   "metadata": {},
   "source": [
    "&#9989; **Task 3.2:** Test your function by **calling** it and printing $\\cos(0.01)$ and a few approximations of $\\cos(0.01)$ using a few different small values of $N$."
   ]
  },
  {
   "cell_type": "code",
   "execution_count": null,
   "id": "6e5ed1ab-6f3c-4d6a-8ed1-71043fe595a5",
   "metadata": {},
   "outputs": [],
   "source": [
    "# your answer here"
   ]
  },
  {
   "cell_type": "markdown",
   "id": "5732313c-a303-4f1b-bc36-89f183237d8e",
   "metadata": {},
   "source": [
    "&#9989; **Task 3.3:** Plot your an exact cosine function *and* your Taylor series approximations for values of $x$ between -3 and 3, and approximations based on $N = 0$, $2$, $4$, and $6$. Use a legend to distinguish between your curves. Be sure to label your axes and title your plot."
   ]
  },
  {
   "cell_type": "code",
   "execution_count": null,
   "id": "f1145434-db77-4ed4-8744-41748d39e9e2",
   "metadata": {},
   "outputs": [],
   "source": [
    "# your answer here"
   ]
  },
  {
   "cell_type": "markdown",
   "id": "54eb7237-e690-439a-baed-bc952690d0b2",
   "metadata": {
    "tags": []
   },
   "source": [
    "#### &#128721; **Stop here and check your progress with an instructor.**"
   ]
  }
 ],
 "metadata": {
  "kernelspec": {
   "display_name": "Python 3 (ipykernel)",
   "language": "python",
   "name": "python3"
  },
  "language_info": {
   "codemirror_mode": {
    "name": "ipython",
    "version": 3
   },
   "file_extension": ".py",
   "mimetype": "text/x-python",
   "name": "python",
   "nbconvert_exporter": "python",
   "pygments_lexer": "ipython3",
   "version": "3.12.4"
  }
 },
 "nbformat": 4,
 "nbformat_minor": 5
}
