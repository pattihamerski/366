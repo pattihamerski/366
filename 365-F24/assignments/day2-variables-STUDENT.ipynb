{
 "cells": [
  {
   "cell_type": "markdown",
   "id": "c9cce9f5-8a1c-4ee6-b63a-7f5ed1be892c",
   "metadata": {},
   "source": [
    "# Day 2: Variables and Values"
   ]
  },
  {
   "cell_type": "markdown",
   "id": "ee35c1ef-4ab4-4fbb-bd7d-08010b478688",
   "metadata": {
    "tags": []
   },
   "source": [
    "### &#9989; Write your name here"
   ]
  },
  {
   "cell_type": "markdown",
   "id": "aae7b819-0807-4c84-89c9-93994dc06de5",
   "metadata": {},
   "source": [
    "Last class, you started using variables. As a quick refresh, that's when code you write looks like: `x = 3`. By default, the computer will try to interpret the **left** side of an `=` sign as a variable, and the **right** side as a value.\n",
    "\n",
    "Sometimes, you might see variables on both sides, for example `y = 10 * x`. In this case, the computer would interpret `10 * x` as a value, and it would replace `x` with `3`, do the math, and end up executing `y = 30`.\n",
    "\n",
    "Just like in math or physics, you can use variables in Python to run calculations. Run the code below (select the cell and hit Shift + Enter) for an example."
   ]
  },
  {
   "cell_type": "code",
   "execution_count": 1,
   "id": "8b68ac88-7fa2-4498-9a81-f04f346a9623",
   "metadata": {
    "tags": []
   },
   "outputs": [
    {
     "name": "stdout",
     "output_type": "stream",
     "text": [
      "1.6666666666666665 m/s\n"
     ]
    }
   ],
   "source": [
    "disp = 12        # meters\n",
    "time = 7.2       # seconds\n",
    "\n",
    "speed = disp / time\n",
    "print(speed, \"m/s\")"
   ]
  },
  {
   "cell_type": "markdown",
   "id": "dc981e3c-ee93-46f4-a00e-d5a80f827c0a",
   "metadata": {},
   "source": [
    "&#9989; **Task 0.1:** Gather around a table in a group of 3-5 so everyone has access to the whiteboard. Create a visual model that everyone can agree on to explain the relationship and difference between **variables** and **values**. You should be able to use your model to visualize and explain each line of code above."
   ]
  },
  {
   "cell_type": "markdown",
   "id": "c521db9c-2cb9-4cd1-a0c8-bcde0dc88ba4",
   "metadata": {},
   "source": [
    "---\n",
    "\n",
    "## Part 1: Coding with Variables \n",
    "\n",
    "Now, try using variables yourself. As you do, keep in mind the relationship between variables and values.\n",
    "\n",
    "&#9989; **Task 1.1:** Fill in the code below, to calculate the change in energy of a mic that's been dropped from eye level. The equation for such a change in gravitational potential energy is $E = mg\\Delta h$. You may need to do some google searching to determine some reasonable estimates for `m` and `h`.\n",
    "\n",
    "*Assumption: The mic comes to a complete rest after hitting the floor. This way, we only have to use potential energy, and don't need to consider kinetic.*"
   ]
  },
  {
   "cell_type": "markdown",
   "id": "8c3868dc-04d9-4c47-9503-61f44e6563ab",
   "metadata": {},
   "source": [
    "<img src=\"https://media.giphy.com/media/v1.Y2lkPTc5MGI3NjExdDEza3cxbDZna2Y4aWd2cjU4a2ZxaWZ6aDd2Z2R4YTNhem5jeTJsNyZlcD12MV9pbnRlcm5hbF9naWZfYnlfaWQmY3Q9Zw/3o7qDSOvfaCO9b3MlO/giphy.gif\" alt=\"Former President Barack Obama dropping the mic\" width=\"300\"/>"
   ]
  },
  {
   "cell_type": "code",
   "execution_count": 6,
   "id": "06e7be63-48bb-4528-904f-bfa25c7925f4",
   "metadata": {
    "tags": []
   },
   "outputs": [
    {
     "ename": "SyntaxError",
     "evalue": "invalid syntax (3175200401.py, line 1)",
     "output_type": "error",
     "traceback": [
      "\u001b[0;36m  Cell \u001b[0;32mIn[6], line 1\u001b[0;36m\u001b[0m\n\u001b[0;31m    m =          # kg\u001b[0m\n\u001b[0m                 ^\u001b[0m\n\u001b[0;31mSyntaxError\u001b[0m\u001b[0;31m:\u001b[0m invalid syntax\n"
     ]
    }
   ],
   "source": [
    "# edit this cell\n",
    "\n",
    "m =          # kg\n",
    "g =          # m/s^2\n",
    "h =          # m\n",
    "\n",
    "E = \n",
    "print(E, \"J\")"
   ]
  },
  {
   "cell_type": "markdown",
   "id": "c6d56dfd-9401-44e0-8063-e0020d9bdcd5",
   "metadata": {},
   "source": [
    "&#9989; **Task 1.2:** Using variables, calculate the current (`I`) that passes through a typical household lightbulb with 120 V applied across it. *Hint: Ohm's Law*.\n",
    "\n",
    "*If you use Ohm's Law, you need to be aware of the assumptions needed to use it: We assume the lightbulb resistor is made of ohmic material, and the voltage/current is direct, not alternating (DC rather than AC power supply).*"
   ]
  },
  {
   "cell_type": "markdown",
   "id": "b1c48a8d-adc5-434e-926f-d5e76b161e62",
   "metadata": {},
   "source": [
    "<img src=\"https://i0.wp.com/dewwool.com/wp-content/uploads/2021/04/light-bulb-376921_640.jpg?fit=450%2C640&ssl=1\" alt=\"Close-up of a lightbulb with the resistor inside hot and glowing\" width=\"150\"/>"
   ]
  },
  {
   "cell_type": "code",
   "execution_count": 9,
   "id": "7c1e5449-e2cb-4bc0-be44-204fa010b274",
   "metadata": {
    "tags": []
   },
   "outputs": [
    {
     "ename": "SyntaxError",
     "evalue": "invalid syntax (3202055748.py, line 4)",
     "output_type": "error",
     "traceback": [
      "\u001b[0;36m  Cell \u001b[0;32mIn[9], line 4\u001b[0;36m\u001b[0m\n\u001b[0;31m    I =\u001b[0m\n\u001b[0m        ^\u001b[0m\n\u001b[0;31mSyntaxError\u001b[0m\u001b[0;31m:\u001b[0m invalid syntax\n"
     ]
    }
   ],
   "source": [
    "# edit this cell\n",
    "\n",
    "\n",
    "\n",
    "I = \n",
    "print(I, \"A\")"
   ]
  },
  {
   "cell_type": "markdown",
   "id": "c0bd2a04-96f2-4ede-95e8-12f39b7408ef",
   "metadata": {},
   "source": [
    "&#9989; **Task 1.3:** If you did those last couple tasks by yourself, get back into a group of 3-5. Run the code below, and then update your visual model of **variables** and **values** to account for how variables can *change* their value.\n",
    "\n",
    "You should be able to use your model to visualize and explain each line of code above *and* below, in which the code *changes* the values of the variables `h` and `E`."
   ]
  },
  {
   "cell_type": "code",
   "execution_count": 2,
   "id": "0dc1cc68-058b-40a3-9ec4-6d06c475e91a",
   "metadata": {},
   "outputs": [
    {
     "ename": "NameError",
     "evalue": "name 'm' is not defined",
     "output_type": "error",
     "traceback": [
      "\u001b[0;31m---------------------------------------------------------------------------\u001b[0m",
      "\u001b[0;31mNameError\u001b[0m                                 Traceback (most recent call last)",
      "Cell \u001b[0;32mIn[2], line 2\u001b[0m\n\u001b[1;32m      1\u001b[0m h \u001b[38;5;241m=\u001b[39m \u001b[38;5;241m30\u001b[39m\n\u001b[0;32m----> 2\u001b[0m E \u001b[38;5;241m=\u001b[39m m \u001b[38;5;241m*\u001b[39m g \u001b[38;5;241m*\u001b[39m h\n\u001b[1;32m      3\u001b[0m \u001b[38;5;28mprint\u001b[39m(\u001b[38;5;124m\"\u001b[39m\u001b[38;5;124mh =\u001b[39m\u001b[38;5;124m\"\u001b[39m, h)\n\u001b[1;32m      4\u001b[0m \u001b[38;5;28mprint\u001b[39m(\u001b[38;5;124m\"\u001b[39m\u001b[38;5;124mE =\u001b[39m\u001b[38;5;124m\"\u001b[39m, E)\n",
      "\u001b[0;31mNameError\u001b[0m: name 'm' is not defined"
     ]
    }
   ],
   "source": [
    "h = 30\n",
    "E = m * g * h\n",
    "print(\"h =\", h)\n",
    "print(\"E =\", E)"
   ]
  },
  {
   "cell_type": "markdown",
   "id": "f3107586-a63e-443b-b177-5dcd4e099c5c",
   "metadata": {},
   "source": [
    "#### &#128721; Stop here and check your progress with an instructor"
   ]
  },
  {
   "cell_type": "markdown",
   "id": "13aac1ad-10f6-4545-8ee7-65ed9c2583b6",
   "metadata": {},
   "source": [
    "---\n",
    "\n",
    "### &#9989; Part 2: Estimating energy from rain water\n",
    "\n",
    "<img src=\"https://as1.ftcdn.net/v2/jpg/02/10/58/16/1000_F_210581603_jOkWGseyl8cEXz6OD6oUufKAolZeqvRP.jpg\" alt=\"Former President Barack Obama dropping the mic\" width=\"300\"/>\n",
    "\n",
    "Working in your group, estimate the rate of electrical energy production (J/s) that is possible using the gravitational potential energy of rain water collected on the roof of your house or apartment. Assume the energy can be extracted when the rain water falls from the roof down the gutter pipe.\n",
    "\n",
    "Try to write as clearly as possible, using variables and comments (the text starting with `#` in many of the code cells above) to be as clear as possible in your calculations.\n",
    "\n",
    "*Note: You may need to use different values than your group mates based on your estimations for the height and area of your roof.*"
   ]
  },
  {
   "cell_type": "code",
   "execution_count": null,
   "id": "614583bf-5da9-4421-a7ce-184f7cd858dc",
   "metadata": {},
   "outputs": [],
   "source": [
    "# your answer here\n"
   ]
  },
  {
   "cell_type": "markdown",
   "id": "d04d2c8c-6fcc-4c0d-b6e1-45bf10eeeb88",
   "metadata": {},
   "source": [
    "#### &#128721; Prepare to share work with peers\n",
    "\n",
    "When you and your group are done with writing a solution, prepare to discuss with other groups:\n",
    "- What variables did you use, and what values did you give them?\n",
    "- What comments did you include to clarify your code?\n",
    "\n",
    "Wait for an instructor to guide the discussion among you and your classmates."
   ]
  }
 ],
 "metadata": {
  "kernelspec": {
   "display_name": "Python 3 (ipykernel)",
   "language": "python",
   "name": "python3"
  },
  "language_info": {
   "codemirror_mode": {
    "name": "ipython",
    "version": 3
   },
   "file_extension": ".py",
   "mimetype": "text/x-python",
   "name": "python",
   "nbconvert_exporter": "python",
   "pygments_lexer": "ipython3",
   "version": "3.12.4"
  }
 },
 "nbformat": 4,
 "nbformat_minor": 5
}
