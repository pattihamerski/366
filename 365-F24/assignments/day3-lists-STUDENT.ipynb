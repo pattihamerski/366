{
 "cells": [
  {
   "cell_type": "markdown",
   "id": "c9cce9f5-8a1c-4ee6-b63a-7f5ed1be892c",
   "metadata": {},
   "source": [
    "# Day 3: Lists and Indexing"
   ]
  },
  {
   "cell_type": "markdown",
   "id": "ee35c1ef-4ab4-4fbb-bd7d-08010b478688",
   "metadata": {
    "tags": []
   },
   "source": [
    "### &#9989; Write your name here"
   ]
  },
  {
   "cell_type": "markdown",
   "id": "aae7b819-0807-4c84-89c9-93994dc06de5",
   "metadata": {},
   "source": [
    "Last class, we learned how variables can be used to store values that we need in calculations sometimes. Those variables all have different names, which we can decide when we create them (for example, `volume = 35`).\n",
    "\n",
    "It can be useful to be able to organize those variables for easier access. For example, if we had many different variables all representing the distances of different stars, it might be tricky to try to remember the name of each variable.\n",
    "\n",
    "This is where **lists** come in. Lists allow us to store many different values, while only having to keep track of one variable name: the name of the list. See below for an example.\n",
    "\n",
    "*Note: Words can be values, like in the example below, but they **must** be enclosed in quotes. This type of value is called a **string**.*"
   ]
  },
  {
   "cell_type": "code",
   "execution_count": 3,
   "id": "8b68ac88-7fa2-4498-9a81-f04f346a9623",
   "metadata": {
    "tags": []
   },
   "outputs": [
    {
     "name": "stdout",
     "output_type": "stream",
     "text": [
      "['Weniger', 'Kelley', 'Bexell', 'Milam', 'Valley Library']\n"
     ]
    }
   ],
   "source": [
    "# one variable, five values!\n",
    "buildings = [\"Weniger\", \"Kelley\", \"Bexell\", \"Milam\", \"Valley Library\"]\n",
    "print(buildings)"
   ]
  },
  {
   "cell_type": "markdown",
   "id": "5a1d4016-693e-46f9-8616-6d6965fea80c",
   "metadata": {},
   "source": [
    "Lists are easy enough to make (note the square brackets `[]` and the commas between each value), but accessing the values themselves can be tricky.\n",
    "\n",
    "A list is a variable with many values, but those values are ordered. If you know the order of the value you want, you can get it by **indexing**. The first value in a list is \"indexed\" as 0, and then we count up from there. See below for examples."
   ]
  },
  {
   "cell_type": "code",
   "execution_count": 4,
   "id": "0e49d3fd-24eb-4cdd-9284-5f03b72afd6e",
   "metadata": {},
   "outputs": [
    {
     "name": "stdout",
     "output_type": "stream",
     "text": [
      "0 index: Weniger\n",
      "1 index: Kelley\n",
      "4 index: Valley Library\n"
     ]
    }
   ],
   "source": [
    "# indexing syntax: list[index]\n",
    "print(\"0 index:\", buildings[0])\n",
    "print(\"1 index:\", buildings[1])\n",
    "print(\"4 index:\", buildings[4])"
   ]
  },
  {
   "cell_type": "markdown",
   "id": "d58617ff-ab5a-4e17-8a62-cf81f75bba7a",
   "metadata": {},
   "source": [
    "Even though there are 5 items in the list, the index **5** is too high, because we start counting indices from 0. You get an error when you try to use 5:"
   ]
  },
  {
   "cell_type": "code",
   "execution_count": 5,
   "id": "4e508207-2094-4776-a3fe-0cd2ec5aa73a",
   "metadata": {},
   "outputs": [
    {
     "ename": "IndexError",
     "evalue": "list index out of range",
     "output_type": "error",
     "traceback": [
      "\u001b[0;31m---------------------------------------------------------------------------\u001b[0m",
      "\u001b[0;31mIndexError\u001b[0m                                Traceback (most recent call last)",
      "Cell \u001b[0;32mIn[5], line 1\u001b[0m\n\u001b[0;32m----> 1\u001b[0m buildings[\u001b[38;5;241m5\u001b[39m]\n",
      "\u001b[0;31mIndexError\u001b[0m: list index out of range"
     ]
    }
   ],
   "source": [
    "# 5 is out of range, because we have to start counting from 0\n",
    "buildings[5]"
   ]
  },
  {
   "cell_type": "markdown",
   "id": "c521db9c-2cb9-4cd1-a0c8-bcde0dc88ba4",
   "metadata": {},
   "source": [
    "---\n",
    "\n",
    "## Part 1: Creating a List\n",
    "\n",
    "&#9989; **Task 1.1:** Create a list with 3 elements: your favorite animal, the day of the month of your birthday (1 through 31), and your favorite food. Print your list."
   ]
  },
  {
   "cell_type": "code",
   "execution_count": null,
   "id": "fa98dace-94a7-42ca-843d-e58cca4e8c86",
   "metadata": {},
   "outputs": [],
   "source": [
    "# your answer here"
   ]
  },
  {
   "cell_type": "markdown",
   "id": "c128c678-e318-436c-b7ce-f8cf80f554ce",
   "metadata": {},
   "source": [
    "&#9989; **Task 1.2:** Using indexing, print **only** your favorite food from your list."
   ]
  },
  {
   "cell_type": "code",
   "execution_count": null,
   "id": "1d06521e-953a-4df2-8221-80874faad974",
   "metadata": {},
   "outputs": [],
   "source": [
    "# your answer here"
   ]
  },
  {
   "cell_type": "markdown",
   "id": "90388ced-e5b9-415a-aba0-b0d627eebf1e",
   "metadata": {},
   "source": [
    "&#9989; **Task 1.3:** You now have a new favorite animal, the **pygmy hippo**. Using indexing, change the first value in your list to reflect this. Print your list."
   ]
  },
  {
   "cell_type": "markdown",
   "id": "b1c48a8d-adc5-434e-926f-d5e76b161e62",
   "metadata": {},
   "source": [
    "<img src=\"https://img.decrypt.co/insecure/rs:fit:3840:0:0:0/plain/https://cdn.decrypt.co/wp-content/uploads/2024/09/MooDengHippo_Cropped2-gID_7.jpg@webp\" alt=\"Moo-deng!\" width=\"300\"/>"
   ]
  },
  {
   "cell_type": "code",
   "execution_count": null,
   "id": "00c3d424-1d23-4078-bfbf-bfb090d9a149",
   "metadata": {},
   "outputs": [],
   "source": [
    "# your answer here"
   ]
  },
  {
   "cell_type": "markdown",
   "id": "f209890d-d557-4fc7-a0b7-3ea1360bc3bb",
   "metadata": {},
   "source": [
    "&#9989; **Task 1.4:** Gather around a table in a group of 3-5 so everyone has access to the whiteboard. Create a visual model of the relationship between **lists**, **indices**, and **values**. You should be able to use your model to explain how the code works in the tasks above."
   ]
  },
  {
   "cell_type": "markdown",
   "id": "0d41f66a-0b8d-4d16-976d-778f1ee243f2",
   "metadata": {},
   "source": [
    "---\n",
    "\n",
    "## Part 2: Rules of Indexing\n",
    "\n",
    "By now, you have used indexing to access and alter list elements. Indexing counts from 0, up to the final element in the list, whose index is 1 less than the length of the list (example: final index is 7 for a list of length 8).\n",
    "\n",
    "The syntax of indexing is like this: `list[index]`, for example `buildings[3]`.\n",
    "\n",
    "Some indexing can introduce tricky syntax inside the square brackets. See the examples below."
   ]
  },
  {
   "cell_type": "code",
   "execution_count": 21,
   "id": "e0c57a80-f907-44db-8020-4705346c8f57",
   "metadata": {},
   "outputs": [
    {
     "name": "stdout",
     "output_type": "stream",
     "text": [
      "3 index 63\n",
      "8 index 68\n",
      "3:8 index [63, 64, 65, 66, 67]\n",
      "3:5 index [63, 64]\n",
      "3:4 index [63]\n",
      "-1 index 75\n",
      "-2 index 74\n",
      "-3 index 73\n",
      "-10 index 66\n"
     ]
    }
   ],
   "source": [
    "heights = [60, 61, 62, 63, 64, 65, 66, 67, 68, 69, 70, 71, 72, 73, 74, 75]\n",
    "print(\"3 index\", heights[3])\n",
    "print(\"8 index\", heights[8])\n",
    "\n",
    "# using a colon\n",
    "print(\"3:8 index\", heights[3:8])\n",
    "print(\"3:5 index\", heights[3:5])\n",
    "print(\"3:4 index\", heights[3:4])\n",
    "\n",
    "# using negative numbers\n",
    "print(\"-1 index\", heights[-1])\n",
    "print(\"-2 index\", heights[-2])\n",
    "print(\"-3 index\", heights[-3])\n",
    "print(\"-10 index\", heights[-10])"
   ]
  },
  {
   "cell_type": "markdown",
   "id": "4348f517-8097-4aab-b4f7-e1f99ba85740",
   "metadata": {},
   "source": [
    "&#9989; **Task 2.1:** In your group, go over the code above, and write down of rules for **indexing syntax**. Be sure to include the meaning of positive numbers, colons (`:`), negative numbers, and square brackets `[]`."
   ]
  },
  {
   "cell_type": "markdown",
   "id": "ba844fd9-1450-447a-91d1-a429d55eda31",
   "metadata": {},
   "source": [
    "**/in your own words, record your rules here/**"
   ]
  },
  {
   "cell_type": "markdown",
   "id": "bc7e0596-8e14-4b86-bc8f-277fc4afab64",
   "metadata": {},
   "source": [
    "#### &#128721; Stop here and check your progress with an instructor"
   ]
  },
  {
   "cell_type": "markdown",
   "id": "13aac1ad-10f6-4545-8ee7-65ed9c2583b6",
   "metadata": {},
   "source": [
    "---\n",
    "\n",
    "## Part 3: Keeping Track of Data\n",
    "\n",
    "You are working with some data from a physics experiment, which is conveniently kept in a list format. The elements in the list are meant to keep track of measurements for `g`, the gravity of Earth."
   ]
  },
  {
   "cell_type": "code",
   "execution_count": 49,
   "id": "614583bf-5da9-4421-a7ce-184f7cd858dc",
   "metadata": {},
   "outputs": [],
   "source": [
    "# do NOT edit this cell\n",
    "# the gravity measurements, given in m/s^2\n",
    "grav = [9.735, 9.728, 9.818, 9.816, 9.852, 9.861, 9.796, 9.919,\n",
    "        9.917, 98.10, 0.9661, 9.653, 9.785, 9.949, 9.868, 9.723,\n",
    "        9.845, 9.860, 9.735, 9.727, 9.760, 9.779, 9.692, 9.902,\n",
    "        9.737, 9.742, 9.825, 9.838, 9.927, 9.664, 9.955, 9.652,\n",
    "        9.782, 9.825, 9.645, 9.833, 98.37, 97.89]"
   ]
  },
  {
   "cell_type": "markdown",
   "id": "90489255-d86f-455e-8059-4289d751878a",
   "metadata": {},
   "source": [
    "&#9989; **Task 3.1:** There are **four** errors in the data list. These are just tabulation errors, and can be fixed manually. Using indexing, fix all four errors. Print the updated list."
   ]
  },
  {
   "cell_type": "code",
   "execution_count": null,
   "id": "184b616a-7b62-4db9-8d1d-c497ee243921",
   "metadata": {},
   "outputs": [],
   "source": [
    "# your answer here"
   ]
  },
  {
   "cell_type": "markdown",
   "id": "7bd3e5bf-7634-4dd5-8a08-24b2d039a20e",
   "metadata": {},
   "source": [
    "There are **38** total measurements in the list, indicating three completed experimental trials (10 measurements in each trial), plus an incomplete trial of only 8 measurement so far.\n",
    "\n",
    "&#9989; **Task 3.2:** Using indexing, print all 10 measurements from the **third** trial."
   ]
  },
  {
   "cell_type": "code",
   "execution_count": null,
   "id": "f1744dad-c4ec-4702-a965-d4983da1fc5c",
   "metadata": {},
   "outputs": [],
   "source": [
    "# your answer here"
   ]
  },
  {
   "cell_type": "markdown",
   "id": "f4e17cd8-12d0-4b3c-a747-52aaf0c72ca8",
   "metadata": {},
   "source": [
    "The results are in from the final measurements of the fourth trial: 9.833 m/s$^2$ and 9.689 m/s$^2$. \n",
    "\n",
    "&#9989; **Task 3.3:** Add these two measurements to the end of the list. Print the updated list.\n",
    "\n",
    "*Note: You will need to use* `append`, *which you can look up online. This is a new functionality to learn, and the syntax might be weird. It's best to look at examples to see how to use it.*"
   ]
  },
  {
   "cell_type": "code",
   "execution_count": null,
   "id": "60a69265-8565-4d90-9303-eb6679e1fbee",
   "metadata": {},
   "outputs": [],
   "source": [
    "# your answer here"
   ]
  },
  {
   "cell_type": "markdown",
   "id": "ca412ba5-cab0-42a7-a132-569cfcbb72c7",
   "metadata": {},
   "source": [
    "&#9989; **Task 3.4:** Why do you think the syntax for `append` is formatted like that? What are you confused about the way it is written?"
   ]
  },
  {
   "cell_type": "markdown",
   "id": "20ab8d0c-2508-412c-8918-51a0f5092d67",
   "metadata": {},
   "source": [
    "**/write your thoughts here/**"
   ]
  },
  {
   "cell_type": "markdown",
   "id": "6e72692b-e3b3-47eb-aad0-769957d94955",
   "metadata": {},
   "source": [
    "#### &#128721; Stop here and check your progress with an instructor"
   ]
  },
  {
   "cell_type": "markdown",
   "id": "2b3def95-f82d-4c5d-b5c1-4ef8a6c071ed",
   "metadata": {},
   "source": [
    "---\n",
    "\n",
    "## &#9989; Part 4: Peer Reviewing Code\n",
    "\n",
    "In this final part, switch laptops with a peer. Review what your peer wrote for the Tasks in Part 3. Write down:\n",
    "- What did you like about how they coded their solution?\n",
    "- What do you want them to clarify in their comments, or what kinds of comments would be helpful for them to add?\n",
    "- Read their explanation for Task 3.4 carefully. What do you think? How does this change your thoughts on append?"
   ]
  },
  {
   "cell_type": "markdown",
   "id": "0569873e-d330-4137-bf98-9fb6eae500aa",
   "metadata": {},
   "source": [
    "**/add notes here/**"
   ]
  }
 ],
 "metadata": {
  "kernelspec": {
   "display_name": "Python 3 (ipykernel)",
   "language": "python",
   "name": "python3"
  },
  "language_info": {
   "codemirror_mode": {
    "name": "ipython",
    "version": 3
   },
   "file_extension": ".py",
   "mimetype": "text/x-python",
   "name": "python",
   "nbconvert_exporter": "python",
   "pygments_lexer": "ipython3",
   "version": "3.12.4"
  }
 },
 "nbformat": 4,
 "nbformat_minor": 5
}
