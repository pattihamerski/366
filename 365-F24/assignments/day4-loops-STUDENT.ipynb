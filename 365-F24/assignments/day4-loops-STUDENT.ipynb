{
 "cells": [
  {
   "cell_type": "markdown",
   "id": "f7a668ef-1d2f-4165-8b35-160635b7a745",
   "metadata": {},
   "source": [
    "# Day 4: Introduction to Ranges and Loops"
   ]
  },
  {
   "cell_type": "markdown",
   "id": "ae4da111-a584-4e71-8271-b2549e1a29f8",
   "metadata": {
    "tags": []
   },
   "source": [
    "### &#9989; Write your name here"
   ]
  },
  {
   "cell_type": "markdown",
   "id": "6579e8d2-9966-4e82-8005-7323045e55ab",
   "metadata": {},
   "source": [
    "Last class, we used lists as a way to connect many, ordered values with just one variable (for example, `L = [47, 44, 45, 44, 48]`). This can cut down on the number of variables we need to keep track of, and we can easily access and change the values of a list by using indexing (for example, `L[0] = 42`).\n",
    "\n",
    "Lists help us group similar values together, which makes code better organized and more efficient. Another tool for efficient code is loops, which allow you to instruct the computer to do the same operation over and over again. Rather than writing many lines of code for each repetition, we use loops.\n",
    "\n",
    "A real life analogy is if you were a chef and you had to instruct your sous chef on how to cook a bag of onions. You might write something like this:\n",
    "\n",
    "```\n",
    "Start with a bag of onions\n",
    "\n",
    "For each onion in the bag:\n",
    "    Put it on the cutting board\n",
    "    Slice it up\n",
    "    Put the slices into a saucepan\n",
    "    \n",
    "Cook up your onions\n",
    "```"
   ]
  },
  {
   "cell_type": "markdown",
   "id": "ceecb55a-2447-4771-95d2-50e5b07a7ef6",
   "metadata": {},
   "source": [
    "\n",
    "<img src=\"https://c.tenor.com/qcqrhGwoW3IAAAAd/cutting-chopping-onion.gif\" alt=\"A chef slicing an onion with a knife\" width=\"300\"/>"
   ]
  },
  {
   "cell_type": "markdown",
   "id": "2c522fcb-4cb0-4c3f-b09b-25df1f73360f",
   "metadata": {},
   "source": [
    "This set of instructions is the same exact structure as a `for` loop in Python.\n",
    "\n",
    "See below for an example of a loop in Python."
   ]
  },
  {
   "cell_type": "code",
   "execution_count": 1,
   "id": "0f675d2b-a809-4613-96af-f7d5c31afafc",
   "metadata": {
    "tags": []
   },
   "outputs": [
    {
     "name": "stdout",
     "output_type": "stream",
     "text": [
      "red onion: sliced and cooked!\n",
      "white onion: sliced and cooked!\n",
      "yellow onion: sliced and cooked!\n",
      "shallot: sliced and cooked!\n",
      "scallion: sliced and cooked!\n"
     ]
    }
   ],
   "source": [
    "onions = [\"red onion\", \"white onion\", \"yellow onion\", \"shallot\", \"scallion\"]\n",
    "\n",
    "for veg in onions:\n",
    "    slice = veg + \": sliced\"\n",
    "    cook = slice + \" and cooked!\"\n",
    "    print(cook)"
   ]
  },
  {
   "cell_type": "markdown",
   "id": "1d803130-e74c-4881-bcaf-e7b96bf8a087",
   "metadata": {},
   "source": [
    "A helpful tool that pairs very nicely with a `for` loop is `range`. `range` can be used to create a sequence of indices. This sequence is similar to a list, but a major difference is that `range` values cannot be changed like the values of a list can be. They also look like completely different objects to the computer -- see below for an example."
   ]
  },
  {
   "cell_type": "code",
   "execution_count": 3,
   "id": "e4dbd61c-39b7-4a46-8d56-7903d2143495",
   "metadata": {},
   "outputs": [
    {
     "name": "stdout",
     "output_type": "stream",
     "text": [
      "range version: range(0, 10)\n",
      "list version: [0, 1, 2, 3, 4, 5, 6, 7, 8, 9]\n"
     ]
    }
   ],
   "source": [
    "ten = range(10)\n",
    "\n",
    "print(\"range version:\", ten)\n",
    "print(\"list version:\", list(ten))"
   ]
  },
  {
   "cell_type": "markdown",
   "id": "c534255d-264e-41ba-ab93-0cd88b667142",
   "metadata": {},
   "source": [
    "The reason `range` and `for` loops go together so well is that `range` can quickly create a sequence of indices, which can be used by the `for` loop to access the values in a list, one index at a time. See below for an example."
   ]
  },
  {
   "cell_type": "code",
   "execution_count": 5,
   "id": "578f9676-b61d-4f6b-abae-103df2047a9e",
   "metadata": {},
   "outputs": [
    {
     "name": "stdout",
     "output_type": "stream",
     "text": [
      "0 red onion\n",
      "1 white onion\n",
      "2 yellow onion\n",
      "3 shallot\n",
      "4 scallion\n"
     ]
    }
   ],
   "source": [
    "for i in range(5):\n",
    "    print(i, onions[i])"
   ]
  },
  {
   "cell_type": "markdown",
   "id": "99bac5da-863c-4d66-a0a9-b7566b0ed49a",
   "metadata": {},
   "source": [
    "---\n",
    "\n",
    "### Part 1: Using `range`\n",
    "\n",
    "In the examples above, the computer used `range` to create a sequence of integers, starting at 0, ending before the number given, and counting by 1. You can also use `range` to instruct the computer start at different numbers and/or count by step-sizes other than 1."
   ]
  },
  {
   "cell_type": "markdown",
   "id": "66ef29e0-cff7-445d-80cc-6d70c35a9c1b",
   "metadata": {
    "tags": []
   },
   "source": [
    "**&#9989; Task 1.1:** Use `range` to create this sequence: `4, 5, 6, 7, 8`. Print out your range after converting it to a `list` (see the examples above for a demo)."
   ]
  },
  {
   "cell_type": "code",
   "execution_count": null,
   "id": "25107a92-2cd3-4bc2-bb60-01d408b0f1f2",
   "metadata": {},
   "outputs": [],
   "source": [
    "# your answer here"
   ]
  },
  {
   "cell_type": "markdown",
   "id": "5a17a4b5-a0b7-4120-af86-61a74f85490c",
   "metadata": {
    "tags": []
   },
   "source": [
    "**&#9989; Task 1.2:** Use `range` to create this sequence: `-11, -8, -5, -2, 1, 4`. Print out your range after converting it to a `list`."
   ]
  },
  {
   "cell_type": "code",
   "execution_count": null,
   "id": "88db7695-9279-4a2c-9a24-71a769fba811",
   "metadata": {},
   "outputs": [],
   "source": [
    "# your answer here"
   ]
  },
  {
   "cell_type": "markdown",
   "id": "c32468d1-f754-414e-b1c6-be844b199fea",
   "metadata": {
    "tags": []
   },
   "source": [
    "**&#9989; Task 1.3:** Use `range` to create this sequence: `10, 9, 8, 7, 6, 5, 4, 3, 2, 1, 0`. Print out your range after converting it to a `list`."
   ]
  },
  {
   "cell_type": "code",
   "execution_count": null,
   "id": "cfc22473-2437-4529-b40d-2729d9bf8f53",
   "metadata": {},
   "outputs": [],
   "source": [
    "# your answer here"
   ]
  },
  {
   "cell_type": "markdown",
   "id": "0c56734c-e23c-401a-ab86-fe0a03c7ca2d",
   "metadata": {
    "tags": []
   },
   "source": [
    "**&#9989; Task 1.4:** What are the similarities and differences between the two variables `sequence1` and `sequence2` below?"
   ]
  },
  {
   "cell_type": "code",
   "execution_count": 9,
   "id": "2040dc64-b988-418f-8f75-ad4ba766ec2c",
   "metadata": {},
   "outputs": [],
   "source": [
    "# do not edit this cell, answer below\n",
    "sequence1 = range(100, 199, 5)\n",
    "sequence2 = [100, 105, 110, 115, 120, 125, 130, 135, 140, 145,\n",
    "             150, 155, 160, 165, 170, 175, 180, 185, 190, 195]"
   ]
  },
  {
   "cell_type": "markdown",
   "id": "09bed0d3-5529-4da9-82e8-e6396e207296",
   "metadata": {},
   "source": [
    "**/your answer here/**"
   ]
  },
  {
   "cell_type": "markdown",
   "id": "9e439196-6c6a-4396-8eb5-bcd215ce5943",
   "metadata": {},
   "source": [
    "#### &#128721; **Stop here and check your progress with an instructor**"
   ]
  },
  {
   "cell_type": "markdown",
   "id": "847d96d8-cdd5-44ce-8b95-6f8ab167f988",
   "metadata": {},
   "source": [
    "---\n",
    "\n",
    "### Part 2: Using `for` loops\n",
    "\n",
    "Recall the example code for using a `for` loop with `range`:\n",
    "\n",
    "```\n",
    "for i in range(5):\n",
    "    print(i, onions[i])\n",
    "```\n",
    "\n",
    "In this code, the input for `range` was `5`, because that was the length of `onions`. You might not always know the exact length of a list you are working with. The `len` function can help."
   ]
  },
  {
   "cell_type": "markdown",
   "id": "b0d49d07-8f1f-4c3d-b826-24f378d88850",
   "metadata": {
    "tags": []
   },
   "source": [
    "**&#9989; Task 2.1:** Use `len` and print the lengths of the three lists provided."
   ]
  },
  {
   "cell_type": "code",
   "execution_count": 1,
   "id": "5e3ec795-727f-4c42-a726-28f4a42b9080",
   "metadata": {},
   "outputs": [],
   "source": [
    "list0 = []\n",
    "list1 = list(range(0, 18, 2))\n",
    "list2 = [1] + 10 * [2, 3, 7, 7, 5]"
   ]
  },
  {
   "cell_type": "code",
   "execution_count": 15,
   "id": "4dce5720-d896-41eb-a38a-d3ebf11a7021",
   "metadata": {},
   "outputs": [],
   "source": [
    "# your answer here"
   ]
  },
  {
   "cell_type": "markdown",
   "id": "0cffb01c-3c06-4f73-a52a-6a4130c5a08d",
   "metadata": {
    "tags": []
   },
   "source": [
    "**&#9989; Task 2.2:** The code below loops through a list of volume measurements (in liters). Each value is converted to gallons and printed out. Copy the code below and change it so that the values stored within `volumes` are *also* altered to reflect the unit conversion. \n",
    "\n",
    "```\n",
    "volumes = [3.3, 3.6, 3.8, 3.15, 3.65, 3.4, 3.9, 3.05, 3.15, 3.15, 3.3, 3.2]\n",
    "\n",
    "for vol in volumes:\n",
    "    vol_gal = 0.264 * vol\n",
    "    print(vol_gal)\n",
    "```\n",
    "\n",
    "*Hint: Use `range` and `len`.*"
   ]
  },
  {
   "cell_type": "code",
   "execution_count": null,
   "id": "da1c72f6-6d47-48e0-9794-15b28d8f6719",
   "metadata": {},
   "outputs": [],
   "source": [
    "# your answer here"
   ]
  },
  {
   "cell_type": "markdown",
   "id": "91035b7c-e25b-45f5-a18d-af3942b2b68f",
   "metadata": {
    "tags": []
   },
   "source": [
    "**&#9989; Task 2.3:** Compare the code given and the code you ended up with in Task 2.2. What are the advantages and disadvantages of each way of using a `for` loop?"
   ]
  },
  {
   "cell_type": "markdown",
   "id": "02563185-a673-4f51-92b5-94f8d22ce3df",
   "metadata": {},
   "source": [
    "**/your answer here/**"
   ]
  },
  {
   "cell_type": "markdown",
   "id": "2b48e23f-6cfc-4fe8-b05c-7caf6e7969ab",
   "metadata": {
    "tags": []
   },
   "source": [
    "**&#9989; Task 2.4:** Add to the code below. Use a loop to append the first 25 values of this sequence to `nums`, and then print the list.\n",
    "\n",
    "$$a_n = \\frac{n}{n + 1}$$"
   ]
  },
  {
   "cell_type": "code",
   "execution_count": null,
   "id": "d71a5574-80ee-4b03-859a-cc623e5f55c6",
   "metadata": {},
   "outputs": [],
   "source": [
    "# your answer here\n",
    "nums = []\n"
   ]
  },
  {
   "cell_type": "markdown",
   "id": "69f08116-fcaf-4c22-ae00-234d8167d29e",
   "metadata": {
    "tags": []
   },
   "source": [
    "**&#9989; Task 2.5:** Gather around a table in a group of 3-5 so everyone has access to the whiteboard. Create a visual model for how the computer processes code that contains a loop. You should be able to use your model to explain how the code works in the tasks above. Consider:\n",
    "- How does the computer decide which line of code to run next?\n",
    "- How can we tell the computer which code is part of a loop, and which is not?\n",
    "- What happen when the computer exits a loop?"
   ]
  },
  {
   "cell_type": "markdown",
   "id": "738c7ce6-9692-47d2-8b5a-7bd5ce8693cf",
   "metadata": {
    "tags": []
   },
   "source": [
    "#### &#128721; **Stop here and check your progress with an instructor**"
   ]
  },
  {
   "cell_type": "markdown",
   "id": "2f04245a-bd48-4f3b-94e3-365628591c90",
   "metadata": {},
   "source": [
    "---\n",
    "\n",
    "### Part 3: Looping to compute contracted lengths\n",
    "\n",
    "In this part, you will use lists and loops to compute values for contracted length ($L$), which can be derived from these equations:\n",
    "\n",
    "$$L = \\frac{L_0}{\\gamma}$$\n",
    "$$\\gamma = \\frac{1}{\\sqrt{1-\\beta^2}}$$\n",
    "\n",
    "Your goal is to create a list of values for $L$ based on given measurements for $L_0$ and $\\beta$ in different situations, and **print your list of $L$ values**."
   ]
  },
  {
   "cell_type": "markdown",
   "id": "2d0d3356-70c6-4fbd-a4f1-d4c357245b1d",
   "metadata": {},
   "source": [
    "**&#9989; Task 3.1:** Get into a group of **three or more**. Decide with one another how to split up and solve the problem using all the different setups below, `A`, `B`, and `C`. These are different ways of representing the given information, and will require different solution paths.\n",
    "\n",
    "You alone need to use just **one** of the setups, but ensure that your group is covering all three together. Make sure to use comments in your solution, because you will need to share it with your group mates afterwards."
   ]
  },
  {
   "cell_type": "code",
   "execution_count": null,
   "id": "f6c22709-d926-464e-b60c-685411bce7b8",
   "metadata": {},
   "outputs": [],
   "source": [
    "# Setup A\n",
    "# separate lists for L0 and beta measurements\n",
    "\n",
    "L0_sep = [16.65, 47.64, 21.78, 15.26, 49.18, 33.13, 17.41, 44.06, 14.76, 11.26,\n",
    "          16.81, 36.65, 17.04, 52.29, 22.97, 42.99, 16.86, 4.81, 15.87, 47.67,\n",
    "          4.08, 43.2, 33.21, 45.47, 39.07, 19.97, 15.78, 33.3, 40.97, 5.97,\n",
    "          48.26, 4.09, 12.32, 48.13, 29.1, 50.85, 15.36, 23.79, 20.68, 13.0]\n",
    "beta_sep = [0.86, 0.779, 0.812, 0.914, 0.95, 0.755, 0.956, 0.773, 0.794, 0.739,\n",
    "            0.762, 0.755, 0.877, 0.78, 0.886, 0.935, 0.975, 0.851, 0.885, 0.975,\n",
    "            0.905, 0.843, 0.851, 0.868, 0.954, 0.787, 0.938, 0.763, 0.761, 0.97,\n",
    "            0.738, 0.78, 0.86, 0.763, 0.8, 0.842, 0.752, 0.735, 0.743, 0.807]"
   ]
  },
  {
   "cell_type": "code",
   "execution_count": null,
   "id": "d6a3f172-4170-4721-8b8e-fb4e5fa1ea1c",
   "metadata": {},
   "outputs": [],
   "source": [
    "# Setup B\n",
    "# one list with separate inner lists for L0 and beta measurements\n",
    "\n",
    "L0_beta_sep = [[16.65, 47.64, 21.78, 15.26, 49.18, 33.13, 17.41, 44.06, 14.76, 11.26,\n",
    "                16.81, 36.65, 17.04, 52.29, 22.97, 42.99, 16.86, 4.81, 15.87, 47.67,\n",
    "                4.08, 43.2, 33.21, 45.47, 39.07, 19.97, 15.78, 33.3, 40.97, 5.97,\n",
    "                48.26, 4.09, 12.32, 48.13, 29.1, 50.85, 15.36, 23.79, 20.68, 13.0],\n",
    "               [0.86, 0.779, 0.812, 0.914, 0.95, 0.755, 0.956, 0.773, 0.794, 0.739,\n",
    "                0.762, 0.755, 0.877, 0.78, 0.886, 0.935, 0.975, 0.851, 0.885, 0.975,\n",
    "                0.905, 0.843, 0.851, 0.868, 0.954, 0.787, 0.938, 0.763, 0.761, 0.97,\n",
    "                0.738, 0.78, 0.86, 0.763, 0.8, 0.842, 0.752, 0.735, 0.743, 0.807]]"
   ]
  },
  {
   "cell_type": "code",
   "execution_count": 2,
   "id": "121fdb18-5d6e-4ae8-92d1-2f476ba0bd88",
   "metadata": {},
   "outputs": [],
   "source": [
    "# Setup C\n",
    "# one list of [L0, beta] combined individual measurements\n",
    "\n",
    "L0_beta_both = [[16.65, 0.86], [47.64, 0.779], [21.78, 0.812], [15.26, 0.914], [49.18, 0.95],\n",
    "                [33.13, 0.755], [17.41, 0.956], [44.06, 0.773], [14.76, 0.794], [11.26, 0.739],\n",
    "                [16.81, 0.762], [36.65, 0.755], [17.04, 0.877], [52.29, 0.78], [22.97, 0.886],\n",
    "                [42.99, 0.935], [16.86, 0.975], [4.81, 0.851], [15.87, 0.885], [47.67, 0.975],\n",
    "                [4.08, 0.905], [43.2, 0.843], [33.21, 0.851], [45.47, 0.868], [39.07, 0.954],\n",
    "                [19.97, 0.787], [15.78, 0.938], [33.3, 0.763], [40.97, 0.761], [5.97, 0.97],\n",
    "                [48.26, 0.738], [4.09, 0.78], [12.32, 0.86], [48.13, 0.763], [29.1, 0.8],\n",
    "                [50.85, 0.842], [15.36, 0.752], [23.79, 0.735], [20.68, 0.743], [13.0, 0.807]]"
   ]
  },
  {
   "cell_type": "code",
   "execution_count": null,
   "id": "78b81360-64d5-4908-b052-4a926bf4458f",
   "metadata": {},
   "outputs": [],
   "source": [
    "# your answer here"
   ]
  },
  {
   "cell_type": "markdown",
   "id": "2458722d-9032-4753-bf30-bbb3318827a3",
   "metadata": {},
   "source": [
    "**&#9989; Task 3.2:** With your group, share your solutions. Ensure you have included comments in your code to make it easier to read. Discuss and take notes:\n",
    "- What is the best way to solve this problem when it comes to what is most...\n",
    "    - aesthetically pleasing?\n",
    "    - clearest syntax and structure?\n",
    "    - readable?\n",
    "    - correctness of the end result?"
   ]
  },
  {
   "cell_type": "markdown",
   "id": "fc3c32c0-fdef-410c-8997-a800ef9486cc",
   "metadata": {},
   "source": [
    "**/your answer here/**"
   ]
  },
  {
   "cell_type": "markdown",
   "id": "57f83589-e5b0-4c2f-a3f6-207a1c34a09f",
   "metadata": {},
   "source": [
    "**&#9989; Task 3.3:** Based on this discussion, describe how you would set up and solve a more complicated problem. Imagine you had to solve for the annual energy output of a rain gutter energy source (from Day 2), for 200 different homes, each with different given values of:\n",
    "- seasonal fall rainfall\n",
    "- seasonal winter rainfall\n",
    "- seasonal spring rainfall\n",
    "- seasonal summer rainfall\n",
    "- roof area\n",
    "- gutter height\n",
    "- efficiency of energy conversion\n",
    "\n",
    "Describe, without writing code: How would you want this data to be represented using a list or lists? How would you solve the problem itself?"
   ]
  },
  {
   "cell_type": "markdown",
   "id": "576f72be-b349-4c22-a632-64eeec00862d",
   "metadata": {},
   "source": [
    "**/your answer here/**"
   ]
  },
  {
   "cell_type": "markdown",
   "id": "77124b6a-8df3-4841-a36e-ae8fa9d2a566",
   "metadata": {
    "tags": []
   },
   "source": [
    "#### &#128721; **Stop here and check your progress with an instructor**"
   ]
  }
 ],
 "metadata": {
  "kernelspec": {
   "display_name": "Python 3 (ipykernel)",
   "language": "python",
   "name": "python3"
  },
  "language_info": {
   "codemirror_mode": {
    "name": "ipython",
    "version": 3
   },
   "file_extension": ".py",
   "mimetype": "text/x-python",
   "name": "python",
   "nbconvert_exporter": "python",
   "pygments_lexer": "ipython3",
   "version": "3.12.4"
  }
 },
 "nbformat": 4,
 "nbformat_minor": 5
}
