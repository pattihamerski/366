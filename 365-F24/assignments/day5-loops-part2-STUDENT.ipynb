{
 "cells": [
  {
   "cell_type": "markdown",
   "id": "b2b49e79-4fa5-4da4-a932-8739b637a53e",
   "metadata": {
    "tags": []
   },
   "source": [
    "# Day 5: Different Loops: `for` vs. `while`"
   ]
  },
  {
   "cell_type": "markdown",
   "id": "551c8b49-dad0-4fc8-8e24-e9a6a18f6b54",
   "metadata": {
    "tags": []
   },
   "source": [
    "### &#9989; Write your name here"
   ]
  },
  {
   "cell_type": "markdown",
   "id": "1ef21a58-ef0f-4b5e-924c-69ab93728f81",
   "metadata": {},
   "source": [
    "`for` loops are a computing tool that we used to repeatedly run the same chunk of code a pre-determned number of times. For example, we can loop over the numbers 0, 1, 2, ..., 8, 9 by writing `for i in range(10):`, or we can loop over the elements of a list named `periodic_table` by writing `for elem in periodic_table:`.\n",
    "\n",
    "In some cases, which you will explore today, a `while` loop can be useful instead of a `for` loop. To see a comparison, the code chunks below serve the same purpose (summing the numbers 0 through 9), but use different loop structures.\n",
    "\n",
    "```\n",
    "# Snippet 1\n",
    "\n",
    "sum = 0\n",
    "for i in range(10):\n",
    "    sum += i\n",
    "print(sum)\n",
    "\n",
    "# Snippet 2\n",
    "\n",
    "sum = 0\n",
    "i = 0\n",
    "while i < 10:\n",
    "    sum += i\n",
    "    i += 1\n",
    "print(sum)\n",
    "```\n",
    "\n",
    "In **Snippet 1**, the `for` loop iterates through the range, assigning each value to `i`, starting with `0`, and stopping before `10`. \n",
    "\n",
    "In **Snippet 2**, the `while` loop iterates continuously as long as `i < 10` is true. `i` is incremented inside the loop (`i += 1`), so in effect the loop will run when `i = 0, 1, 2, ...` and then stops when `i` reaches `10`, because of the `i < 10` condition.\n",
    "\n",
    "**The \"hidden\" line of code:** Both `while` loops and `for` loops instruct the computer to repeatedly run code, but a main difference is that `for` loops have an additional hidden line of code that `while` loops don't. The `for` loop in the example above includes a hidden command for the computer to set `i = {next number in range(10)}` during each iteration of the loop. The `while` loop has no such hidden command, and therefore we needed to set `i = 0` and `i += 1` manually."
   ]
  },
  {
   "cell_type": "markdown",
   "id": "12663abc-cb08-4669-9516-b3df8143b517",
   "metadata": {},
   "source": [
    "---\n",
    "\n",
    "### Part 1: Boolean conditions\n",
    "\n",
    "In the example above, the first line of `while` loop was `while i < 10:`. This is different syntax than we are used to. The expression `i < 10` can be described as a **condition**, and the computer interprets it to mean \"run this loop as long as the condition is true.\" So when `i` finally reaches `10`, that is when the computer exits the loop. \n",
    "\n",
    "**Conditions** must be **\"Boolean,\"** meaning their value is `True` or `False`. See below for examples."
   ]
  },
  {
   "cell_type": "code",
   "execution_count": 6,
   "id": "9787e15a-18bd-4f48-ac0b-c01d6a975f5c",
   "metadata": {},
   "outputs": [
    {
     "name": "stdout",
     "output_type": "stream",
     "text": [
      "variable, value, <type>\n",
      "a True <class 'bool'>\n",
      "b False <class 'bool'>\n",
      "c True <class 'bool'>\n",
      "d False <class 'bool'>\n",
      "e True <class 'bool'>\n"
     ]
    }
   ],
   "source": [
    "# these are Booleans\n",
    "\n",
    "a = True\n",
    "b = False\n",
    "c = (10 >= 5)\n",
    "d = (2 + 2 == 5)\n",
    "e = (9 in range(3, 10))\n",
    "\n",
    "print(\"variable, value, <type>\")\n",
    "print(\"a\", a, type(a))\n",
    "print(\"b\", b, type(b))\n",
    "print(\"c\", c, type(c))\n",
    "print(\"d\", d, type(d))\n",
    "print(\"e\", e, type(e))"
   ]
  },
  {
   "cell_type": "code",
   "execution_count": 13,
   "id": "abdfd5b6-1eef-45cc-9f5f-8a9e92643604",
   "metadata": {},
   "outputs": [
    {
     "name": "stdout",
     "output_type": "stream",
     "text": [
      "variable, value, <type>\n",
      "f False <class 'str'>\n",
      "g [True] <class 'list'>\n",
      "h 1 <class 'int'>\n"
     ]
    }
   ],
   "source": [
    "# these are NOT Booleans\n",
    "\n",
    "f = \"False\"       # it's not a Boolean if it's in quotes\n",
    "g = [True]        # a LIST of Booleans is not a Boolean\n",
    "h = True + False  # doing arithmetic is possible, but it translates\n",
    "                    # Booleans into integers (True --> 1, False --> 0)\n",
    "\n",
    "print(\"variable, value, <type>\")\n",
    "print(\"f\", f, type(f))\n",
    "print(\"g\", g, type(g))\n",
    "print(\"h\", h, type(h))"
   ]
  },
  {
   "cell_type": "markdown",
   "id": "5c35d3e5-025d-4282-b2da-20a9caed0287",
   "metadata": {},
   "source": [
    "**&#9989; Task 1.1:** Write a `while` loop with these features:\n",
    "* Start with `i` set to 0, and inside the loop increment `i` by 2.\n",
    "* Print `i` in each iteration of the loop.\n",
    "* End the loop when `i` reaches 20."
   ]
  },
  {
   "cell_type": "code",
   "execution_count": null,
   "id": "82fb0440-773e-4a17-99d0-58ae62e3ec0b",
   "metadata": {},
   "outputs": [],
   "source": [
    "# your answer here"
   ]
  },
  {
   "cell_type": "markdown",
   "id": "1f3eddef-3790-4dd4-a8f0-d2b5330704c6",
   "metadata": {},
   "source": [
    "**&#9989; Task 1.2:** Write a `while` loop with these features:\n",
    "* Start with `n` set to 1, and inside the loop multiply it by 2.\n",
    "* Start with `counter` set to 0, and add `n` to it during each iteration of the loop.\n",
    "* End the loop when the square root of `n` reaches 10.\n",
    "\n",
    "Run the *assertion* code chunk further below to test if you have your while loop set up correctly."
   ]
  },
  {
   "cell_type": "code",
   "execution_count": 4,
   "id": "1042c05a-1fce-4b06-a77b-811bb3d1fcc9",
   "metadata": {},
   "outputs": [],
   "source": [
    "# your answer here"
   ]
  },
  {
   "cell_type": "code",
   "execution_count": 6,
   "id": "4ca16606-10ca-4f56-a4c7-8fbd8062658b",
   "metadata": {},
   "outputs": [],
   "source": [
    "# when your code above works, this code chunk should run without error\n",
    "assert counter == 127\n",
    "# you may get == 254, why do you think that happened?"
   ]
  },
  {
   "cell_type": "markdown",
   "id": "a0873d8b-a44a-4f5a-b69c-230238403e94",
   "metadata": {},
   "source": [
    "---\n",
    "\n",
    "### Part 2: Comparing `while` and `for`\n",
    "\n",
    "Next, use these exercises to compare how `for` loops and `while` loops differ as a problem-solving tool, and how the computer might process them differently when running it's own computations."
   ]
  },
  {
   "cell_type": "markdown",
   "id": "ae9c793f-6bdc-47c3-aa2d-ffdc6f3c61b5",
   "metadata": {},
   "source": [
    "**&#9989; Task 2.1:** Convert the code below, which uses a `for` loop, into code that uses a `while` loop to achieve the same result. You can edit the code. If you need to recover the original, it is also here in markdown.\n",
    "\n",
    "```\n",
    "for countdown in range(10, 0, -1):\n",
    "    print(countdown)\n",
    "\n",
    "print(\"Blast off!\")\n",
    "```"
   ]
  },
  {
   "cell_type": "code",
   "execution_count": 17,
   "id": "ca717efe-cdd9-4c7e-9daa-1906b7ee808f",
   "metadata": {},
   "outputs": [
    {
     "name": "stdout",
     "output_type": "stream",
     "text": [
      "10\n",
      "9\n",
      "8\n",
      "7\n",
      "6\n",
      "5\n",
      "4\n",
      "3\n",
      "2\n",
      "1\n",
      "Blast off!\n"
     ]
    }
   ],
   "source": [
    "# your answer here\n",
    "# change this code\n",
    "\n",
    "for countdown in range(10, 0, -1):\n",
    "    print(countdown)\n",
    "\n",
    "print(\"Blast off!\")"
   ]
  },
  {
   "cell_type": "markdown",
   "id": "96e3bef4-eac5-4971-b59b-f985e5d5f2fe",
   "metadata": {},
   "source": [
    "**&#9989; Task 2.2:** Find a partner to work with on this problem. Decide between each other -- one of you solves this problem using a `for` loop, and one of you with a `while` loop.\n",
    "\n",
    "The given list `vels` is a **list of average x-velocities measured over 1 second** for an object that is moving for 30 seconds. Your goal is to print the total x-distance moved **in the first 15 seconds.**\n",
    "\n",
    "Remember, you and your partner should solve this problem used *different* types of loops."
   ]
  },
  {
   "cell_type": "code",
   "execution_count": 1,
   "id": "586b4d4d-f665-4dfd-bb59-386ad15ca31b",
   "metadata": {},
   "outputs": [],
   "source": [
    "# velocities in m/s\n",
    "vels = [0.02, 0.05, 0.15, 1.22, 3.48, 1.98, 1.95, 1.94, 1.99, 1.78,\n",
    "        0.83, -0.69, -2.87, -4.71, -5.5, -4.04, -0.02, 0.01, -0.01, 0.02,\n",
    "        0.08, 0.94, 1.8, 3.39, 6.79, 10.1, 10.87, 10.48, 10.71, 10.66]"
   ]
  },
  {
   "cell_type": "code",
   "execution_count": 22,
   "id": "c616132f-90b5-436b-84be-a90adc500cba",
   "metadata": {},
   "outputs": [],
   "source": [
    "# your answer here"
   ]
  },
  {
   "cell_type": "markdown",
   "id": "76f1724e-701e-4d56-906d-059a95cf0b8e",
   "metadata": {},
   "source": [
    "**&#9989; Task 2.3:** Discuss these questions with your partner, and take notes.\n",
    "- How were your solutions similar and different in terms of syntax?\n",
    "- How did you get the computer to exit the loop when you wanted it to?\n",
    "    - How were these instructions similar/different between your solutions?\n",
    "- Which loop structure seems better suited for this problem, even if it's just personal preference?"
   ]
  },
  {
   "cell_type": "markdown",
   "id": "0183a82a-0a25-4799-b655-9a68bafe7b57",
   "metadata": {},
   "source": [
    "#### &#128721; **Stop here and check your progress with an instructor**"
   ]
  },
  {
   "cell_type": "markdown",
   "id": "35dc2939-8583-4e67-b08f-89754bcccd77",
   "metadata": {},
   "source": [
    "---\n",
    "\n",
    "### Part 3: Launching a Ball of Yarn"
   ]
  },
  {
   "cell_type": "markdown",
   "id": "ddaa29c8-f75e-4bc7-93f4-4be8cad437bd",
   "metadata": {},
   "source": [
    "<img src=\"https://media.tenor.com/0admlsdzNiQAAAAd/kitty-cute.gif\" alt=\"Kitten playing with a ball of yarn\" width=\"250\"/>\n"
   ]
  },
  {
   "cell_type": "markdown",
   "id": "95cfd1db-ede7-4484-8927-1bf714aa59d5",
   "metadata": {},
   "source": [
    "You are tasked with designing a yarn-ball launcher as entertainment for your friend's cat's birthday party. The task seems simple enough, but the cats also want to see a computational model that demonstrates how well the launcher will work.\n",
    "\n",
    "The launcher will be positioned to launch the ball vertically upwards, starting at a height of 2 m, and traveling at an initial speed of 44 m/s.\n",
    "\n",
    "Here is a kinematic equation that mightbe helpful for you:\n",
    "$$y = y_0 + v_{y,0}t + \\frac{1}{2}at^2$$"
   ]
  },
  {
   "cell_type": "markdown",
   "id": "f5f0e8e5-6ffd-4098-b32e-c34b7a1208ff",
   "metadata": {},
   "source": [
    "**&#9989; Task 3.1:** Compute a list of height values for the yarn-ball **for the first 5 seconds after launch,** using a small time-step of 0.1 seconds. Print your list -- you should have 50 different height values."
   ]
  },
  {
   "cell_type": "code",
   "execution_count": null,
   "id": "423fc7ef-2fd3-486f-a2db-a5aca8c65a09",
   "metadata": {},
   "outputs": [],
   "source": [
    "# your answer here"
   ]
  },
  {
   "cell_type": "markdown",
   "id": "d4836e8a-a9a8-4e87-bcee-a33b4250268b",
   "metadata": {},
   "source": [
    "**&#9989; Task 3.2:** Compute a list of height values for the yarn-ball **up until the moment before it hits the ground.**"
   ]
  },
  {
   "cell_type": "code",
   "execution_count": null,
   "id": "fd17d5ab-4c6b-4de9-8479-859de4e4c041",
   "metadata": {},
   "outputs": [],
   "source": [
    "# your answer here"
   ]
  },
  {
   "cell_type": "markdown",
   "id": "eb68404c-d055-4335-b022-faaad45133f4",
   "metadata": {},
   "source": [
    "**&#9989; Task 3.3:** Compute a list of height values for the yarn-ball **up until the moment it starts to fall back down to the ground** (at its apex)."
   ]
  },
  {
   "cell_type": "code",
   "execution_count": null,
   "id": "3e40e5e8-3422-43ae-a732-a764ecc17341",
   "metadata": {},
   "outputs": [],
   "source": [
    "# your answer here"
   ]
  },
  {
   "cell_type": "markdown",
   "id": "363ea9e3-98dc-4c68-9be7-1d7e493622df",
   "metadata": {},
   "source": [
    "**&#9989; Task 3.4:** Take notes below and describe: what did you change in your code between each solution? "
   ]
  },
  {
   "cell_type": "markdown",
   "id": "e2c2ed18-6a9d-4bd7-930f-25d53faca3c7",
   "metadata": {},
   "source": [
    "**/your answer here/**"
   ]
  },
  {
   "cell_type": "markdown",
   "id": "8b81b459-d7a8-4546-a139-79fac09b2ec9",
   "metadata": {},
   "source": [
    "#### &#128721; **Stop here and check your progress with an instructor**"
   ]
  }
 ],
 "metadata": {
  "kernelspec": {
   "display_name": "Python 3 (ipykernel)",
   "language": "python",
   "name": "python3"
  },
  "language_info": {
   "codemirror_mode": {
    "name": "ipython",
    "version": 3
   },
   "file_extension": ".py",
   "mimetype": "text/x-python",
   "name": "python",
   "nbconvert_exporter": "python",
   "pygments_lexer": "ipython3",
   "version": "3.12.4"
  }
 },
 "nbformat": 4,
 "nbformat_minor": 5
}
