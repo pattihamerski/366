{
 "cells": [
  {
   "cell_type": "markdown",
   "id": "6780eac6-a426-435e-ba5d-c5afa9b7f709",
   "metadata": {},
   "source": [
    "# Days 10+11: Mini Project 1"
   ]
  },
  {
   "cell_type": "markdown",
   "id": "ed79f77a-a31f-4b7a-b8ac-be51ffb26f68",
   "metadata": {},
   "source": [
    "### &#9989; Write your name here"
   ]
  },
  {
   "cell_type": "markdown",
   "id": "fc0215e1-1ba9-4697-a466-40d8c2010eba",
   "metadata": {},
   "source": [
    "You will have two class periods to work on this assignment. Collaboration is welcome during the mini-project, but you will be expected to submit your own individual work. This assignment is graded based on the rubric posted on Canvas.\n",
    "\n",
    "There are three options for the mini-project -- you can read through them and pick whichever one you want to do."
   ]
  },
  {
   "cell_type": "markdown",
   "id": "e2730025-12fa-45b5-8514-68d125a77da3",
   "metadata": {},
   "source": [
    "---\n",
    "\n",
    "## **&#128311; Option 1: Approximation of Lorentz factor**"
   ]
  },
  {
   "cell_type": "markdown",
   "id": "015677be-3ef9-4dd7-b05e-2b0cbaec759c",
   "metadata": {},
   "source": [
    "The Lorentz factor used in special relativity can be computed exactly from $\\beta$ (given below), or it can be approximated using its Taylor series (given below).\n",
    "\n",
    "$$\\Gamma_{\\text{exact}} = \\sqrt{\\frac{1}{1 - \\beta^2}}$$\n",
    "$$\\Gamma_{\\text{approx}} = 1 + \\frac{1}{2}\\beta^2 + \\frac{3}{8}\\beta^4 + \\frac{5}{16}\\beta^6 + \\frac{35}{128}\\beta^8 + \\ldots$$\n",
    "$$\\beta = \\frac{v}{c}$$\n",
    "\n",
    "In this mini-project option, **your goal is to demonstrate the \"goodness\" of different approximations for the Lorentz factor.**"
   ]
  },
  {
   "cell_type": "markdown",
   "id": "50f01bfd-fbc1-4faa-ba9d-e429d9c39006",
   "metadata": {},
   "source": [
    "More specific instructions are provided further below. You are given the code below to start with, which computes and plots the exact value for the Lorentz factor and an initial approximation. You can copy/paste and alter/add to it as needed for your solution.\n",
    "\n",
    "```\n",
    "import numpy as np\n",
    "import matplotlib.pyplot as plt\n",
    "\n",
    "c = 3e8\n",
    "v = np.linspace(0, 0.99*c, 100000)\n",
    "\n",
    "beta = v / c\n",
    "gamma = 1 / (1 - beta ** 2) ** 0.5\n",
    "approx_order2 = 1 + 1/2 * beta ** 2\n",
    "\n",
    "plt.plot(v, gamma)\n",
    "plt.plot(v, approx_order2)\n",
    "plt.xlabel(\"velocity\")\n",
    "plt.ylabel(\"Gamma\")\n",
    "plt.title(\"Initial approximation for Lorentz factor\")\n",
    "plt.show()\n",
    "```"
   ]
  },
  {
   "cell_type": "markdown",
   "id": "0badbd1e-2853-4fb3-8589-22dfd470775b",
   "metadata": {},
   "source": [
    "**&#9989; Main Tasks**  \n",
    "These tasks are meant to guide you in planning and executing a solution. You must address all the tasks to get full credit for this mini-project. Keep in mind that your overall work must be organized to address the goal above as well.\n",
    "\n",
    "**In your solution, you must:**  \n",
    "&#9989; Compute approximations of second order, fourth order, sixth order, and eighth order (for example, fourth order mean include all terms up to $\\beta^4$).  \n",
    "&#9989; Devise and explain a method to quantify whether an approximation is good or not for a given value of $v$, based on how close the approximation is to the exact value of the Lorentz factor.  \n",
    "&#9989; For each approximation, implement your method to determine the span of $v$ values for which that approximation is \"good.\"  \n",
    "&#9989; Create at least one visualization to show the different approximations and help you communicate your findings.  \n",
    "&#9989; Answer the reflection prompts directly.  "
   ]
  },
  {
   "cell_type": "code",
   "execution_count": null,
   "id": "58f59337-52a7-43e6-9f72-a507e05ed06a",
   "metadata": {},
   "outputs": [],
   "source": [
    "# insert all your work here -- add cells for coding and narrative text as needed"
   ]
  },
  {
   "cell_type": "markdown",
   "id": "059c3701-a1e8-485d-8f85-c9cfdf281f6b",
   "metadata": {},
   "source": [
    "#### **&#9989; Reflection Prompts**\n",
    "\n",
    "Read through these prompts to get a sense for how long it might take you to complete this reflection. When you are done with your solution, reflect on your answers and write them down here."
   ]
  },
  {
   "cell_type": "markdown",
   "id": "005deefe-65d0-4928-8b85-54fdd307d941",
   "metadata": {},
   "source": [
    "**&#9989; Reflection 1:** Reflect on the computational methods and approaches you used. \n",
    "- How did you you decide which coding tools to use in your solution?\n",
    "- What steps did you take to create working and efficient code? What did you do to make your code and visualizations readable to others?"
   ]
  },
  {
   "cell_type": "markdown",
   "id": "8f095eb0-0626-482b-8916-78c71eb4ba17",
   "metadata": {},
   "source": [
    "**/your answer here/**"
   ]
  },
  {
   "cell_type": "markdown",
   "id": "7f861040-75a6-4628-83c4-668885adbb95",
   "metadata": {},
   "source": [
    "**&#9989; Reflection 2:** Reflect on how you used your physics knowledge. \n",
    "- How you use your knowledge of physics to design or create your solution?\n",
    "- How did you use your knowledge of physics to verify the results you were seeing as you worked and/or completed your mini-project?"
   ]
  },
  {
   "cell_type": "markdown",
   "id": "1dd3c634-6628-46f7-8a7c-451ff56c34a3",
   "metadata": {},
   "source": [
    "**/your answer here/**"
   ]
  },
  {
   "cell_type": "markdown",
   "id": "8bcddfda-d4d8-4182-9e50-2c864cd8c5cb",
   "metadata": {},
   "source": [
    "**&#9989; Reflection 3:** Reflect on how you used outside resources during this project. \n",
    "- What coding techniques did you look up and figure out how to implement in your project?\n",
    "- What explanations on computing concepts did you look up to get a better understanding of?\n",
    "- What resources did you consult, and how did you use them?\n",
    "- Where in your project did you use Gen-AI (if at all), and how did you ensure your solution reflected your own interpretation of the Gen-AI outputs?"
   ]
  },
  {
   "cell_type": "markdown",
   "id": "2d160302-80d4-4daa-bd7a-6750ab969480",
   "metadata": {},
   "source": [
    "**/your answer here/**"
   ]
  },
  {
   "cell_type": "markdown",
   "id": "acfef1f6-e9f3-4515-90e5-46daae26ae0a",
   "metadata": {},
   "source": [
    "**&#9989; Reflection 4:** Reflect on the challenges you faced when doing this project.\n",
    "- What challenges did you face that you weren't expecting?\n",
    "- What errors did you run into that were challenging to resolve?\n",
    "- Which tasks took longer than you thought they would, or what code did you not know how to write at first and ittook you a while to figure out?\n",
    "- What did you learn from these challenges?\n",
    "- In your reflection, identify at least 2 specific challenges."
   ]
  },
  {
   "cell_type": "markdown",
   "id": "b5c24541-6def-4b09-9671-80c043218580",
   "metadata": {},
   "source": [
    "**/your answer here/**"
   ]
  },
  {
   "cell_type": "markdown",
   "id": "d55d0ef0-2c81-4dd0-b0c4-6dc51f9d51c0",
   "metadata": {},
   "source": [
    "---\n",
    "\n",
    "## **&#128311; Option 2: Performance efficiency of radioactive decay**"
   ]
  },
  {
   "cell_type": "markdown",
   "id": "8642513c-c5b1-42f7-8521-aa6c1632cf46",
   "metadata": {},
   "source": [
    "Radioactive decay of atoms can be simulated using the probability that a single atom will decay during a small time step. By breaking down the entire period of decay into little time steps, we can compute the number of atoms remaining at each time.\n",
    "\n",
    "$$\\mathcal{P}(\\text{atom decays during next }\\Delta t) = -\\lambda \\Delta t$$\n",
    "\n",
    "In this mini-project option, **your goal is to compare the efficiencies of different approaches for simulating the radioactive decay of atoms.**"
   ]
  },
  {
   "cell_type": "markdown",
   "id": "099e939d-567f-406a-b2d8-ca5db1b4e633",
   "metadata": {},
   "source": [
    "More specific instructions are provided further below. You are given the code below to start with, which computes the number of atoms remaining over time and produces a rough plot. You can copy/paste and alter/add to it as needed for your solution.\n",
    "\n",
    "```\n",
    "import matplotlib.pyplot as plt\n",
    "import numpy as np\n",
    "\n",
    "N = 10000\n",
    "lamb = 0.01\n",
    "dt = 0.1\n",
    "\n",
    "print(\"Initial Atoms:\", N)\n",
    "print(\"Decay Constant:\", lamb)\n",
    "print(\"Time Step:\", dt)\n",
    "\n",
    "atoms_counter = [N]\n",
    "\n",
    "while N > 0:\n",
    "    for i in range(N):\n",
    "        if np.random.random() <= lamb:\n",
    "            N -= 1\n",
    "\n",
    "    atoms_counter.append(N)\n",
    "\n",
    "times = np.arange(0, len(atoms_counter) * dt, dt)\n",
    "plt.plot(times, atoms_counter)\n",
    "plt.show()\n",
    "```"
   ]
  },
  {
   "cell_type": "markdown",
   "id": "9118f00f-b365-47d4-9b60-435e16d3b6fb",
   "metadata": {},
   "source": [
    "**&#9989; Main Tasks**  \n",
    "These tasks are meant to guide you in planning and executing a solution. You must address all the tasks to get full credit for this mini-project. Keep in mind that your overall work must be organized to address the goal above as well.\n",
    "\n",
    "**In your solution, you must:**  \n",
    "&#9989; Update the visualization of the number of atoms to include clear labels so that it can be easily interpreted from the plot alone.  \n",
    "&#9989; Code at least three different computational approaches *other than* the given code that achieve an equivalent outcome, but differ in terms of how they pre-allocate/append information, or how they use loops/direct NumPy operations to compute values.  \n",
    "&#9989; Compare the computational approaches using their execution times, and decide which is best.  \n",
    "&#9989; When comparing the timing of different approaches, vary the initial values for $N$ and $\\lambda$ to produce multiple points of comparison to base your decision on.  \n",
    "&#9989; Answer the reflection prompts directly.  "
   ]
  },
  {
   "cell_type": "code",
   "execution_count": null,
   "id": "199cdd5d-107d-4459-b46c-4d073d3bccb7",
   "metadata": {},
   "outputs": [],
   "source": [
    "# insert all your work here -- add cells for coding and narrative text as needed"
   ]
  },
  {
   "cell_type": "markdown",
   "id": "348d1d22-fd25-4202-9be5-0bf83fb81c21",
   "metadata": {},
   "source": [
    "#### **&#9989; Reflection Prompts**\n",
    "\n",
    "Read through these prompts to get a sense for how long it might take you to complete this reflection. When you are done with your solution, reflect on your answers and write them down here."
   ]
  },
  {
   "cell_type": "markdown",
   "id": "1552a268-0e3d-4b9c-882f-3bfafa0a4e2f",
   "metadata": {},
   "source": [
    "**&#9989; Reflection 1:** Reflect on the computational methods and approaches you used. \n",
    "- How did you you decide which coding tools to use in your solution?\n",
    "- What steps did you take to create working and efficient code? What did you do to make your code and visualizations readable to others?"
   ]
  },
  {
   "cell_type": "markdown",
   "id": "4100029b-bbb1-4307-80b4-a56f19de8672",
   "metadata": {},
   "source": [
    "**/your answer here/**"
   ]
  },
  {
   "cell_type": "markdown",
   "id": "8e2f47a9-0e04-4357-aa9d-a70e68b3f479",
   "metadata": {},
   "source": [
    "**&#9989; Reflection 2:** Reflect on how you used your physics knowledge. \n",
    "- How you use your knowledge of physics to design or create your solution?\n",
    "- How did you use your knowledge of physics to verify the results you were seeing as you worked and/or completed your mini-project?"
   ]
  },
  {
   "cell_type": "markdown",
   "id": "d4fed551-4797-4fde-ac21-857cf8d8e574",
   "metadata": {},
   "source": [
    "**/your answer here/**"
   ]
  },
  {
   "cell_type": "markdown",
   "id": "8f590e00-bd6f-4e7f-a6e9-d6167a5c275c",
   "metadata": {},
   "source": [
    "**&#9989; Reflection 3:** Reflect on how you used outside resources during this project. \n",
    "- What coding techniques did you look up and figure out how to implement in your project?\n",
    "- What explanations on computing concepts did you look up to get a better understanding of?\n",
    "- What resources did you consult, and how did you use them?\n",
    "- Where in your project did you use Gen-AI (if at all), and how did you ensure your solution reflected your own interpretation of the Gen-AI outputs?"
   ]
  },
  {
   "cell_type": "markdown",
   "id": "7032bd26-abba-4f67-b83e-dbcdbf575319",
   "metadata": {},
   "source": [
    "**/your answer here/**"
   ]
  },
  {
   "cell_type": "markdown",
   "id": "32db1805-4c6d-4ea2-9278-966d90af9f58",
   "metadata": {},
   "source": [
    "**&#9989; Reflection 4:** Reflect on the challenges you faced when doing this project.\n",
    "- What challenges did you face that you weren't expecting?\n",
    "- What errors did you run into that were challenging to resolve?\n",
    "- Which tasks took longer than you thought they would, or what code did you not know how to write at first and ittook you a while to figure out?\n",
    "- What did you learn from these challenges?\n",
    "- In your reflection, identify at least 2 specific challenges."
   ]
  },
  {
   "cell_type": "markdown",
   "id": "52490b96-b348-4aae-8d22-5fce4fbb6b87",
   "metadata": {},
   "source": [
    "**/your answer here/**"
   ]
  },
  {
   "cell_type": "markdown",
   "id": "99e79ab2-a18c-4e84-bbea-d519c518e4c4",
   "metadata": {},
   "source": [
    "---\n",
    "\n",
    "## **&#128311; Option 3: Debugging bisection search code**"
   ]
  },
  {
   "cell_type": "markdown",
   "id": "24fdee91-1473-410a-9cf9-ce12b5ec4311",
   "metadata": {},
   "source": [
    "An advantage of computational methods is that they allow us to solve problems that are impossible (or obnoxious) to do on pencil and paper. One example is being able to find the intersection of any two functions. \n",
    "\n",
    "The program below **is supposed to** compute and plot the intersection between two functions $y_1(x) = \\frac{1}{2}x$ and $y_2(x) = \\cos(x)$. The code is incomplete and buggy, meaning it has several issues, errors, and missing pieces that prevent it from running properly. \n",
    "\n",
    "In this mini-project option, **your goal is to fix the buggy code and implement another program to find the bisection of the two oscillators given below.**\n",
    "\n",
    "$$y_3(x) = 10 \\cos(x) - 2x + 16$$\n",
    "$$y_4(x) = 12 \\cos(x) - 4x$$"
   ]
  },
  {
   "cell_type": "markdown",
   "id": "83304622-2a84-420e-86ce-550342705474",
   "metadata": {},
   "source": [
    "More specific instructions are provided further below. You are given the code below to start with, which represents an initial attempt to perform the bisection search algorithm on $y_1(x)$ and $y_2(x)$ and plot the results.\n",
    "\n",
    "```\n",
    "epsilon = 0.001\n",
    "\n",
    "lower = 0\n",
    "upper = np.pi\n",
    "x_vals = np.linspace(lower, upper, 250)\n",
    "\n",
    "while abs(upper - lower) > epsilon:\n",
    "    x = (upper + lower) / 2\n",
    "\n",
    "    y1 = 0.5 * x\n",
    "    y2 = np.cos(x)\n",
    "\n",
    "    if (y2 - y1) < 0:\n",
    "        lower = x\n",
    "    else:\n",
    "        upper = x\n",
    "\n",
    "x_final = (lower + upper) / 2\n",
    "y_final = (y1 + y2) / 2\n",
    "\n",
    "plt.plot(x_vals, y1_vals, y2_vals)\n",
    "plt.plot(x_final, y_final, color=\"green\", marker=\"x\", markersize=10, label=\"intersection point\")\n",
    "plt.xlabel = \"x\"\n",
    "plt.ylabel = \"y values\"\n",
    "plt.title(\"bisection found at x =\", x_final)\n",
    "plt.legend\n",
    "plt.grid\n",
    "plt.show\n",
    "```"
   ]
  },
  {
   "cell_type": "markdown",
   "id": "9cab8e46-0b86-4acb-9c69-5a69c149abdd",
   "metadata": {},
   "source": [
    "**&#9989; Main Tasks**  \n",
    "These tasks are meant to guide you in planning and executing a solution. You must address all the tasks to get full credit for this mini-project. Keep in mind that your overall work must be organized to address the goal above as well.\n",
    "\n",
    "**In your solution, you must:**  \n",
    "&#9989; Fix the code to properly conduct the original search and produce a clearly labeled visualization that demonstrates the resulting intersection.  \n",
    "&#9989; Add comments throughout your code to explain how the fixed algorithm code works.  \n",
    "&#9989; Use your algorithm to compute and visualize the intersection of the two given oscillating functions.  \n",
    "&#9989; Answer the reflection prompts directly.  "
   ]
  },
  {
   "cell_type": "code",
   "execution_count": null,
   "id": "4f6396e8-0aab-40ad-b010-293814a7a695",
   "metadata": {},
   "outputs": [],
   "source": [
    "# insert all your work here -- add cells for coding and narrative text as needed"
   ]
  },
  {
   "cell_type": "markdown",
   "id": "54c880fa-86b6-4598-a044-3621323f2a34",
   "metadata": {},
   "source": [
    "#### **&#9989; Reflection Prompts**\n",
    "\n",
    "Read through these prompts to get a sense for how long it might take you to complete this reflection. When you are done with your solution, reflect on your answers and write them down here."
   ]
  },
  {
   "cell_type": "markdown",
   "id": "0843a325-5381-4be9-9e78-3c311448d1d9",
   "metadata": {},
   "source": [
    "**&#9989; Reflection 1:** Reflect on the computational methods and approaches you used. \n",
    "- How did you you decide which coding tools to use in your solution?\n",
    "- What steps did you take to create working and efficient code? What did you do to make your code and visualizations readable to others?"
   ]
  },
  {
   "cell_type": "markdown",
   "id": "17cd2cf2-6d79-40a4-9ba1-44183ae6c136",
   "metadata": {},
   "source": [
    "**/your answer here/**"
   ]
  },
  {
   "cell_type": "markdown",
   "id": "d8b6ac66-ac2e-4f1d-b813-e0d4d5a40ecc",
   "metadata": {},
   "source": [
    "**&#9989; Reflection 2:** Reflect on how you used your physics knowledge. \n",
    "- How you use your knowledge of physics to design or create your solution?\n",
    "- How did you use your knowledge of physics to verify the results you were seeing as you worked and/or completed your mini-project?"
   ]
  },
  {
   "cell_type": "markdown",
   "id": "b84ede49-8aa6-4b4b-8129-073426540bd9",
   "metadata": {},
   "source": [
    "**/your answer here/**"
   ]
  },
  {
   "cell_type": "markdown",
   "id": "3a6cc919-73ae-4b6a-a7f7-6e73cc472301",
   "metadata": {},
   "source": [
    "**&#9989; Reflection 3:** Reflect on how you used outside resources during this project. \n",
    "- What coding techniques did you look up and figure out how to implement in your project?\n",
    "- What explanations on computing concepts did you look up to get a better understanding of?\n",
    "- What resources did you consult, and how did you use them?\n",
    "- Where in your project did you use Gen-AI (if at all), and how did you ensure your solution reflected your own interpretation of the Gen-AI outputs?"
   ]
  },
  {
   "cell_type": "markdown",
   "id": "a8c0a49a-0ad9-40fd-b6e6-b930730e65d2",
   "metadata": {},
   "source": [
    "**/your answer here/**"
   ]
  },
  {
   "cell_type": "markdown",
   "id": "c52822a8-dbaa-4d9c-bb26-5c5a6c750571",
   "metadata": {},
   "source": [
    "**&#9989; Reflection 4:** Reflect on the challenges you faced when doing this project.\n",
    "- What challenges did you face that you weren't expecting?\n",
    "- What errors did you run into that were challenging to resolve?\n",
    "- Which tasks took longer than you thought they would, or what code did you not know how to write at first and ittook you a while to figure out?\n",
    "- What did you learn from these challenges?\n",
    "- In your reflection, identify at least 2 specific challenges."
   ]
  },
  {
   "cell_type": "markdown",
   "id": "603efff8-d7a6-466d-8ea7-dbf9906a540a",
   "metadata": {},
   "source": [
    "**/your answer here/**"
   ]
  }
 ],
 "metadata": {
  "kernelspec": {
   "display_name": "Python 3 (ipykernel)",
   "language": "python",
   "name": "python3"
  },
  "language_info": {
   "codemirror_mode": {
    "name": "ipython",
    "version": 3
   },
   "file_extension": ".py",
   "mimetype": "text/x-python",
   "name": "python",
   "nbconvert_exporter": "python",
   "pygments_lexer": "ipython3",
   "version": "3.12.4"
  }
 },
 "nbformat": 4,
 "nbformat_minor": 5
}
