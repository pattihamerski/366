{
 "cells": [
  {
   "cell_type": "markdown",
   "id": "7f586e60-64df-4c5c-82ac-0ed3e583dde6",
   "metadata": {},
   "source": [
    "# Day 8: NumPy Arrays and Efficiency"
   ]
  },
  {
   "cell_type": "markdown",
   "id": "e9b13731-0937-4a11-81f1-be8b64c19d07",
   "metadata": {
    "tags": []
   },
   "source": [
    "### &#9989; Write your name here"
   ]
  },
  {
   "cell_type": "markdown",
   "id": "eec62414-9300-4df4-961f-06bc9b3cc2dc",
   "metadata": {},
   "source": [
    "Last class, we started to use libraries, including NumPy, which is a collection of numerical functions that center around creating and manipulating NumPy arrays, or just arrays for short. Arrays are like lists in their structure, but they offer the advantage of using the many numerical functionalities in the NumPy library.\n",
    "\n",
    "For example, we can apply arithmetic operations to entire NumPy arrays at once. This enables us to avoid using *some* (not all) loops, specifically when the loop operation could be applied in parallel (using NumPy) rather than sequentially (like in a loop). The pseudocode below shows the comparison. \n",
    "\n",
    "```\n",
    "L = {a list}\n",
    "A = {an array}\n",
    "operate = {a numerical function}\n",
    "\n",
    "M = []\n",
    "for i in range(len(L)):\n",
    "    M.append(operate(L[i]))\n",
    "\n",
    "B = operate(A)\n",
    "```\n",
    "\n",
    "The example function `operate` could be as simply as multiplying by 2, or more complex like converting values from mass to period using some physics formula. The new list and array, `M` and `B`, represent the resulting values that `operate` outputted. The code for the array manipulation was much more simple than for the list, which required a loop.\n",
    "\n",
    "In this assignment, you will explore not only the differences in **syntax and structure**, but also the **computational efficiency** of using NumPy."
   ]
  },
  {
   "cell_type": "markdown",
   "id": "45257bd0-7c0a-4c43-b35e-b22cde0e9b7a",
   "metadata": {},
   "source": [
    "---\n",
    "\n",
    "### Part 1: Creating NumPy arrays\n",
    "\n",
    "The exercises in this part are designed to give you practice creating NumPy arrays. Functions like `arange` and `linspace` can be used to create arrays of equally spaced numbers (like advanced versions of `range`). You can also create arrays without any space or information (like the empty list `[]`), and arrays pre-allocated with lots of space (like a list of 50 zeros: `50 * [0]`)."
   ]
  },
  {
   "cell_type": "markdown",
   "id": "146ce58a-6c37-47d1-a537-92b34ee47771",
   "metadata": {},
   "source": [
    "**&#9989; Task 1.1:** `arange` is used to create an array with a **specified step-size** between each number. Create an array with a step-size of 0.01 between elements, and print it out (you can choose the start/end points)."
   ]
  },
  {
   "cell_type": "code",
   "execution_count": null,
   "id": "25bf7642-7ebb-4c42-8a90-b95215b5d5e3",
   "metadata": {},
   "outputs": [],
   "source": [
    "# your answer here"
   ]
  },
  {
   "cell_type": "markdown",
   "id": "5e6c8c61-38fd-44ba-89f5-36eec5d4bed8",
   "metadata": {},
   "source": [
    "**&#9989; Task 1.2:** `linspace` is used to create an array with a **specified number** of equally spaced elements. Create an array with 100 equally spaced elements, using the same start/end point you chose above, and print it out."
   ]
  },
  {
   "cell_type": "code",
   "execution_count": null,
   "id": "b06a1c61-08cb-4085-b3b9-a6aa05c52559",
   "metadata": {},
   "outputs": [],
   "source": [
    "# your answer here"
   ]
  },
  {
   "cell_type": "markdown",
   "id": "db5e5131-71f0-4eaf-9b3e-f45e4b21b01f",
   "metadata": {},
   "source": [
    "**&#9989; Task 1.3:** `array([])` can be used to create an \"empty\" array, analogous Python's empty list (`[]`). You can also use a NumPy version of `append`, called `np.append` (*the `np` prefix is only included here to distinguish between `append`*). Using these NumPy functions, create an empty array and append an element to it. Print out the resulting array.\n",
    "\n",
    "*Hint: `np.append` uses different syntax than `append`. If you are getting errors, look up how the functions work to see the difference.*"
   ]
  },
  {
   "cell_type": "code",
   "execution_count": null,
   "id": "68cbf0b2-65a6-475e-aacd-f82344101ea8",
   "metadata": {},
   "outputs": [],
   "source": [
    "# your answer here"
   ]
  },
  {
   "cell_type": "markdown",
   "id": "09f6471f-39b2-4ec9-ad7c-08e9bedcd3fe",
   "metadata": {},
   "source": [
    "Another way to initialize a NumPy array is to *pre-allocate* (as opposed to starting with a completely empty array without any elements). Pre-allocating can be done using `zeros` and `zeros_like`. Look them up to see how they work and what syntax is required to use them.\n",
    "\n",
    "**&#9989; Task 1.4:** Create an array with 50 zeros, and print it out."
   ]
  },
  {
   "cell_type": "code",
   "execution_count": null,
   "id": "c1aa6169-80f6-4b77-b001-5948d7b1aaab",
   "metadata": {},
   "outputs": [],
   "source": [
    "# your answer here"
   ]
  },
  {
   "cell_type": "markdown",
   "id": "3e2de4f5-70cc-42ee-b8fe-3bc7020b9f31",
   "metadata": {},
   "source": [
    "**&#9989; Task 1.5:** Create an array of zeros with the same structure as the provided array `array15`, and print it out."
   ]
  },
  {
   "cell_type": "code",
   "execution_count": 5,
   "id": "0af6ad1b-ebfc-40fa-94f1-7ef823ac60fe",
   "metadata": {},
   "outputs": [],
   "source": [
    "array15 = np.array([[1, 2, 3, 4, 5], [6, 7, 8, 9, 10], [11, 12, 13, 14, 15]])"
   ]
  },
  {
   "cell_type": "code",
   "execution_count": null,
   "id": "f71d34a0-68a8-4827-9121-0c341d8dcf22",
   "metadata": {},
   "outputs": [],
   "source": [
    "# your answer here"
   ]
  },
  {
   "cell_type": "markdown",
   "id": "1c1962da-7a40-4497-b40c-a99082639417",
   "metadata": {},
   "source": [
    "---\n",
    "\n",
    "### Part 2: Testing efficiency using `time`\n",
    "\n",
    "We can another library, `time`, to help demonstrate the time-efficiency of different chunks of code. After importing `time`, we can use the `time.time` function to grab the exact time from the computer's processor. By using this function multiple times, we can compute how long the computer took to run different chunks of code. See below for some examples, which are explained in the comments and the printed output."
   ]
  },
  {
   "cell_type": "code",
   "execution_count": 19,
   "id": "6ae28e68-1164-4138-b44d-c3d608d3d8c0",
   "metadata": {},
   "outputs": [
    {
     "name": "stdout",
     "output_type": "stream",
     "text": [
      "time to do no computations: 5.888938903808594e-05\n",
      "time to loop and append 1 time: 0.00017404556274414062\n",
      "time to loop and append 10,000 times: 0.0015931129455566406\n",
      "looping and appending 10,000 times took 9.153424657534247 times longer\n"
     ]
    }
   ],
   "source": [
    "import time\n",
    "\n",
    "# we can use time.time() to grab the computer's time when that line of code runs\n",
    "\n",
    "t0 = time.time()\n",
    "# no computations here\n",
    "t1 = time.time()\n",
    "\n",
    "# we can print the difference to see how long it took to run the code in between\n",
    "print(\"time to do no computations:\", t1 - t0)\n",
    "\n",
    "# timing a small loop\n",
    "# we don't include list initialization in the timing\n",
    "test_list0 = []\n",
    "\n",
    "t2 = time.time()\n",
    "for i in range(1):\n",
    "    test_list0.append(i)\n",
    "t3 = time.time()\n",
    "\n",
    "print(\"time to loop and append 1 time:\", t3 - t2)\n",
    "\n",
    "# timing a longer loop\n",
    "test_list1 = []\n",
    "\n",
    "t4 = time.time()\n",
    "for i in range(10000):\n",
    "    test_list1.append(i)\n",
    "t5 = time.time()\n",
    "\n",
    "print(\"time to loop and append 10,000 times:\", t5 - t4)\n",
    "\n",
    "# we can compare timings directly by computing a ratio\n",
    "ratio = (t5 - t4) / (t3 - t2)\n",
    "print(\"looping and appending 10,000 times took\", ratio, \"times longer\")"
   ]
  },
  {
   "cell_type": "markdown",
   "id": "0eb3f011-2af2-4290-8eec-e131e6c2b84d",
   "metadata": {},
   "source": [
    "**&#9989; Task 2.1:** Write your own explanation of computing time efficiency by answering these questions:\n",
    "- What is the point of using the `time.time` function multiple times in one chunk of code?\n",
    "- How the placement of the `time.time` function calls affect the result of computing time-efficiency?\n",
    "- How could `time.time` be used to compare two different equivalent computations, one using lists, and the other using NumPy arrays?"
   ]
  },
  {
   "cell_type": "markdown",
   "id": "855837a5-dc1e-4025-b3f2-7c8bd93973d2",
   "metadata": {},
   "source": [
    "**/your answer here/**"
   ]
  },
  {
   "cell_type": "markdown",
   "id": "d202571c-2361-472c-b6dc-5f06d51a5d18",
   "metadata": {},
   "source": [
    "**&#9989; Task 2.2:** The code below is a solution to Day 5, Task 3.1, when you were asked to calculate height values from a kinematic equation. The code **uses a loop** to compute the values one by one, and then **appends them** to a list, before printing them out.\n",
    "\n",
    "Using `time.time`, measure the time it takes for the computer to create the full list of heights from scratch. Do **not** include the time it takes for printing, just the computation itself."
   ]
  },
  {
   "cell_type": "code",
   "execution_count": 21,
   "id": "dfa5c209-d09f-49a6-8366-e033976d094b",
   "metadata": {},
   "outputs": [
    {
     "name": "stdout",
     "output_type": "stream",
     "text": [
      "[2.0, 6.35095, 10.603800000000001, 14.758550000000003, 18.8152, 22.77375, 26.6342, 30.396549999999998, 34.06079999999999, 37.626949999999994, 41.09499999999999, 44.464949999999995, 47.736799999999995, 50.91055, 53.986200000000004, 56.96375000000001, 59.84320000000002, 62.62455, 65.30780000000001, 67.89295000000001, 70.38000000000001, 72.76895000000002, 75.05980000000001, 77.25255000000001, 79.34720000000002, 81.34375000000001, 83.24220000000003, 85.04255, 86.74480000000001, 88.34895000000002, 89.85500000000002, 91.26295000000002, 92.57280000000003, 93.78455000000002, 94.89820000000003, 95.91375000000002, 96.83120000000002, 97.65055000000002, 98.37180000000002, 98.99494999999999, 99.52000000000001, 99.94695, 100.2758, 100.50655000000002, 100.6392, 100.67375, 100.61019999999999, 100.44854999999998, 100.18880000000001, 99.83094999999999]\n"
     ]
    }
   ],
   "source": [
    "# add code to this cell\n",
    "\n",
    "g = 9.81\n",
    "\n",
    "# set initial values and time-step\n",
    "y0 = 2\n",
    "vy0 = 44\n",
    "t = 0\n",
    "delta_t = 0.1\n",
    "\n",
    "y_vals = []\n",
    "\n",
    "# run the loop for 50 time-steps\n",
    "for i in range(50):\n",
    "    # calculate the next value for y using kinematic equation\n",
    "    y = y0 + vy0 * t - 0.5 * g * t ** 2\n",
    "\n",
    "    # append the next y value to the list\n",
    "    y_vals.append(y)\n",
    "\n",
    "    t += delta_t\n",
    "\n",
    "print(y_vals)"
   ]
  },
  {
   "cell_type": "code",
   "execution_count": 47,
   "id": "d6f890c2-3d51-4105-b560-8c486c8a513d",
   "metadata": {},
   "outputs": [],
   "source": [
    "# add code to this cell\n",
    "\n",
    "g = 9.81\n"
   ]
  },
  {
   "cell_type": "code",
   "execution_count": 48,
   "id": "e54810d0-bdb2-4404-881d-d282ddf26c12",
   "metadata": {},
   "outputs": [],
   "source": [
    "\n",
    "\n",
    "# set initial values and time-step\n",
    "y0 = 2\n",
    "vy0 = 44\n",
    "t = 0\n",
    "delta_t = 0.1\n"
   ]
  },
  {
   "cell_type": "code",
   "execution_count": 49,
   "id": "feb894fe-3d1b-4321-9aa8-482669ad4075",
   "metadata": {},
   "outputs": [],
   "source": [
    "\n",
    "\n",
    "y_vals = []\n"
   ]
  },
  {
   "cell_type": "code",
   "execution_count": 50,
   "id": "40ec2e03-ee16-402f-b173-74ad260a12f1",
   "metadata": {},
   "outputs": [],
   "source": [
    "\n",
    "# run the loop for 50 time-steps\n",
    "for i in range(50):\n",
    "    # calculate the next value for y using kinematic equation\n",
    "    y = y0 + vy0 * t - 0.5 * g * t ** 2\n",
    "\n",
    "    # append the next y value to the list\n",
    "    y_vals.append(y)\n",
    "\n",
    "    t += delta_t\n",
    "\n",
    "#print(y_vals)"
   ]
  },
  {
   "cell_type": "code",
   "execution_count": 21,
   "id": "460d2e5f-8b26-4608-9a22-de44fbd41bd7",
   "metadata": {},
   "outputs": [
    {
     "name": "stdout",
     "output_type": "stream",
     "text": [
      "[2.0, 6.35095, 10.603800000000001, 14.758550000000003, 18.8152, 22.77375, 26.6342, 30.396549999999998, 34.06079999999999, 37.626949999999994, 41.09499999999999, 44.464949999999995, 47.736799999999995, 50.91055, 53.986200000000004, 56.96375000000001, 59.84320000000002, 62.62455, 65.30780000000001, 67.89295000000001, 70.38000000000001, 72.76895000000002, 75.05980000000001, 77.25255000000001, 79.34720000000002, 81.34375000000001, 83.24220000000003, 85.04255, 86.74480000000001, 88.34895000000002, 89.85500000000002, 91.26295000000002, 92.57280000000003, 93.78455000000002, 94.89820000000003, 95.91375000000002, 96.83120000000002, 97.65055000000002, 98.37180000000002, 98.99494999999999, 99.52000000000001, 99.94695, 100.2758, 100.50655000000002, 100.6392, 100.67375, 100.61019999999999, 100.44854999999998, 100.18880000000001, 99.83094999999999]\n"
     ]
    }
   ],
   "source": [
    "# add code to this cell\n",
    "\n",
    "g = 9.81\n",
    "\n",
    "# set initial values and time-step\n",
    "y0 = 2\n",
    "vy0 = 44\n",
    "t = 0\n",
    "delta_t = 0.1\n",
    "\n",
    "y_vals = []\n",
    "\n",
    "# run the loop for 50 time-steps\n",
    "for i in range(50):\n",
    "    # calculate the next value for y using kinematic equation\n",
    "    y = y0 + vy0 * t - 0.5 * g * t ** 2\n",
    "\n",
    "    # append the next y value to the list\n",
    "    y_vals.append(y)\n",
    "\n",
    "    t += delta_t\n",
    "\n",
    "print(y_vals)"
   ]
  },
  {
   "cell_type": "code",
   "execution_count": null,
   "id": "4ee1825d-6356-48f9-b33f-f5d6665c8e95",
   "metadata": {},
   "outputs": [],
   "source": []
  },
  {
   "cell_type": "markdown",
   "id": "33252055-1271-49b1-bb65-6cdfd8829286",
   "metadata": {},
   "source": [
    "**&#9989; Task 2.3:** Copy your code and change it to use NumPy arrays and the `np.append` function. Once again, measure the time it takes for the computer to create the full array of heights from scratch."
   ]
  },
  {
   "cell_type": "code",
   "execution_count": null,
   "id": "31bdcab8-d9df-4bb5-b063-986dd761c2c6",
   "metadata": {},
   "outputs": [],
   "source": [
    "# your answer here"
   ]
  },
  {
   "cell_type": "markdown",
   "id": "b022075b-10c6-4382-b388-8f4ed0e29228",
   "metadata": {},
   "source": [
    "**&#9989; Task 2.4:** Copy the code from Task 2.2 again, and change it to use a **pre-allocated** list (a line of code has been added below to help with this). Once again, measure the time it takes for the computer to create the full list of heights from scratch."
   ]
  },
  {
   "cell_type": "code",
   "execution_count": null,
   "id": "cd9310b6-e830-42d6-aa7d-43cc20b3540f",
   "metadata": {},
   "outputs": [],
   "source": [
    "# your answer here\n",
    "\n",
    "y_vals = 50 * [0]"
   ]
  },
  {
   "cell_type": "markdown",
   "id": "88d3a1ba-4bb1-4198-ad33-2c18a59d7bae",
   "metadata": {},
   "source": [
    "**&#9989; Task 2.5:** Copy your code and change it to use a pre-allocated NumPy array instead of a list. Again, measure the time it takes for the computer to create the full array of heights from scratch."
   ]
  },
  {
   "cell_type": "code",
   "execution_count": null,
   "id": "573ee509-f155-441b-bae7-d4cc744378a9",
   "metadata": {},
   "outputs": [],
   "source": [
    "# your answer here"
   ]
  },
  {
   "cell_type": "markdown",
   "id": "ed8d744f-cd3d-496e-a1c7-7833071844c5",
   "metadata": {},
   "source": [
    "**&#9989; Task 2.6:** Finally, re-write the solution **without using loops**, and using NumPy operations instead. Your solution structure could be slightly different this time. One more time, measure the time it takes for the computer to create the full array of heights from scratch."
   ]
  },
  {
   "cell_type": "code",
   "execution_count": 45,
   "id": "4ad39b17-53f2-4bff-bc83-5ae4157af7d7",
   "metadata": {},
   "outputs": [],
   "source": [
    "# your answer here"
   ]
  },
  {
   "cell_type": "markdown",
   "id": "c4c396b3-4c9c-4eb3-994e-41964b8c3826",
   "metadata": {},
   "source": [
    "**&#9989; Task 2.7:** Compare the timings across all different solutions -- what do you notice?"
   ]
  },
  {
   "cell_type": "markdown",
   "id": "c13d3cf5-e62b-4657-acde-5acaf69be8cf",
   "metadata": {},
   "source": [
    "**/your answer here/**"
   ]
  },
  {
   "cell_type": "markdown",
   "id": "ec7f15c3-50bc-4e17-aa26-5dd633d11a25",
   "metadata": {},
   "source": [
    "#### &#128721; **Stop here and check your progress with an instructor.**"
   ]
  },
  {
   "cell_type": "markdown",
   "id": "3d3f0761-5121-4079-8820-2652fad4f46e",
   "metadata": {},
   "source": [
    "---\n",
    "\n",
    "### Part 3: Comparing efficiencies at different scales\n",
    "\n",
    "At larger scales, the differences between approaches stand out much more. In this part, you will explore what that can look like."
   ]
  },
  {
   "cell_type": "markdown",
   "id": "0a52ba22-ba1e-48f2-8377-b3846a8a6a2b",
   "metadata": {},
   "source": [
    "**&#9989; Task 3.1:** Take the same code from Task 2.2, and scale it up to compute 10,000 values of height. Time how long it takes for the computer to compute the heights into a list."
   ]
  },
  {
   "cell_type": "code",
   "execution_count": null,
   "id": "2212c758-bc19-4f2b-b0da-0feb2cfd3672",
   "metadata": {},
   "outputs": [],
   "source": [
    "# your answer here"
   ]
  },
  {
   "cell_type": "markdown",
   "id": "2e98264d-e321-406b-9c97-25f1ae7acc65",
   "metadata": {},
   "source": [
    "**&#9989; Task 3.2:** Repeat the four other solution approaches for 10,000 values of height: using Numpy's version of append, pre-allocating a list, pre-allocating a NumPy array, and directly using NumPy operations without loops. Time all four approaches."
   ]
  },
  {
   "cell_type": "code",
   "execution_count": null,
   "id": "3a6fac92-653c-4d41-a0b9-e5877aacf2d1",
   "metadata": {},
   "outputs": [],
   "source": [
    "# your answer here"
   ]
  },
  {
   "cell_type": "markdown",
   "id": "503d43c3-66f0-4a1c-a12c-8ba890895077",
   "metadata": {},
   "source": [
    "**&#9989; Task 3.3:** Continue testing and timing different scales of computation. Fill out the table below with the times it takes to do each approach at each scale. You can double-click to edit the information in the table."
   ]
  },
  {
   "cell_type": "markdown",
   "id": "c109bef0-c031-4ac6-a578-fc8a31f3bec0",
   "metadata": {},
   "source": [
    "**Fill this table out:**\n",
    "\n",
    "| Solution Approach / Number of Values         | 50 | 10,000 | 500,000 | 10,000,000 |\n",
    "| -------------------------------------------- | -- | ------ | ------- | ---------- |\n",
    "| Appending a list with a loop                 |    |        |         |            |\n",
    "| Appending a array with a loop                |    |        |         |            |\n",
    "| Filling a pre-allocated list with a loop     |    |        |         |            |\n",
    "| Filling a pre-allocated array with a loop    |    |        |         |            |\n",
    "| Using NumPy operations directly with no loop |    |        |         |            |"
   ]
  },
  {
   "cell_type": "markdown",
   "id": "6b10ba95-a0d5-4273-ba2a-cdb20dae0e5f",
   "metadata": {},
   "source": [
    "**&#9989; Task 3.4:** Compare the different approaches along these categories:\n",
    "- Efficiency\n",
    "- Syntax and structure of code\n",
    "- Your conceptualization of how the computer constructs the list/array\n",
    "\n",
    "For the last one, it may be helpful to draw out ideas on a whiteboard with other students."
   ]
  },
  {
   "cell_type": "markdown",
   "id": "428c6b32-83ec-4267-8014-aee3abd8aff8",
   "metadata": {},
   "source": [
    "**/take discussion notes here/**"
   ]
  },
  {
   "cell_type": "markdown",
   "id": "a3ff54e8-aaa2-4430-95fd-90e48394e61d",
   "metadata": {},
   "source": [
    "#### &#128721; **Stop here and check your progress with an instructor.**"
   ]
  }
 ],
 "metadata": {
  "kernelspec": {
   "display_name": "Python 3 (ipykernel)",
   "language": "python",
   "name": "python3"
  },
  "language_info": {
   "codemirror_mode": {
    "name": "ipython",
    "version": 3
   },
   "file_extension": ".py",
   "mimetype": "text/x-python",
   "name": "python",
   "nbconvert_exporter": "python",
   "pygments_lexer": "ipython3",
   "version": "3.12.4"
  }
 },
 "nbformat": 4,
 "nbformat_minor": 5
}
