{
 "cells": [
  {
   "cell_type": "markdown",
   "id": "7f586e60-64df-4c5c-82ac-0ed3e583dde6",
   "metadata": {},
   "source": [
    "# Day 7: Libraries of Code"
   ]
  },
  {
   "cell_type": "markdown",
   "id": "e9b13731-0937-4a11-81f1-be8b64c19d07",
   "metadata": {
    "tags": []
   },
   "source": [
    "### &#9989; Write your name here"
   ]
  },
  {
   "cell_type": "markdown",
   "id": "96089672-3783-4ed4-9a0f-3dd2cc8b3648",
   "metadata": {},
   "source": [
    "So far, we have used the CPU and RAM to run all of our code for us in this class. The **CPU** is like **executive function**, and the **RAM** is like **working memory**. \n",
    "\n",
    "But there is a third part of our computer system that becomes very useful when the working memory is not enough for everything we need. That part is the **storage**, which is like our computer's **long-term memory**. This is where all local files are stored, including the file you are working on right now!\n",
    "\n",
    "One useful aspect of storage for us is the ability to store libraries of code. These libraries have many useful functions for creating physical models, creating visualization, running numerical methods, and much more. When you installed anaconda or python on your computer, you probably also installed many of these libraries, which are sitting in your computer's storage."
   ]
  },
  {
   "cell_type": "markdown",
   "id": "60561d46-8225-4ba0-a980-1228c72283de",
   "metadata": {},
   "source": [
    "<img src=\"https://raw.githubusercontent.com/pattihamerski/PH-365/refs/heads/main/Day-07/computer-triangle.png?token=GHSAT0AAAAAACW7Q2AGGF75TFJLBDJNUNZ2ZYQGPAQ\" \n",
    "     alt=\"CPU is like executive function, RAM is like working memory, and storage is like long-term memory\"  \n",
    "     width=\"600\"/>"
   ]
  },
  {
   "cell_type": "markdown",
   "id": "d1c0c6b3-40be-4c43-9765-e47845490a27",
   "metadata": {},
   "source": [
    "The libraries can be loaded into your RAM for more immediate access, using an `import` statement. Importing brings a library (for example, NumPy) into your RAM, and it creates a variable in your CPU that you can use to access the contents of the library. See below for an example."
   ]
  },
  {
   "cell_type": "code",
   "execution_count": 1,
   "id": "e9d276a2-4308-402b-acf2-a697e9f60f3e",
   "metadata": {},
   "outputs": [
    {
     "name": "stdout",
     "output_type": "stream",
     "text": [
      "3.141592653589793\n"
     ]
    }
   ],
   "source": [
    "# this imports NumPy into RAM, and creates the variable np for the CPU\n",
    "import numpy as np\n",
    "\n",
    "# the variable np can then be used to access anything in the NumPy library, such as pi\n",
    "print(np.pi)"
   ]
  },
  {
   "cell_type": "markdown",
   "id": "1c1962da-7a40-4497-b40c-a99082639417",
   "metadata": {},
   "source": [
    "---\n",
    "\n",
    "### Part 1: Navigating your directories\n",
    "\n",
    "In order to import a library, the library must be stored on your computer in a directory (a folder) that your CPU can access through Python code. By default, these directories/folders are the ones where your libraries are already stored, plus the folder where this .ipynb file is currently located.\n",
    "\n",
    "You can view your own directory structure on your computer.\n",
    "\n",
    "If you are on a Mac:\n",
    "1. Open a Finder window\n",
    "2. Click **View** --> **Show Path Bar**\n",
    "3. Click into column view (within icons at the top of your Finder window)\n",
    "4. Now you can navigate through your directories and track where you are located in the system\n",
    "\n",
    "If you are on a Windows:\n",
    "1. Open **Command Prompt** or **cmd** from start menu\n",
    "2. Type `tree` to see all directories (without files)\n",
    "3. Or type `tree /f` to see all directories *and* files"
   ]
  },
  {
   "cell_type": "markdown",
   "id": "0eb3f011-2af2-4290-8eec-e131e6c2b84d",
   "metadata": {},
   "source": [
    "**&#9989; Task 1.1:** Rename your assignment at the top of this window, using your name in place of \"STUDENT.\" Then, look through the directories/folders on your own computer, and find this assignment. Below, **write out the file path,** separating each subsequent directory with a slash `/`. Your file path should start with `/` or `C:/`, depending on your operating system (Mac or Windows)"
   ]
  },
  {
   "cell_type": "markdown",
   "id": "855837a5-dc1e-4025-b3f2-7c8bd93973d2",
   "metadata": {},
   "source": [
    "**/your answer here/**"
   ]
  },
  {
   "cell_type": "markdown",
   "id": "cc63f933-9075-4513-b37a-cc2113066947",
   "metadata": {},
   "source": [
    "---\n",
    "\n",
    "### Part 2: Using libraries\n",
    "\n",
    "Today, you will make your own library. You will copy the code below **into your library** (not into this notebook), and then import your library to access it.\n",
    "\n",
    "```\n",
    "def whats_my_name(name):\n",
    "    print(\"Greetings \" + name + \", esteemed majesty.\")\n",
    "\n",
    "monsters = [\"vampire\", \"werewolf\", \"zombie\", \"mummy\", \"ghost\", \"witch\",\n",
    "            \"frankenstein\", \"ghoul\", \"goblin\", \"troll\", \"alien\"]\n",
    "```\n"
   ]
  },
  {
   "cell_type": "markdown",
   "id": "324ab9e9-5815-4200-927a-5ea58dd75dca",
   "metadata": {},
   "source": [
    "**&#9989; Task 2.1:** Create an empty `.py` file in the same directory as this assignment.\n",
    "- It must be in the same directory because that is one of the places where your CPU can get libraries from.\n",
    "- To make a `.py` file, you can click **File** --> **New** --> **Python File** within this jupyter notebook window.\n",
    "- Alternatively, you can create a new text file on your computer (using something like TextEdit), and name it using `.py` at the end."
   ]
  },
  {
   "cell_type": "markdown",
   "id": "97d39926-2a78-4945-a32a-b89d2f7f22e6",
   "metadata": {},
   "source": [
    "**&#9989; Task 2.2:** Paste the code above into your new `.py` file. Also, add some variables of your own making. Save your `.py` file."
   ]
  },
  {
   "cell_type": "markdown",
   "id": "761c4bf8-8ed8-4534-bdf7-e9827e0f2bd8",
   "metadata": {},
   "source": [
    "**&#9989; Task 2.3:** Import your `.py` file as a library below. This can be done by running the code `import {library_name}`, where your `.py` file is named `{library_name}.py`."
   ]
  },
  {
   "cell_type": "code",
   "execution_count": 3,
   "id": "25286299-e50e-4da9-bc79-6a1ff89e3e62",
   "metadata": {},
   "outputs": [],
   "source": [
    "# your answer here"
   ]
  },
  {
   "cell_type": "markdown",
   "id": "84dfd4a5-2c76-42f9-bfed-1233854fdcae",
   "metadata": {},
   "source": [
    "**&#9989; Task 2.4:** Use the contents of your imported library. You can access each variable or function using syntax like `{library_name}.whats_my_name`, or `{library_name}.monsters`. In your code below, use *everything* from your library to demonstrate all its contents."
   ]
  },
  {
   "cell_type": "code",
   "execution_count": 5,
   "id": "e6ef92be-7ba2-4506-829b-822d875735a4",
   "metadata": {},
   "outputs": [],
   "source": [
    "# your answer here"
   ]
  },
  {
   "cell_type": "markdown",
   "id": "b80b0cba-94e1-42c7-be37-0c6f6f5a279d",
   "metadata": {},
   "source": [
    "#### &#128721; **Stop here and check your progress with an instructor.**"
   ]
  },
  {
   "cell_type": "markdown",
   "id": "30093bd2-f3f7-48e3-a547-9cf76e1ea8d4",
   "metadata": {},
   "source": [
    "**&#9989; Task 2.5:** Redo Tasks 2.3 and 2.4 using `import {library_name} as {abbrev}`. This enables you to use an abbreviation of your choosing when accessing library contents, like `{abbrev}.whats_my_name`."
   ]
  },
  {
   "cell_type": "code",
   "execution_count": 7,
   "id": "536dcedb-239c-44d8-9adc-3bc89bf7066e",
   "metadata": {},
   "outputs": [],
   "source": [
    "# your answer here"
   ]
  },
  {
   "cell_type": "markdown",
   "id": "287f9e8e-9409-49a1-9afb-5ac79bf08abc",
   "metadata": {
    "tags": []
   },
   "source": [
    "---\n",
    "\n",
    "### Part 3: Using the NumPy library\n",
    "\n",
    "NumPy is a set of Python variables and functions that can be used for various numerical methods. This library can streamline some of the calculations we've already done in class, and it can also go much further and enable you to easily do complex calculations that you would never want to do on paper."
   ]
  },
  {
   "cell_type": "markdown",
   "id": "a7133ab6-027d-4ee0-a088-507b610c5312",
   "metadata": {},
   "source": [
    "**&#9989; Task 3.1:** Import NumPy (`numpy`) using the abbreviation `np`."
   ]
  },
  {
   "cell_type": "code",
   "execution_count": 9,
   "id": "b7357ef2-416c-4244-850e-78c7d2e145d5",
   "metadata": {},
   "outputs": [],
   "source": [
    "# your answer here"
   ]
  },
  {
   "cell_type": "markdown",
   "id": "a65e042a-1b6b-4455-8247-23759a3d1c54",
   "metadata": {},
   "source": [
    "NumPy offers a new type of object called a NumPy array (we will just call this an \"array\"). Arrays are like lists, but they can manipulated using the many operations built into the NumPy library. Below, see how the computer categorizes a list and an array differently."
   ]
  },
  {
   "cell_type": "code",
   "execution_count": 11,
   "id": "6d7070df-9ddc-444b-96d2-aaad743a74de",
   "metadata": {},
   "outputs": [
    {
     "name": "stdout",
     "output_type": "stream",
     "text": [
      "<class 'list'>\n",
      "<class 'numpy.ndarray'>\n"
     ]
    }
   ],
   "source": [
    "list0 = [0, 0, 0, 0, 0]\n",
    "array0 = np.array([0, 0, 0, 0, 0])\n",
    "\n",
    "print(type(list0))\n",
    "print(type(array0))"
   ]
  },
  {
   "cell_type": "markdown",
   "id": "671b00eb-abfd-4142-9e03-ab99c12fed62",
   "metadata": {},
   "source": [
    "One reason we use NumPy arrays is because they can handle finer grain sequences of numbers, whereas the `range` function can only produce sequences of integers. When we work to model physics phenomena, it's important to be able to have the precision that NumPy offers. See below for examples."
   ]
  },
  {
   "cell_type": "code",
   "execution_count": 12,
   "id": "0f2dd77c-0d72-4818-9c67-39999f7758ca",
   "metadata": {},
   "outputs": [
    {
     "ename": "TypeError",
     "evalue": "'float' object cannot be interpreted as an integer",
     "output_type": "error",
     "traceback": [
      "\u001b[0;31m---------------------------------------------------------------------------\u001b[0m",
      "\u001b[0;31mTypeError\u001b[0m                                 Traceback (most recent call last)",
      "Cell \u001b[0;32mIn[12], line 5\u001b[0m\n\u001b[1;32m      1\u001b[0m \u001b[38;5;66;03m# range has it's limitations when it comes to decimal numbers\u001b[39;00m\n\u001b[1;32m      2\u001b[0m \u001b[38;5;66;03m# run this code to see what happens when we try to use decimals\u001b[39;00m\n\u001b[1;32m      4\u001b[0m int_range \u001b[38;5;241m=\u001b[39m \u001b[38;5;28mrange\u001b[39m(\u001b[38;5;241m-\u001b[39m\u001b[38;5;241m6\u001b[39m, \u001b[38;5;241m18\u001b[39m, \u001b[38;5;241m3\u001b[39m)\n\u001b[0;32m----> 5\u001b[0m dec_range \u001b[38;5;241m=\u001b[39m \u001b[38;5;28mrange\u001b[39m(\u001b[38;5;241m0.5\u001b[39m, \u001b[38;5;241m6.5\u001b[39m, \u001b[38;5;241m0.5\u001b[39m)\n",
      "\u001b[0;31mTypeError\u001b[0m: 'float' object cannot be interpreted as an integer"
     ]
    }
   ],
   "source": [
    "# range has it's limitations when it comes to decimal numbers\n",
    "# run this code to see what happens when we try to use decimals\n",
    "\n",
    "int_range = range(-6, 18, 3)\n",
    "dec_range = range(0.5, 6.5, 0.5)"
   ]
  },
  {
   "cell_type": "code",
   "execution_count": null,
   "id": "2eb12a7d-dce6-4ead-8635-b95f931a0c95",
   "metadata": {},
   "outputs": [],
   "source": [
    "# with NumPy's arange function, we can bypass this issue\n",
    "\n",
    "int_arange = np.arange(-6, 18, 3)\n",
    "dec_arange = np.arange(0.5, 6.5, 0.5)\n",
    "\n",
    "print(int_arange)\n",
    "print(dec_arange)"
   ]
  },
  {
   "cell_type": "markdown",
   "id": "20478bc4-5c10-4ac7-b861-efc29ad0fec2",
   "metadata": {},
   "source": [
    "In addition to being able to create precise sequences of numbers, we can perform numerical operations much more easily with NumPy, without needing loops to do simple math. For example, you can compare the solutions coded below for adding numbers between two lists or arrays."
   ]
  },
  {
   "cell_type": "code",
   "execution_count": null,
   "id": "8dd2f98b-c286-4e98-8f08-b8194113b5a1",
   "metadata": {},
   "outputs": [],
   "source": [
    "# this code chunk adds together the lists a and b, element-wise\n",
    "\n",
    "# with regular lists, a loop is needed\n",
    "a = [1, 3, 7, 15, 31, 63, 127, 255]\n",
    "b = [7, 6, 5, 4, 3, 2, 1, 0]\n",
    "c = []\n",
    "for i in range(len(a)):\n",
    "    c.append(a[i] + b[i])\n",
    "\n",
    "print(\"a + b with lists:\", c)\n",
    "\n",
    "# if we convert the lists to arrays, we can do \"vectorized\" math without a loop\n",
    "a_num = np.array(a)\n",
    "b_num = np.array(b)\n",
    "c_num = a_num + b_num\n",
    "\n",
    "print(\"a + b with arrays:\", c_num)"
   ]
  },
  {
   "cell_type": "markdown",
   "id": "b3caa85e-5d60-42b4-9020-3a69cf26bc10",
   "metadata": {},
   "source": [
    "In the tasks below, use the numpy lists here that have been created for you:"
   ]
  },
  {
   "cell_type": "code",
   "execution_count": 18,
   "id": "a23b498c-a0a3-4908-8084-5389f70333c4",
   "metadata": {},
   "outputs": [],
   "source": [
    "# NumPy arrays can come from many different places, here are just a few examples\n",
    "\n",
    "# they can be created manually\n",
    "array_a = np.array([1, 3, 7, 15, 31, 63, 127, 255, 511, 1023])\n",
    "\n",
    "# they can be created using arange (like range, you can specify step-size)\n",
    "array_b = np.arange(0.1, 1.0, 0.09)\n",
    "\n",
    "# they can be created using linspace (you can specify number of steps)\n",
    "array_c = np.linspace(0.1, 5.5, 10)"
   ]
  },
  {
   "cell_type": "markdown",
   "id": "a4f70bf6-43c1-4d83-b9dd-d989122c5a99",
   "metadata": {},
   "source": [
    "**&#9989; Task 3.2:** Pick two arrays and subtract one from another. Print the resulting array."
   ]
  },
  {
   "cell_type": "code",
   "execution_count": null,
   "id": "bb0adf75-e707-4d2d-80d4-8efd6a4ab229",
   "metadata": {},
   "outputs": [],
   "source": [
    "# your answer here"
   ]
  },
  {
   "cell_type": "markdown",
   "id": "5a28830d-68e9-4a5a-8ddb-02844b38c7a9",
   "metadata": {},
   "source": [
    "**&#9989; Task 3.3:** Pick two arrays and divide or multiply them together. Print the resulting array."
   ]
  },
  {
   "cell_type": "code",
   "execution_count": null,
   "id": "933c9238-a42f-49e3-95b9-b478876b1d89",
   "metadata": {},
   "outputs": [],
   "source": [
    "# your answer here"
   ]
  },
  {
   "cell_type": "markdown",
   "id": "63da48bc-9e5b-4f94-9513-af82fb6ea76c",
   "metadata": {},
   "source": [
    "**&#9989; Task 3.4:** Pick an array raise it by an exponent. Print the resulting array."
   ]
  },
  {
   "cell_type": "code",
   "execution_count": null,
   "id": "64776b30-3a72-4e6f-9ca8-d2d62a54d22f",
   "metadata": {},
   "outputs": [],
   "source": [
    "# your answer here"
   ]
  },
  {
   "cell_type": "markdown",
   "id": "e5ebf350-ee9e-4680-99f5-54627832ebb5",
   "metadata": {},
   "source": [
    "**&#9989; Task 3.5:** Starting with the lists and conversion rates below, print an array of densities (in units kg/m$^3$). **Do not** use loops."
   ]
  },
  {
   "cell_type": "code",
   "execution_count": null,
   "id": "2387f92a-d76c-41e7-8289-0ed068c4a0ac",
   "metadata": {},
   "outputs": [],
   "source": [
    "# add your code to this cell\n",
    "\n",
    "masses_g = [656, 705, 866, 881, 923, 928, 958, 990, 1047, 1070, 1200]\n",
    "volumes_gal = [5.3, 5.1, 4.9, 6.0, 4.9, 5.7, 5.5, 5.0, 4.7, 5.8, 7.6]\n",
    "\n",
    "g_to_kg = 0.001            # conversion rate from g to kg\n",
    "gal_to_m3 = 0.00378541     # conversion rate from gallons to m^3\n",
    "\n",
    "\n"
   ]
  },
  {
   "cell_type": "markdown",
   "id": "113009bf-350f-4fb6-9c42-59e2bf721376",
   "metadata": {},
   "source": [
    "**&#9989; Task 3.6:** Compare your solution to a solution that would use loops, and no NumPy operations.\n",
    "- What would be the main similarities and differences?\n",
    "- Which solution has cleaner syntax?\n",
    "- Which solution makes more common sense to you?\n",
    "- What questions do you have about NumPy operations?"
   ]
  },
  {
   "cell_type": "markdown",
   "id": "747fef21-8344-4e73-8ce6-e457ab4ac548",
   "metadata": {},
   "source": [
    "**/your answer here/**"
   ]
  },
  {
   "cell_type": "markdown",
   "id": "a3ff54e8-aaa2-4430-95fd-90e48394e61d",
   "metadata": {},
   "source": [
    "#### &#128721; **Stop here and check your progress with an instructor.**"
   ]
  }
 ],
 "metadata": {
  "kernelspec": {
   "display_name": "Python 3 (ipykernel)",
   "language": "python",
   "name": "python3"
  },
  "language_info": {
   "codemirror_mode": {
    "name": "ipython",
    "version": 3
   },
   "file_extension": ".py",
   "mimetype": "text/x-python",
   "name": "python",
   "nbconvert_exporter": "python",
   "pygments_lexer": "ipython3",
   "version": "3.12.4"
  }
 },
 "nbformat": 4,
 "nbformat_minor": 5
}
