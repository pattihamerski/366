{
 "cells": [
  {
   "cell_type": "markdown",
   "id": "6bdb82cf-44a8-485c-aa04-ba9b74d1628e",
   "metadata": {},
   "source": [
    "# Day 1: Intro to PH 365"
   ]
  },
  {
   "cell_type": "markdown",
   "id": "1e089f01-7c66-4914-8247-6e26d34aeef3",
   "metadata": {},
   "source": [
    "#### &#128721; STOP HERE AND READ\n",
    "\n",
    "Activities and assignments in PH 365 are delivered as Python notebook files (.ipynb) like this one. To start, you'll need to know these basics: \n",
    "- You can edit this file and save your progress as you go. Save by clicking the &#128190; icon in the top left, or `File`--> `Save Notebook`.\n",
    "- To edit a chunk of text or code, double-click it.\n",
    "- To run the cell and leave edit mode, click the play button in the toolbar or hit `Shift` + `Enter`."
   ]
  },
  {
   "cell_type": "markdown",
   "id": "5bbef9c9-abb3-43c7-a7ea-60e595810be6",
   "metadata": {},
   "source": [
    "Throughout the term, you can look for &#128721; to indicate places you need to read more carefully, and &#9989; to indicate places where you need work on a task. You can begin by double-clicking the cell below, and entering your name."
   ]
  },
  {
   "cell_type": "markdown",
   "id": "11303bf7-e91d-47b0-a0cd-026b19a68eda",
   "metadata": {},
   "source": [
    "### &#9989; Write your name here"
   ]
  },
  {
   "cell_type": "markdown",
   "id": "7b225936-f131-4bce-964b-f40d4063273f",
   "metadata": {},
   "source": [
    "---\n",
    "\n",
    "## Part 1: Try out some Python notebook functionalities\n",
    "\n",
    "&#9989; **Task 1.1:** To run a cell that has Python code in it, select the cell and press `Shift` + `Enter`. Try it with the cell below."
   ]
  },
  {
   "cell_type": "code",
   "execution_count": 3,
   "id": "c33fcba6-050c-469a-9649-9e6d4556d26f",
   "metadata": {
    "tags": []
   },
   "outputs": [
    {
     "name": "stdout",
     "output_type": "stream",
     "text": [
      "Go Beavs\n"
     ]
    }
   ],
   "source": [
    "a = \"Go\"\n",
    "b = \"Beavs\"\n",
    "\n",
    "# print out a and b in sequence\n",
    "print(a, b)"
   ]
  },
  {
   "cell_type": "markdown",
   "id": "b737e7aa-2164-428a-ab77-137c84029fbb",
   "metadata": {},
   "source": [
    "The computer performs several different actions when you ran the cell above. We will learn more about these processes in the next couple weeks:\n",
    "- The variable `a` was assigned the value `\"Go\"`\n",
    "- The variable `b` was assigned the value `\"Beavs\"`\n",
    "- The computer skipped over the empty line and the comment (comments begin with `#` and are stylized in italicized teal)\n",
    "- The computer ran the `print` function, applied to `a` and `b` -- this caused the computer to print each variable value below the cell, separated by spaces\n",
    "\n",
    "Python notebooks can contain alternating blocks of code and text, as you can see above. This allows you write a combination of written explanations and code.\n",
    "\n",
    "Some cells look different than others -- there are markdown cells which are white (like this cell), and when you run them they turn into paragraph text.\n",
    "\n",
    "There are also code cells which are gray, and when you run them the computer performs the instructions written in code. You can also tell when a cell is a code cell because of the brackets to the left of it (the number inside the brackets tells you when you last ran the code)."
   ]
  },
  {
   "cell_type": "markdown",
   "id": "f862902d-811a-486b-a266-364bef3bfb2e",
   "metadata": {},
   "source": [
    "&#9989; **Task 1.2:** Create new code cell and a new markdown cell below this one, using the toolbar at the top of this notebook. The &#10133; can be used to create a new cell, and the Markdown/Code dropdown can be used to toggle the cell type.\n",
    "\n",
    "In your new code cell, copy this code and run it:\n",
    "\n",
    "```\n",
    "c = (a + b) * 10\n",
    "print(c)\n",
    "```\n",
    "\n",
    "In your new markdown cell, write a short explanation of what you think the `+` and `*` operators are doing the code you ran.\n"
   ]
  },
  {
   "cell_type": "markdown",
   "id": "e80d4fd3-19de-4843-ab0e-66d2318c47f7",
   "metadata": {},
   "source": [
    "(Your new cells should go above this one)\n",
    "\n",
    "You just used the values stored in the variables `a` and `b` from the first code cell. As you work in Python notebooks and run code, the variables you define* can be used in other code cells within the same file. This allows you to build on code you've already written, and create more complex programs without needing to code everything all at once in the same cell.\n",
    "\n",
    "\\* *\"Defining variables\" is something you will do a lot in this class. It means running a line of code that looks like* `variable = value`, *where the variable always goes on the left side, and the assigned value goes on the right. When you ran the first code cell, the computer assigned* `a` *to have the value* `\"Go\"` *, and* `b` *to have the value* `\"Beavs\"`."
   ]
  },
  {
   "cell_type": "markdown",
   "id": "623f9174-beee-4729-bcfa-0e12569ab0dd",
   "metadata": {},
   "source": [
    "---\n",
    "\n",
    "## &#9989; Part 2: Day 1 Survey\n",
    "\n",
    "Fill out the survey below in order to get credit for participating today. It is a get-to-know-you survey to help your instructors better understand your background.\n",
    "\n",
    "You can run the cell to fill it out inside this notebook, or you can follow the [**link here**](https://docs.google.com/forms/d/e/1FAIpQLSejzfWkxX5EmoVvzpMUvgYWEFMK1Vyekso2lIzSv9FcQf6nfQ/viewform?usp=sf_link)."
   ]
  },
  {
   "cell_type": "code",
   "execution_count": 4,
   "id": "046989d3-81c3-429a-927a-ea9fae6bd8bc",
   "metadata": {},
   "outputs": [
    {
     "data": {
      "text/html": [
       "\n",
       "<iframe src=\"https://docs.google.com/forms/d/e/1FAIpQLSejzfWkxX5EmoVvzpMUvgYWEFMK1Vyekso2lIzSv9FcQf6nfQ/viewform?usp=sf_link\"\n",
       "width=\"800px\"\n",
       "height=\"600px\"\n",
       "frameborder=\"0\"\n",
       "marginheight=\"0\"\n",
       "marginwidth=\"0\">Loading...</iframe>\n"
      ],
      "text/plain": [
       "<IPython.core.display.HTML object>"
      ]
     },
     "execution_count": 4,
     "metadata": {},
     "output_type": "execute_result"
    }
   ],
   "source": [
    "from IPython.display import HTML\n",
    "HTML(\n",
    "\"\"\"\n",
    "<iframe src=\"https://docs.google.com/forms/d/e/1FAIpQLSejzfWkxX5EmoVvzpMUvgYWEFMK1Vyekso2lIzSv9FcQf6nfQ/viewform?usp=sf_link\"\n",
    "width=\"800px\"\n",
    "height=\"600px\"\n",
    "frameborder=\"0\"\n",
    "marginheight=\"0\"\n",
    "marginwidth=\"0\">Loading...</iframe>\n",
    "\"\"\"\n",
    ")"
   ]
  },
  {
   "cell_type": "markdown",
   "id": "d79df48c-387d-44ca-ae66-4ad71fdcc5a6",
   "metadata": {},
   "source": [
    "---\n",
    "\n",
    "#### &#128721; That's it! You are done with this assignment. At the end of every assignment, make sure you:\n",
    "\n",
    "1. If you have not renamed your file, you can alter `day#-assignment-STUDENT` at the top of the page to include your own name. This will make the file easier to find on your computer.\n",
    "2. Save your file (click the &#128190; icon or `File`--> `Save Notebook`).\n",
    "3. If there is a &#128721; (like in this assignment!), call the instructor or an LA over to check in.\n",
    "4. Submit your completed **.ipynb** file to the Canvas assignment. Then is when you will need to make sure you can find the file on your computer.\n",
    "5. Once an instructor gives you the okay and you submit your assignment, you're welcome to pack up and head out. On most days, we will end with some sort of group activity or discussion, so you will not be able to leave early, but today you can do so after completing the individual survey and these steps."
   ]
  }
 ],
 "metadata": {
  "kernelspec": {
   "display_name": "Python 3 (ipykernel)",
   "language": "python",
   "name": "python3"
  },
  "language_info": {
   "codemirror_mode": {
    "name": "ipython",
    "version": 3
   },
   "file_extension": ".py",
   "mimetype": "text/x-python",
   "name": "python",
   "nbconvert_exporter": "python",
   "pygments_lexer": "ipython3",
   "version": "3.12.4"
  }
 },
 "nbformat": 4,
 "nbformat_minor": 5
}
